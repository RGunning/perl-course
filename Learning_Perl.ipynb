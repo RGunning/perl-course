{
 "metadata": {
  "name": "Learning_Perl"
 },
 "nbformat": 3,
 "nbformat_minor": 0,
 "worksheets": [
  {
   "cells": [
    {
     "cell_type": "markdown",
     "metadata": {},
     "source": [
      "#<center>Learning Perl</center>\n",
      "<center>based on Sofia Robb's course: <a href = \"http://sofiarobb.com/learning-perl-toc/\">`http://sofiarobb.com/learning-perl-toc/`</a></center>\n",
      "<center>converted to an <a href=\"http://ipython.org/ipython-doc/dev/interactive/htmlnotebook.html\">IPython notebook</a>, with minor changes, by Graham Ritchie</center>"
     ]
    },
    {
     "cell_type": "heading",
     "level": 1,
     "metadata": {},
     "source": [
      "Lesson 1: Perl script skeleton"
     ]
    },
    {
     "cell_type": "markdown",
     "metadata": {},
     "source": [
      "Perl is widely used by biologists to solve problems we encounter when handling DNA and protein sequences, file format conversions, as well as many any other tasks that are computationally repetitive. Perl is not the only language for these tasks but one of many. \n",
      "\n",
      "Perl comes preinstalled on Macs and Linux distributions. It can be downloaded for PCs (see [perl.org](http://www.perl.org/get.html#win32) for details; [Strawberry Perl](http://strawberryperl.com) is a good choice). \n",
      "\n",
      "Perl is designed to work like a natural language. Just as there are many different ways to say roughly the same thing in a natural language, so there are many different ways to solve a problem using Perl. Perl's motto is [\"There's More Than One Way To Do It\"](http://en.wikipedia.org/wiki/There's_more_than_one_way_to_do_it). This has advantages and disadvantages. On the one hand, Perl can be easily adopted by many different communities and applied to many different problems; it is heavily used by organisations like the [BBC](http://www.bbc.co.uk/guidelines/futuremedia/technical/perl.shtml) and [Amazon](http://highscalability.com/amazon-architecture) and was instrumental in the completion of the [Human Genome Project](http://www.bioperl.org/wiki/How_Perl_saved_human_genome). On the other hand, it can be horribly abused, just like [natural languages](http://icanhas.cheezburger.com/lolcats).\n",
      "\n",
      "In this course, we will teach the basic vocabulary and grammar of the Perl language, using some simple bioinformatics examples. However, as bioinformatics covers a multitude of different topics, we recommend that you consider the problems you are trying to solve in your research and try to apply Perl to these problems throughout the course.\n",
      "\n",
      "As some people on the course have not programmed before, we assume no previous experience throughout. The pace will therefore be slow for people who have used other programming languages. Please feel free to read ahead."
     ]
    },
    {
     "cell_type": "markdown",
     "metadata": {},
     "source": [
      "Perl programs (also known as scripts) are series of instructions that we save in plain text files. As computers do not understand Perl directly, our scripts must be processed by a program called the Perl interpreter, which translates the scripts into machine language. This program is run from the command line. To get started with Perl, we must get acquainted with the command line.\n",
      "\n",
      "1. Open the text editor gedit (icon in the menu on the left side of the screen) and save a file called \"`central_dogma.pl`\" containing the following line:\n",
      "    - `print \"Once information has passed into protein it cannot get out again\\n\";`\n",
      "\n",
      "    Note the directory that you save the file into. Now open up the Terminal (also in the left hand menu). We want to move to the directory containing the file you just saved, and run the Perl interpreter on that file.\n",
      "\n",
      "\n",
      "2. Enter the command `pwd` (on Linux or Mac) or `cd` (on Windows) to see which directory you are in. If it's not the directory that contains your script, use the command `ls`  (on Linux or Mac) or `dir` (on Windows) to see what the directory contains. If you see your directory in the list - let's say it's called `mydir` - you can move into that directory by entering the command `cd mydir`. Check that `mydir` contains your `central_dogma.pl` script using `ls` or `dir`.\n",
      "\n",
      "3. Run the Perl interpreter by typing:\n",
      "    - `perl central_dogma.pl`\n",
      "\n",
      "The script you just ran contains one *command*, which `print`s the *string* \"Once information has passed into protein it cannot get out again\" to the screen, and moves the cursor to a new line (`\\n`). The semi-colon is used to punctuate the end of a command. "
     ]
    },
    {
     "cell_type": "markdown",
     "metadata": {},
     "source": [
      "You can work through the rest of the course using the interpreter in this way. However, you may find it useful to add the following features to your script. If you find them confusing, however, feel free to skip to Lesson 2 for now.\n",
      "\n",
      "1. If there is an error in your code that the interpreter can't make sense of, it will fail to run. But it can also warn you about problems in the code that it can interpret, but which are probably not going to work correctly. You can turn on these warnings by putting this at the top of your script:\n",
      "    - `use warnings;`\n",
      "\n",
      "2. It's useful to annotate your scripts with human-readable comments. Perl ignores anything on a line that follows a hash symbol. So we could have written:\n",
      "    - `# central_dogma.pl`\n",
      "    - `# Print the Central Dogma of Molecular Biology`\n",
      "    - `print \"Once information has passed into protein it cannot get out again\\n\" # See Crick 1970`\n",
      "\n",
      "In this case, the comments are not very useful, but when we get to writing more complicated code it is very useful to make notes in comments, to remind ourselves how the code works when we come to read it months or years later.\n",
      "\n",
      "3. It's useful to run scripts directly at the command line, without using the Perl interpreter, like this:\n",
      "    - `central_dogma.pl`\n",
      "\n",
      "    You don't have to do this for this course, but if you want to in future, and you are using Linux or a Mac, you can add this line to the top of your scripts:\n",
      "    - `#!/usr/bin/env perl`\n",
      "\n",
      "    If you do this, you will also need to make your script *executable*, that is, runnable by the Terminal. You can do this by changing the file's permissions using the `chmod` command. This is how we add execute access (`x`) to our script:\n",
      "    - `chmod +x central_dogma.pl`\n",
      "\n",
      "4. Many Perl guides will tell you to add `use strict;` to every script you write (like `use warnings;` above). This tells the Perl interpreter to complain if you use some of the more dangerous Perl idioms in your code. It's not too important for the course, as we won't be using any of those idioms, but it's not a bad idea to use it in scripts you write and actually use."
     ]
    },
    {
     "cell_type": "markdown",
     "metadata": {},
     "source": [
      "Putting it all together, the complete script:"
     ]
    },
    {
     "cell_type": "code",
     "collapsed": false,
     "input": [
      "%%perl\n",
      "#!/usr/bin/env perl\n",
      "# central_dogma.pl\n",
      "# Print the Central Dogma of Molecular Biology\n",
      "use strict;\n",
      "use warnings;\n",
      "print \"Once information has passed into protein it cannot get out again\\n\" # See Crick 1970"
     ],
     "language": "python",
     "metadata": {},
     "outputs": []
    },
    {
     "cell_type": "markdown",
     "metadata": {},
     "source": [
      "Running the script and the output:"
     ]
    },
    {
     "cell_type": "code",
     "collapsed": false,
     "input": [
      "%%bash \n",
      "chmod +x central_dogma.pl\n",
      "./central_dogma.pl"
     ],
     "language": "python",
     "metadata": {},
     "outputs": []
    },
    {
     "cell_type": "markdown",
     "metadata": {},
     "source": [
      "-----"
     ]
    },
    {
     "cell_type": "heading",
     "level": 1,
     "metadata": {},
     "source": [
      "Lesson 2: Values and variables"
     ]
    },
    {
     "cell_type": "markdown",
     "metadata": {},
     "source": [
      "Typically, we want to process some data using Perl and produce some output. This means we have a set of values and we want to transform these into some other, more useful information. In Perl, we create data structures to hold our values, which we can then manipulate. We call these variables, because we can change their values as we progress through our analysis.\n",
      "\n",
      "There are three major types of data structures we typically use in Perl: scalars, arrays and hashes. Scalars are single values, such as numbers or characters. Strings of characters also count as single values in Perl. Arrays are ordered lists of values, whereas hashes are unordered collections of values. Variable names of each type begin with a symbol that identifies the variable as a scalar, array or hash. The symbols are given in the table below.\n",
      "\n",
      "<table>\n",
      "    <tr><td>Scalar</td><td><tt>$</tt></td><td>single values</td></tr>\n",
      "    <tr><td>Array</td><td><tt>@</tt></td><td>ordered lists of scalars</td></tr>\n",
      "    <tr><td>Hash</td><td><tt>%</tt></td><td>unordered collections of scalars</td></tr>\n",
      "</table>\n",
      "\n"
     ]
    },
    {
     "cell_type": "markdown",
     "metadata": {},
     "source": [
      "Values can be assigned to variables using the assignment operator `=`. For example (all code needs to have the complete script skeleton from Lesson 1 but we will leave it out of the notes in further examples):"
     ]
    },
    {
     "cell_type": "code",
     "collapsed": false,
     "input": [
      "%%perl\n",
      "# scalar_assignment.pl\n",
      "# use 'my' the FIRST time you use a variable\n",
      "# this is a part of the strict module\n",
      "my $serine = \"TCA\";\n",
      "my $codonLength = 3;\n",
      "print \"Codon $codon has $codonLength bases\\n\";"
     ],
     "language": "python",
     "metadata": {},
     "outputs": []
    },
    {
     "cell_type": "markdown",
     "metadata": {},
     "source": [
      "We can change the value of a variable by using the same assignment operator:"
     ]
    },
    {
     "cell_type": "code",
     "collapsed": false,
     "input": [
      "%%perl\n",
      "# scalar_reassignment.pl\n",
      " \n",
      "my $serine = \"TCA\";\n",
      "print \"Serine is coded by $serine\\n\";\n",
      "$serine = \"TCC\";\n",
      "print \"Serine is also coded by $serine\\n\";"
     ],
     "language": "python",
     "metadata": {},
     "outputs": []
    },
    {
     "cell_type": "markdown",
     "metadata": {},
     "source": [
      "We can even use the value of a variable when we change its value, for example if we wanted to count something:"
     ]
    },
    {
     "cell_type": "code",
     "collapsed": false,
     "input": [
      "%%perl\n",
      "# scalar_reassignment.pl\n",
      " \n",
      "my $num = 33;\n",
      "print \"1: $num\\n\";\n",
      "$num = $num + 1;\n",
      "print \"2: $num\\n\";"
     ],
     "language": "python",
     "metadata": {},
     "outputs": []
    },
    {
     "cell_type": "markdown",
     "metadata": {},
     "source": [
      "Another example of scalar reassignment:"
     ]
    },
    {
     "cell_type": "code",
     "collapsed": false,
     "input": [
      "%%perl\n",
      "# scalar_reassignment_2.pl\n",
      " \n",
      "my $dogma = \"Once information gets into protein\";\n",
      "print \"1: $dogma\\n\";\n",
      " \n",
      "# '.' text concatenation operator\n",
      "$dogma = $dogma . \" it cannot get out again\";\n",
      "print \"2: $dogma\\n\";\n",
      " \n",
      "$dogma = \"DNA makes RNA makes Protein\";\n",
      "print \"3: $dogma\\n\";"
     ],
     "language": "python",
     "metadata": {},
     "outputs": []
    },
    {
     "cell_type": "markdown",
     "metadata": {},
     "source": [
      "#### Scalars\n",
      "\n",
      "<table>\n",
      "    <tr><th>type of scalar</th><th>examples</th></tr>\n",
      "    <tr><td>number: integers</td><td><tt>-1 1 101 1</tt></td></tr>\n",
      "    <tr><td>number: floating-points</td><td><tt>-0.1 0.1 100.1</tt></td></tr>\n",
      "    <tr><td>string: letters</td><td><tt>\"a\" \"A\" \"Z\" \"z\"</tt></td></tr>\n",
      "    <tr><td>string: words</td><td><tt>\"Pickle\" \"tickle\"</tt></td></tr>\n",
      "    <tr><td>string: words and spaces and punctuation</td><td><tt>\"Over the sun and beyond the blue.\"\n",
      "</tt></td></tr>\n",
      "    <tr><td>reference</td><td>(see later lessons)</td></tr>\n",
      "</table>"
     ]
    },
    {
     "cell_type": "markdown",
     "metadata": {},
     "source": [
      "#### Single and Double Quotes\n",
      "\n",
      "If you put a variable such as `\u201c$codon\u201d` inside of double quotes in a `print` statement, the value of `$codon` will be printed, but if you put `\u2018$codon\u2019` inside of single quotes you will literally get `$text`. The same is true for special characters like the newline `\u201c\\n\u201d`."
     ]
    },
    {
     "cell_type": "code",
     "collapsed": false,
     "input": [
      "%%perl\n",
      "my $codon = \"ACG\";\n",
      "print \"$codon\\n\";\n",
      "print '$codon\\n';"
     ],
     "language": "python",
     "metadata": {},
     "outputs": []
    },
    {
     "cell_type": "markdown",
     "metadata": {},
     "source": [
      "#### Exercises\n",
      "\n",
      "1. Look up the genetic code. Create a number of scalar variables that store possible DNA encodings of serine (S), leucine (L), tyrosine (Y) and cysteine (C). Where multiple codings are available, just pick one for now.\n",
      "2. Create a variable containing a possible DNA sequence for the protein sequence `SYLYC`. Use the concatenation operator."
     ]
    },
    {
     "cell_type": "markdown",
     "metadata": {},
     "source": [
      "-----"
     ]
    },
    {
     "cell_type": "heading",
     "level": 1,
     "metadata": {},
     "source": [
      "Lesson 3: Arrays"
     ]
    },
    {
     "cell_type": "markdown",
     "metadata": {
      "slideshow": {
       "slide_type": "subslide"
      }
     },
     "source": [
      "An array is an ordered list of scalars. The scalars do not all need to be of the same kind."
     ]
    },
    {
     "cell_type": "code",
     "collapsed": false,
     "input": [
      "%%perl\n",
      "my @numbers = (22,103,1,0);\n",
      "my @aminoAcids = (\"Serine\",\"Tyrosine\",\"Leucine\",\"Tyrosine\",\"Cysteine\");\n",
      "my $serine = \"TCA\";\n",
      "my @mixed = (23,$serine,0.3,\"Histone\");"
     ],
     "language": "python",
     "metadata": {
      "slideshow": {
       "slide_type": "subslide"
      }
     },
     "outputs": []
    },
    {
     "cell_type": "markdown",
     "metadata": {},
     "source": [
      "There are a number of different ways to print arrays. For example, we can dump the elements of an array one after the other:\n",
      "\n",
      "- Prints the array without a space between elements"
     ]
    },
    {
     "cell_type": "code",
     "collapsed": false,
     "input": [
      "%%perl\n",
      "my @aminoAcids = (\"Serine\",\"Tyrosine\",\"Leucine\",\"Tyrosine\",\"Cysteine\");\n",
      "\n",
      "print \"Amino acids: \" , @aminoAcids , \"\\n\";"
     ],
     "language": "python",
     "metadata": {},
     "outputs": []
    },
    {
     "cell_type": "markdown",
     "metadata": {},
     "source": [
      "But this isn't very readable. We can do better by enclosing the array variable in double quotes, which inserts a space after each element in the array:"
     ]
    },
    {
     "cell_type": "code",
     "collapsed": false,
     "input": [
      "%%perl\n",
      "my @aminoAcids = (\"Serine\",\"Tyrosine\",\"Leucine\",\"Tyrosine\",\"Cysteine\");\n",
      "print \"Amino acids, spaced: @aminoAcids\\n\";"
     ],
     "language": "python",
     "metadata": {},
     "outputs": []
    },
    {
     "cell_type": "markdown",
     "metadata": {},
     "source": [
      "We will see a third way later on when we look at the `join` function.\n",
      "\n",
      "We can access individual elements of an array by using their index. Each element is given a unique number, an index, corresponding to their place in the array. In Perl, counting starts from 0, so the first element of the array has index 0, the second has index 1 and so on. We access elements using square brackets:"
     ]
    },
    {
     "cell_type": "code",
     "collapsed": false,
     "input": [
      "%%perl -w\n",
      "my @aminoAcids = (\"Serine\",\"Tyrosine\",\"Leucine\",\"Tyrosine\",\"Cysteine\");\n",
      "print $aminoAcids[2], \"\\n\";\n",
      "print $aminoAcids[0], \"\\n\";\n",
      "print $aminoAcids[-1], \"\\n\";"
     ],
     "language": "python",
     "metadata": {},
     "outputs": []
    },
    {
     "cell_type": "markdown",
     "metadata": {},
     "source": []
    },
    {
     "cell_type": "code",
     "collapsed": false,
     "input": [
      "%%perl -w\n",
      "my @aminoAcids = (\"Serine\",\"Tyrosine\",\"Leucine\",\"Tyrosine\",\"Cysteine\");\n",
      "$aminoAcids[2] = \"Cysteine\";\n",
      "print \"@aminoAcids\\n\";\n",
      "$aminoAcids[5] = \"STOP\";\n",
      "print \"@aminoAcids\\n\";"
     ],
     "language": "python",
     "metadata": {},
     "outputs": []
    },
    {
     "cell_type": "markdown",
     "metadata": {},
     "source": [
      "Arrays can be included in other arrays, but the result is just one flat array. For example, if two arrays of three elements each are merged together, the result is an array containing the six elements, not an array containing two arrays."
     ]
    },
    {
     "cell_type": "code",
     "collapsed": false,
     "input": [
      "%%perl -w\n",
      "my @serine = ('T','C','A');\n",
      "print \"@serine\\n\";\n",
      "my @cysteine = ('T', 'G', 'T');\n",
      "print \"@cysteine\\n\";\n",
      "my @sc = (@serine, @cysteine);\n",
      "print \"@sc\\n\";\n",
      "print \"$sc[4]\\n\";"
     ],
     "language": "python",
     "metadata": {},
     "outputs": []
    },
    {
     "cell_type": "markdown",
     "metadata": {},
     "source": [
      "We can get the length of an array like this:"
     ]
    },
    {
     "cell_type": "code",
     "collapsed": false,
     "input": [
      "%%perl -w\n",
      "my @serine = ('T','C','A');\n",
      "my $length = @serine;\n",
      "print \"$length\";"
     ],
     "language": "python",
     "metadata": {},
     "outputs": []
    },
    {
     "cell_type": "markdown",
     "metadata": {},
     "source": [
      "This is called accessing an array in scalar context. `$length` is a scalar, so when we set the array `@serine` as the value of the scalar `$length`, Perl interprets this to mean we want the length of the array. This is just a convention - Perl could, for example, return the first element of the array instead - but it is a useful convention that we will use often."
     ]
    },
    {
     "cell_type": "markdown",
     "metadata": {},
     "source": [
      "#### Exercises\n",
      "\n",
      "1. Create an array for the protein sequence `CLYSY` where the elements of the array are DNA codon sequences. Use the codon variables you defined in the last lesson.\n",
      "2. Print the DNA sequence of the protein to the screen, with and without spaces between each codon.\n",
      "3. Print the DNA sequence of the last amino acid in the protein by accessing this element from the array.\n",
      "4. Create an additional stop codon variable and add the DNA for stop to your DNA sequence."
     ]
    },
    {
     "cell_type": "markdown",
     "metadata": {},
     "source": [
      "-----"
     ]
    },
    {
     "cell_type": "heading",
     "level": 1,
     "metadata": {},
     "source": [
      "Lesson 4: Hashes"
     ]
    },
    {
     "cell_type": "markdown",
     "metadata": {},
     "source": [
      "Arrays are very useful but not sufficient for many purposes. Often, we have a data set with no inherent order but where each entry has a particular value. For example, we may have a set of genes with expression levels, where we want to look up expression levels by gene name. There is no biological order to the gene names and we want to rapidly access particular genes without trawling through the whole data collection looking for it. Perl has a very efficient data structure for dealing with this situation - the hash."
     ]
    },
    {
     "cell_type": "code",
     "collapsed": false,
     "input": [
      "%%perl -w\n",
      "# hash_assignment.pl\n",
      " \n",
      "my %geneticCode = ('TAT' => 'Tyrosine',\n",
      "                   'TAC' => 'Tyrosine',\n",
      "                   'CAA' => 'Glutamine',\n",
      "                   'CAG' => 'Glutamine',\n",
      "                  );"
     ],
     "language": "python",
     "metadata": {},
     "outputs": []
    },
    {
     "cell_type": "markdown",
     "metadata": {},
     "source": [
      "Hashes have keys and values, and work like a dictionary - we look up the keys to find the matching values. The keys are like indices of an array, but they can be any scalar, not just a number, as long as they are unique in the hash. In the hash above, the DNA codons are the keys (`TAT`, `TAC` and so on) and the amino acids names are the values. As with arrays, the values can be any type and do not need to all be the same type, as long as they are scalars.\n",
      "\n",
      "We can access values from a hash by looking up their keys. We use curly brackets to do this, rather than the square brackets we used for array indices. As for array elements, a hash value is a scalar, not a hash, so we say `$geneticCode{'TAT'}`, not `%geneticCode{'TAT'}`."
     ]
    },
    {
     "cell_type": "code",
     "collapsed": false,
     "input": [
      "%%perl -w\n",
      "# hash_assignment.pl\n",
      " \n",
      "my %geneticCode = ('TAT' => 'Tyrosine',\n",
      "                   'TAC' => 'Tyrosine',\n",
      "                   'CAA' => 'Glutamine',\n",
      "                   'CAG' => 'Glutamine',\n",
      "                  );\n",
      "\n",
      "print $geneticCode{'TAT'};\n",
      "print \"\\n\";\n",
      "print $geneticCode{'CAG'};"
     ],
     "language": "python",
     "metadata": {},
     "outputs": []
    },
    {
     "cell_type": "markdown",
     "metadata": {},
     "source": [
      "We can extract the keys or values from a hash using the `keys` and `values` functions. These will return an unsorted array of the keys or values of the hash, which we can use like any other array (we will see how to sort these arrays later in the course)."
     ]
    },
    {
     "cell_type": "code",
     "collapsed": false,
     "input": [
      "%%perl -w\n",
      "# hash_assignment.pl\n",
      " \n",
      "my %geneticCode = ('TAT' => 'Tyrosine',\n",
      "                   'TAC' => 'Tyrosine',\n",
      "                   'CAA' => 'Glutamine',\n",
      "                   'CAG' => 'Glutamine',\n",
      "                  );\n",
      "\n",
      "my @codons = keys %geneticCode;\n",
      "my @aas = values %geneticCode;\n",
      "print \"@codons\\n\";\n",
      "print \"@aas\\n\";"
     ],
     "language": "python",
     "metadata": {},
     "outputs": []
    },
    {
     "cell_type": "markdown",
     "metadata": {},
     "source": [
      "We can add or update key-value pairs to the hash just as we could add new array elements, or delete them with the `delete` function. If we try to look up a non-existent key, Perl will complain, as long as we are using warnings (`-w`)."
     ]
    },
    {
     "cell_type": "code",
     "collapsed": false,
     "input": [
      "%%perl -w\n",
      "# hash_assignment.pl\n",
      " \n",
      "my %geneticCode = ('TAT' => 'Tyrosine',\n",
      "                   'TAC' => 'Tyrosine',\n",
      "                   'CAA' => 'Glutamine',\n",
      "                   'CAG' => 'Glutamine',\n",
      "                  );\n",
      "\n",
      "$geneticCode{'TGA'} = 'Cysteine';\n",
      "print \"$geneticCode{'TGA'}\\n\";\n",
      "$geneticCode{'TGA'} = 'STOP'; # Whoops! Got the assignment wrong the first time\n",
      "print \"$geneticCode{'TGA'}\\n\";\n",
      "delete $geneticCode{'TGA'};\n",
      "print \"$geneticCode{'TGA'}\\n\";"
     ],
     "language": "python",
     "metadata": {},
     "outputs": []
    },
    {
     "cell_type": "markdown",
     "metadata": {},
     "source": [
      "#### Exercise\n",
      "1. Print out the names of the amino acids that would be produced by the DNA sequence `\"GTT GCA CCA CAA CCG GTT GTG\"`. Use a hash to do this, similar to the `%geneticCode` hash above.\n",
      "2. Why couldn't we build a hash where the keys are names of amino acids and the values are the DNA codons?"
     ]
    },
    {
     "cell_type": "markdown",
     "metadata": {},
     "source": [
      "-----"
     ]
    },
    {
     "cell_type": "heading",
     "level": 1,
     "metadata": {},
     "source": [
      "Lesson 5: Loops"
     ]
    },
    {
     "cell_type": "markdown",
     "metadata": {},
     "source": [
      "In the exercise for Lesson 4, perhaps you ended up writing something like this:"
     ]
    },
    {
     "cell_type": "code",
     "collapsed": false,
     "input": [
      "%%perl -w\n",
      "# hash_assignment.pl\n",
      " \n",
      "my %geneticCode = ('TAT' => 'Tyrosine',\n",
      "                   'TAC' => 'Tyrosine',\n",
      "                   'CAA' => 'Glutamine',\n",
      "                   'CAG' => 'Glutamine',\n",
      "                  );\n",
      "\n",
      "my @sequence = ('CAA','CAG','TAC');\n",
      "print $geneticCode{$sequence[0]};\n",
      "print $geneticCode{$sequence[1]};\n",
      "print $geneticCode{$sequence[2]};"
     ],
     "language": "python",
     "metadata": {},
     "outputs": []
    },
    {
     "cell_type": "markdown",
     "metadata": {},
     "source": [
      "Repeating the last line of code several times is not ideal. We have to type, or copy and paste, the same thing multiple times and if we wanted to change what we were doing with each amino acid name, we would have to change every line (for example, we forgot to print a new line or a space after each name). It would be much easier to just write the line once and then execute that line for every item in the array. We can do this with a for loop:"
     ]
    },
    {
     "cell_type": "code",
     "collapsed": false,
     "input": [
      "%%perl\n",
      "my %geneticCode = ('TAT' => 'Tyrosine',\n",
      "                   'TAC' => 'Tyrosine',\n",
      "                   'CAA' => 'Glutamine',\n",
      "                   'CAG' => 'Glutamine',\n",
      "                  );\n",
      "\n",
      "my @sequence = ('CAA','CAG','TAC');\n",
      "\n",
      "foreach my $codon (@sequence) {\n",
      "   print \"$geneticCode{$codon}\\n\";\n",
      "}\n"
     ],
     "language": "python",
     "metadata": {},
     "outputs": []
    },
    {
     "cell_type": "markdown",
     "metadata": {},
     "source": [
      "Because '`keys %hash`' is an array, we can also loop over the entries in a hash in the same way:"
     ]
    },
    {
     "cell_type": "code",
     "collapsed": false,
     "input": [
      "%%perl\n",
      "my %geneExpression = ('Beta-Catenin' => 2.5,\n",
      "                   'Beta-Actin' => 1.7,\n",
      "                   'Pax6' => 0,\n",
      "                   'HoxA2' => -3.2,\n",
      "                  );\n",
      "\n",
      "foreach my $gene (keys %geneExpression) {\n",
      "    print \"$geneExpression{$gene}\\n\";\n",
      "}"
     ],
     "language": "python",
     "metadata": {},
     "outputs": []
    },
    {
     "cell_type": "markdown",
     "metadata": {},
     "source": [
      "Perl has another type of loop which can also be used to iterate over a hash, among other things - the while loop:"
     ]
    },
    {
     "cell_type": "code",
     "collapsed": false,
     "input": [
      "%%perl\n",
      "my %geneExpression = ('Beta-Catenin' => 2.5,\n",
      "                   'Beta-Actin' => 1.7,\n",
      "                   'Pax6' => 0,\n",
      "                   'HoxA2' => -3.2,\n",
      "                  );\n",
      "\n",
      "while (my $gene = each %geneExpression) {\n",
      "    print \"$geneExpression{$gene}\\n\";\n",
      "}"
     ],
     "language": "python",
     "metadata": {},
     "outputs": []
    },
    {
     "cell_type": "markdown",
     "metadata": {},
     "source": [
      "Like the for loop, the while loop executes the block of code within curly brackets. The difference is that, whereas the for loop takes an array and does something with each element of the array, the while loop takes a logical test and runs until that test is false. So here it runs until each of the genes in `%geneExpression` have been processed. Let's say we want to write out the first five codons of a gene's DNA sequence:"
     ]
    },
    {
     "cell_type": "code",
     "collapsed": false,
     "input": [
      "%%perl -w\n",
      "my @sequence = ('CAA','CAG','TAG','CAT','GGT','GAG','GGC','CAG');\n",
      "\n",
      "my $i = 0;\n",
      "while ($i<5) {\n",
      "    print \"$sequence[$i] \";\n",
      "    $i = $i + 1;\n",
      "}"
     ],
     "language": "python",
     "metadata": {},
     "outputs": []
    },
    {
     "cell_type": "markdown",
     "metadata": {},
     "source": [
      "#### Exercises\n",
      "\n",
      "1. Create an array where each element is an individual base of DNA. Make the array 15 bases long.\n",
      "2. Create a for loop to output every base of the sequence on a new line.\n",
      "3. Create a while loop similar to the one above that starts at the third base in the sequence and outputs every third base until the 12th."
     ]
    },
    {
     "cell_type": "markdown",
     "metadata": {},
     "source": [
      "-----"
     ]
    },
    {
     "cell_type": "heading",
     "level": 1,
     "metadata": {},
     "source": [
      "Lesson 6: If statements and loop control"
     ]
    },
    {
     "cell_type": "markdown",
     "metadata": {},
     "source": [
      "In the while loop above, we saw an example of a logical test: `($i<5)`. While this statement was true, the while loop continued; when it became false, the while loop ended. Another powerful control structure that uses logical tests is `if..elsif..else`."
     ]
    },
    {
     "cell_type": "code",
     "collapsed": false,
     "input": [
      "%%perl\n",
      "my %geneExpression = ('Beta-Catenin' => 2.5,\n",
      "                   'Beta-Actin' => 1.7,\n",
      "                   'Pax6' => 0,\n",
      "                   'HoxA2' => -3.2,\n",
      "                  );\n",
      "\n",
      "foreach my $gene (keys %geneExpression) {\n",
      "    if ($geneExpression{$gene} < 0) {\n",
      "        print \"$gene is downregulated\\n\";\n",
      "    }\n",
      "    elsif ($geneExpression{$gene} > 0) {\n",
      "        print \"$gene is upregulated\\n\";\n",
      "    }\n",
      "    else {\n",
      "        print \"No change in expression of $gene\\n\";\n",
      "    }\n",
      "}"
     ],
     "language": "python",
     "metadata": {},
     "outputs": []
    },
    {
     "cell_type": "markdown",
     "metadata": {},
     "source": [
      "The `elsif` block is optional, and we can use as many as we like. The `else` block is also optional, but it is good practice to include it in most cases, so that you think to do something explicitly with whatever doesn't pass the test in the `if` block. Otherwise, some cases might not pass the condition, and Perl would pass over them silently, which may not be what you want.\n",
      "\n",
      "There are many different comparison operators we can use in our logical tests. Strings and numbers have different operators.\n",
      "\n",
      "<table>\n",
      "    <tr><th>Operator</th><th>Description</th><th>Example</th></tr>\n",
      "    <tr><td><tt><</tt></td><td>numeric less than</td><td><tt>1 < 2 # True</tt></td></tr>\n",
      "    \n",
      "    <tr><td><tt>lt</tt></td><td>string less than</td><td><tt>'a' lt 'b' # True by ASCII order</tt></td></tr>\n",
      "    \n",
      "    <tr><td><tt>></tt></td><td>numeric greater then</td><td><tt>1 > 2 # False</tt></td></tr>\n",
      "    \n",
      "    <tr><td><tt>gt</tt></td><td>string greater than</td><td><tt>'a' gt 'b' # False</tt></td></tr>\n",
      "    \n",
      "    <tr><td><tt>==</tt></td><td>numeric equality</td><td><tt>1 == 2 # False</tt></td></tr>\n",
      "    \n",
      "    <tr><td><tt>eq</tt></td><td>string equality</td><td><tt>'a' eq 'b' # False</tt></td></tr>\n",
      "    \n",
      "    <tr><td><tt>!=</tt></td><td>numeric non equality</td><td><tt>1 != 2 # True</tt></td></tr>\n",
      "    \n",
      "    <tr><td><tt>ne</tt></td><td>string non equality</td><td><tt>'a' ne 'b' # True</tt></td></tr>\n",
      "    \n",
      "</table>\n",
      "\n",
      "For example, we might want to output only the nonsynonymous bases of a codon (the first and second bases) and ignore the third, synonymous base (because most amino acids are determined by the first and second bases alone)."
     ]
    },
    {
     "cell_type": "code",
     "collapsed": false,
     "input": [
      "%%perl\n",
      "\n",
      "my @sequence = ('T','A','C','G','G','C','A','T','C','T','A','G');\n",
      "\n",
      "my $i = 0;\n",
      "foreach my $base (@sequence) {\n",
      "    $i = $i + 1;\n",
      "    if ($i == 3) {\n",
      "      $i = 0;\n",
      "    }\n",
      "    else {\n",
      "      print \"$base\";\n",
      "    }\n",
      "}"
     ],
     "language": "python",
     "metadata": {},
     "outputs": []
    },
    {
     "cell_type": "markdown",
     "metadata": {},
     "source": [
      "Perl has a useful keyword that can simplify loops like this: `next`, which moves on to the next iteration of the loop if a condition is true:"
     ]
    },
    {
     "cell_type": "code",
     "collapsed": false,
     "input": [
      "%%perl\n",
      "\n",
      "my @sequence = ('T','A','C','G','G','C','A','T','C','T','A','G');\n",
      "\n",
      "my $i = 0;\n",
      "foreach my $base (@sequence) {\n",
      "    $i = $i + 1;\n",
      "    if ($i == 3) {\n",
      "      $i = 0;\n",
      "      next;\n",
      "    }\n",
      "    print \"$base\";\n",
      "}"
     ],
     "language": "python",
     "metadata": {},
     "outputs": []
    },
    {
     "cell_type": "markdown",
     "metadata": {},
     "source": [
      "Here we have omitted the else statement, against our advice above, and in this simple example the first version was probably better. But imagine if we had complex processing of the base to do, with perhaps ten or twenty lines of code following the if statement. If we used an else, we would have to enclose all of these lines in the else block, which would have made our code less readable than just placing them after the if statement.\n",
      "\n",
      "Perl also has a `last` keyword, which exits a loop if a condition is met:"
     ]
    },
    {
     "cell_type": "code",
     "collapsed": false,
     "input": [
      "%%perl\n",
      "\n",
      "my %geneticCode = ('TAT' => 'Tyrosine',\n",
      "                   'TAC' => 'Tyrosine',\n",
      "                   'CAA' => 'Glutamine',\n",
      "                   'CAG' => 'Glutamine',\n",
      "                   'TAG' => 'STOP',\n",
      "                  );\n",
      "\n",
      "my @sequence = ('CAG','TAC','CAA','TAG','TAC','CAG','CAA');\n",
      "\n",
      "foreach my $codon (@sequence) {\n",
      "   if ($geneticCode{$codon} eq 'STOP') {\n",
      "       last;\n",
      "   }\n",
      "   else {\n",
      "       print \"$geneticCode{$codon}\\n\";\n",
      "   }\n",
      "}"
     ],
     "language": "python",
     "metadata": {},
     "outputs": []
    },
    {
     "cell_type": "markdown",
     "metadata": {},
     "source": [
      "Here the amino acids in the sequence are printed until the `STOP` codon (`TAG`) is reached. We used the `else` here, but actually Perl provides a more readable syntax for if statements when there is only one command in the block (as here, the `last` command). We can just put the command before the `if` statement, and forget about the blocks:"
     ]
    },
    {
     "cell_type": "code",
     "collapsed": false,
     "input": [
      "%%perl\n",
      "\n",
      "my %geneticCode = ('TAT' => 'Tyrosine',\n",
      "                   'TAC' => 'Tyrosine',\n",
      "                   'CAA' => 'Glutamine',\n",
      "                   'CAG' => 'Glutamine',\n",
      "                   'TAG' => 'STOP',\n",
      "                  );\n",
      "\n",
      "my @sequence = ('CAG','TAC','CAA','TAG','TAC','CAG','CAA');\n",
      "\n",
      "foreach my $codon (@sequence) {\n",
      "   last if ($geneticCode{$codon} eq 'STOP');\n",
      "   print \"$geneticCode{$codon}\\n\";\n",
      "}"
     ],
     "language": "python",
     "metadata": {},
     "outputs": []
    },
    {
     "cell_type": "markdown",
     "metadata": {},
     "source": [
      "Finally for this lesson, we can chain multiple logical tests with `and` and `or` operators. We can either use the words `and` and `or`, or the symbols `&&` and `||`.\n",
      "<table>\n",
      "    <tr><th>Operator</th><th>Example</th><th>To be true</th></tr>\n",
      "    <tr><td><tt>&&</tt> (or <tt>and</tt>)</td><td><tt>$i < 50 && $i > 5</tt></td><td>Both conditions must be true</td></tr>\n",
      "    \n",
      "    <tr><td><tt>||</tt> (or <tt>or</tt>)</td><td><tt>str eq \"clock\" || $str ne \"black\"</tt></td><td>Only one condition needs to be true</td></tr>\n",
      "    \n",
      "</table>"
     ]
    },
    {
     "cell_type": "code",
     "collapsed": false,
     "input": [
      "%%perl\n",
      "my %geneExpression = ('Beta-Catenin' => 2.5,\n",
      "                   'Beta-Actin' => 1.7,\n",
      "                   'Pax6' => 0,\n",
      "                   'HoxA2' => -3.2,\n",
      "                  );\n",
      "\n",
      "foreach my $gene (keys %geneExpression) {\n",
      "    if ($geneExpression{$gene} < 0 or $geneExpression{$gene} > 0) {\n",
      "        print \"$gene has changed expression\\n\";\n",
      "    }\n",
      "    else {\n",
      "        print \"$gene has not changed expression\\n\";\n",
      "    }\n",
      "\n",
      "    if ($geneExpression{$gene} > 0 and $gene ne 'Beta-Actin') {\n",
      "        print \"$gene is upregulated and not a housekeeping gene\\n\";\n",
      "    }\n",
      "}"
     ],
     "language": "python",
     "metadata": {},
     "outputs": []
    },
    {
     "cell_type": "markdown",
     "metadata": {},
     "source": [
      "#### Exercises\n",
      "1. Let's calculate GC content of a DNA sequence. Use the 15-base array you created for the exercises in the lesson on loops. Create a variable, `$gc`, which we will use to count the number of Gs or Cs in our sequence.\n",
      "2. Create a loop to iterate over the bases in your sequence. If the base is a G or the base is a C, add one to your `$gc` variable.\n",
      "3. When the loop is done, divide the number of GC bases by the length of the sequence and multiply by 100 to get the GC percentage. Recall the array lesson to see how to get the length of the sequence. Just as we have been using '`+`' to add in Perl, to multiply, we use '`*`' and to divide, we use '`/`'. "
     ]
    },
    {
     "cell_type": "markdown",
     "metadata": {},
     "source": [
      "-----"
     ]
    },
    {
     "cell_type": "heading",
     "level": 1,
     "metadata": {},
     "source": [
      "Lesson 7: Introduction to functions: basic numeric operators"
     ]
    },
    {
     "cell_type": "markdown",
     "metadata": {},
     "source": [
      "In the next few lessons, we will introduce many of Perl's basic functions and operators for processing numbers, strings, arrays and hashes. We will see how to load functions from Perl modules and finally we will show how you can construct your own functions.\n",
      "\n",
      "A function is something that takes some input and produces some output. We have already seen several Perl functions: `print`, `keys`, `values` and `each` are all examples of functions. For example, `keys` takes a hash as input and returns the keys of the hash as output.\n",
      "\n",
      "Perl has many core operators and functions built into the language. For example, the following operators all take two numbers as input and produce two numbers as output:\n",
      "\n",
      "<table>\n",
      "    <tr><th>Operator</th><th>Summary</th><th>Example</th></tr>\n",
      "    <tr><td><tt>+</tt></td><td>addition</td><td><tt>2 + 2</tt></td></tr>\n",
      "    \n",
      "    <tr><td><tt>-</tt></td><td>subtraction</td><td><tt>5 - 3</tt></td></tr>\n",
      "    \n",
      "    <tr><td><tt>*</tt></td><td>multiplication</td><td><tt>4 * 4</tt></td></tr>\n",
      "    \n",
      "    <tr><td><tt>/</tt></td><td>division</td><td><tt>8 / 2</tt></td></tr>\n",
      "    \n",
      "    <tr><td><tt>%</tt></td><td>modulus, returns remainder</td><td><tt>10 % 2</tt></td></tr>\n",
      "    \n",
      "    <tr><td><tt>**</tt></td><td>exponent</td><td><tt>4**2</tt></td></tr>\n",
      "</table>"
     ]
    },
    {
     "cell_type": "code",
     "collapsed": false,
     "input": [
      "%%perl\n",
      "# addition\n",
      "print \"sum of 2 and 3 = \";\n",
      "my $num = 2 + 3;\n",
      "print \"$num\\n\";\n",
      "\n",
      "# subtraction\n",
      "print \"$num minus 2 = \";\n",
      "$num = $num - 2;\n",
      "print \"$num\\n\";\n",
      "\n",
      "# multiplication\n",
      "print \"product of $num and 3 = \";\n",
      "$num = $num * 2;\n",
      "print \"$num\\n\";\n",
      "\n",
      "# division\n",
      "print \"$num divided by 2 = \";\n",
      "$num = $num / 2;\n",
      "print \"$num\\n\";\n",
      "\n",
      "# modulus\n",
      "print \"the remainder of $num divided by 2 = \";\n",
      "my $remainder = $num % 2;\n",
      "print \"$remainder\\n\";\n",
      "\n",
      "# exponentiation\n",
      "print \"$remainder raised to the power 2 = \";\n",
      "$num = $remainder ** 2;\n",
      "print \"$num\\n\";"
     ],
     "language": "python",
     "metadata": {},
     "outputs": []
    },
    {
     "cell_type": "markdown",
     "metadata": {},
     "source": [
      "Perl has a couple of handy shortcuts for this kind of operation. Any of the above operators can be placed before the equals sign, so that instead of writing `$num = $num + 2` we can just write `$num += 2`. Also, to add or subtract one to or from a variable, we can use `++` or `--`:"
     ]
    },
    {
     "cell_type": "code",
     "collapsed": false,
     "input": [
      "%%perl\n",
      "my $num = 1;\n",
      "\n",
      "print \"Number was $num,\"\n",
      "$num *= 5;\n",
      "\n",
      "print \" now $num\\n\";\n",
      "\n",
      "# increment in place\n",
      "print \"$num + 1 = \";\n",
      "$num++;\n",
      "print \"$num\\n\";\n",
      "\n",
      "# decrement in place\n",
      "print \"$num - 1 = \";\n",
      "$num--;\n",
      "print \"$num\\n\";"
     ],
     "language": "python",
     "metadata": {},
     "outputs": []
    },
    {
     "cell_type": "markdown",
     "metadata": {},
     "source": [
      "<table>\n",
      "    <tr><td><tt>++</tt></td><td>increment by 1 (same as <tt>$i = $i+1</tt>)</td><td><tt>$i++</tt></td></tr>\n",
      "    \n",
      "    <tr><td><tt>--</tt></td><td>decrement by 1, (same as <tt>$i = $i-1</tt>)</td><td><tt>$i--</tt></td></tr>\n",
      "    \n",
      "    <tr><td><tt>+=</tt></td><td>in place addition</td><td><tt>$i += 2</tt></td></tr>\n",
      "    \n",
      "    <tr><td><tt>-=</tt></td><td>in place subtraction</td><td><tt>$i -= 3</tt></td></tr>\n",
      "</table>"
     ]
    },
    {
     "cell_type": "markdown",
     "metadata": {},
     "source": [
      "Finally, here are a couple of useful functions for calculating the absolute value of some number, and the integer portion of a floating-point number:"
     ]
    },
    {
     "cell_type": "code",
     "collapsed": false,
     "input": [
      "%%perl\n",
      "# absolute value\n",
      "print \"the absolute value of 3 - 4.2 = \";\n",
      "my $num = abs 3 - 4.2;\n",
      "print \"$num\\n\";\n",
      "\n",
      "# conversion to integer\n",
      "print \"int portion of $num = \";\n",
      "print int $num, \"\\n\";"
     ],
     "language": "python",
     "metadata": {},
     "outputs": []
    },
    {
     "cell_type": "markdown",
     "metadata": {},
     "source": [
      "A word about brackets here. If you are used to other languages, you may be surprised that we don't need brackets around function arguments. Perl is generally fairly lax about requiring brackets, in the hope that code can be read something like a natural language. However, it doesn't mind if you put the brackets in, so if you find it easier to read, you can write things like this:"
     ]
    },
    {
     "cell_type": "code",
     "collapsed": false,
     "input": [
      "%%perl\n",
      "# absolute value\n",
      "print \"the absolute value of 3 - 4.2 = \";\n",
      "my $num = abs(3 - 4.2);\n",
      "print \"$num\\n\";\n",
      "\n",
      "# conversion to integer\n",
      "print \"int portion of $num = \";\n",
      "print(int($num), \"\\n\");"
     ],
     "language": "python",
     "metadata": {},
     "outputs": []
    },
    {
     "cell_type": "markdown",
     "metadata": {},
     "source": [
      "The rule of thumb is to do what you find most readable and clear. For example, the brackets around the `abs` are probably a good idea; it saves us from thinking Perl will calculate `abs 3` and then subtract `4.2` from that. But the brackets on the `int` line arguably clutter up the line rather than making it clearer. Sometimes the brackets will be necessary, however, to tell Perl which arguments belong to which function. As `int` only takes one argument, there is no ambiguity here, but we will shortly see some examples where the brackets are required. This is something you will figure out through experience."
     ]
    },
    {
     "cell_type": "markdown",
     "metadata": {},
     "source": [
      "<table>\n",
      "    <tr><th>Function</th><th>Summary</th><th>Example</th></tr>\n",
      "    <tr><td><tt>abs</tt></td><td>absolute value</td><td><tt>abs(-32)</tt></td></tr>\n",
      "    \n",
      "    <tr><td><tt>int</tt></td><td>get the integer portion of a number</td><td><tt>int(5.45)</tt></td></tr>\n",
      "</table>"
     ]
    },
    {
     "cell_type": "markdown",
     "metadata": {},
     "source": [
      "#### Exercises\n",
      "1. Can you simplify your GC calculation from the previous lesson using the shorthands here?\n",
      "2. Did you get an ugly floating point number for your GC percentage? Turn it into an integer."
     ]
    },
    {
     "cell_type": "markdown",
     "metadata": {},
     "source": [
      "-----"
     ]
    },
    {
     "cell_type": "heading",
     "level": 1,
     "metadata": {},
     "source": [
      "Lesson 8: String functions and operators"
     ]
    },
    {
     "cell_type": "markdown",
     "metadata": {},
     "source": [
      "Perl also has a set of useful string functions. For example, we can add strings together using the concatenation operator, which has a prefix notation like the numerical operators:\n",
      "\n",
      "<table>\n",
      "    <tr><th>Operator</th><th>Summary</th><th>Example</th></tr>\n",
      "    <tr><td><tt>.</tt></td><td>concatenation</td><td><tt>$str . \" \" . \"!!\"</tt></td></tr>\n",
      "    \n",
      "    <tr><td><tt>.=</tt></td><td>concatenation & assignments</td><td><tt>$str .= \"add this\"</tt></td></tr>\n",
      "</table>  "
     ]
    },
    {
     "cell_type": "code",
     "collapsed": false,
     "input": [
      "%%perl\n",
      "my $str = \"ACG\" . \"AGA\" . \"GCG\";\n",
      "print \"$str\\n\";\n",
      "$str .= \"TGT\";\n",
      "print \"$str\\n\";"
     ],
     "language": "python",
     "metadata": {},
     "outputs": []
    },
    {
     "cell_type": "markdown",
     "metadata": {},
     "source": [
      "Here are some more basic functions, which are hopefully fairly self-explanatory:\n",
      "<table>\n",
      "    <tr><th>Function</th><th>Summary</th><th>Example</th></tr>\n",
      "    <tr><td><tt>length</tt></td><td>length of string</td><td><tt>print length $str</tt></td></tr>\n",
      "    \n",
      "    <tr><td><tt>uc</tt></td><td>uppercase</td><td><tt>print uc $str</tt></td></tr>\n",
      "    \n",
      "    <tr><td><tt>lc</tt></td><td>lowercase</td><td><tt>print lc $str</tt></td></tr>\n",
      "    \n",
      "    <tr><td><tt>ucfirst</tt></td><td>uppercase first character</td><td><tt>print ucfirst $str</tt></td></tr>\n",
      "    \n",
      "    <tr><td><tt>lcfirst</tt></td><td>lowercase first character</td><td><tt>print lcfirst $str</tt></td></tr>\n",
      "</table>"
     ]
    },
    {
     "cell_type": "code",
     "collapsed": false,
     "input": [
      "%%perl\n",
      "# change case\n",
      "my $str = \"ACGAGAGCGTGT\";\n",
      "print length $str, \"\\n\";\n",
      "print \"$str\\n\";\n",
      "$str = lc $str;\n",
      "print \"$str\\n\";\n",
      "print uc $str, \"\\n\";\n",
      "print \"ucfirst: \" , ucfirst(lc($str)),\"\\n\";\n",
      "print \"lcfirst: \" , lcfirst uc $str,\"\\n\";"
     ],
     "language": "python",
     "metadata": {},
     "outputs": []
    },
    {
     "cell_type": "markdown",
     "metadata": {},
     "source": [
      "<table>\n",
      "    <tr><td><tt>substr</tt></td><td>sub string</td><td><tt>print substr($str, 3, 5)</tt></td></tr>\n",
      "    <tr><td><tt>split</tt></td><td>splits up a string, returns an array</td><td><tt>my @array = split ' ', $str</tt></td></tr>\n",
      "</table>"
     ]
    },
    {
     "cell_type": "markdown",
     "metadata": {},
     "source": [
      "Here are some more sophisticated functions. `split` takes a string and breaks up the string at every instance of a particular character, returning an array containing each part of the string:"
     ]
    },
    {
     "cell_type": "code",
     "collapsed": false,
     "input": [
      "%%perl\n",
      "my $seq = \"ACG AGA GCG TGT\";\n",
      "my @codons = split ' ', $seq;\n",
      "foreach my $codon (@codons) {\n",
      "    print \"$codon\\n\";\n",
      "}\n",
      "foreach my $base (split '', $seq) {\n",
      "    next if $base eq \" \";\n",
      "    print \"$base\\n\";\n",
      "}"
     ],
     "language": "python",
     "metadata": {},
     "outputs": []
    },
    {
     "cell_type": "markdown",
     "metadata": {},
     "source": [
      "`substr` takes a string, a starting position and (optionally) a length, and returns a substring of the string of the desired length that starts at the given position. As with array indexing, `substr` starts counting from 0. It has a few odd variants, which are worth exploring. If the length argument is omitted, `substr` returns everything from the start position to the end of the string. If a negative number is used for the start position, `substr` counts from the end of the string. If a negative number is used for the length, `substr` again subtracts that number of characters from the end of the string. Make sure you understand the following examples."
     ]
    },
    {
     "cell_type": "code",
     "collapsed": false,
     "input": [
      "%%perl\n",
      "my $str = \"ACGAGAGCGTGT\";\n",
      "print substr ($str, 3, 3),\"\\n\";\n",
      "print substr ($str, 3), \"\\n\";\n",
      "print substr ($str, -3), \"\\n\";\n",
      "print substr ($str, 3, -3), \"\\n\";"
     ],
     "language": "python",
     "metadata": {},
     "outputs": []
    },
    {
     "cell_type": "markdown",
     "metadata": {},
     "source": [
      "#### Exercises\n",
      "\n",
      "1. Write a routine that takes a DNA sequence and uses `substr` and a `while` loop to print out each codon in the sequence on a new line. Before the `while` loop starts, check that the length of the sequence is divisible by three and only run the `while` loop if it is.\n",
      "2. Are the brackets in the `substr` examples above necessary? What happens if you remove them?"
     ]
    },
    {
     "cell_type": "markdown",
     "metadata": {},
     "source": [
      "-----"
     ]
    },
    {
     "cell_type": "heading",
     "level": 1,
     "metadata": {},
     "source": [
      "Lesson 9: Array Functions"
     ]
    },
    {
     "cell_type": "markdown",
     "metadata": {},
     "source": [
      "Common array functions:\n",
      "    \n",
      "<table>\n",
      "    <tr><th>Function</th><th>Description</th></tr>\n",
      "    \n",
      "    <tr><td><tt>pop @array</tt></td><td>removes last element from array and returns it</td></tr>\n",
      "    \n",
      "    <tr><td><tt>push(@array, $new_element, ...)</tt></td><td>appends one or more elements to the end of an array</td></tr>\n",
      "    \n",
      "    <tr><td><tt>shift @array</tt></td><td>removes the first element from the array and returns it</td></tr>\n",
      "    \n",
      "    <tr><td><tt>unshift(@array, $new_element, ...)</tt></td><td>add elements at the front of the array</td></tr>\n",
      "    \n",
      "    <tr><td><tt>splice</tt></td><td>adds or removes elements anywhere in the array</td></tr>\n",
      "    \n",
      "    <tr><td><tt>join(@array, $str)</tt></td><td>joins the elements of the array together with the specified string, and returns the whole string</td></tr>\n",
      "    \n",
      "</table>\n",
      "\n",
      "`pop, push, shift, unshift, and splice` change the array. "
     ]
    },
    {
     "cell_type": "code",
     "collapsed": false,
     "input": [
      "%%perl\n",
      "\n",
      "# pop - removes last element of array\n",
      "\n",
      "my @array = (3 , 'red' , 'cornflower blue' , 1.2);\n",
      "print join ('--',@array) , \"\\n\";\n",
      " \n",
      "my $last = pop @array;\n",
      " \n",
      "print \"this was the last element: \", $last, \"\\n\";\n",
      "print join ('--',@array) , \"\\n\";"
     ],
     "language": "python",
     "metadata": {},
     "outputs": []
    },
    {
     "cell_type": "code",
     "collapsed": false,
     "input": [
      "%%perl\n",
      "\n",
      "# push - adds to end of array\n",
      "\n",
      "my @array = (3 , 'red' , 'cornflower blue' , 1.2);\n",
      "print join ('--',@array) , \"\\n\";\n",
      " \n",
      "push(@array, \"yellow\");\n",
      "\n",
      "print join ('--',@array) , \"\\n\";"
     ],
     "language": "python",
     "metadata": {},
     "outputs": []
    },
    {
     "cell_type": "code",
     "collapsed": false,
     "input": [
      "%%perl\n",
      "\n",
      "# shift - removes first element of array\n",
      "\n",
      "my @array = (3 , 'red' , 'cornflower blue' , 1.2);\n",
      "print \"original array: \" , join ('--',@array) , \"\\n\";\n",
      " \n",
      "my $first_element = shift @array;\n",
      "print \"this was the first element: $first_element\\n\";\n",
      " \n",
      "print \"current array:  \" , join ('--',@array) , \"\\n\";"
     ],
     "language": "python",
     "metadata": {},
     "outputs": []
    },
    {
     "cell_type": "code",
     "collapsed": false,
     "input": [
      "%%perl\n",
      "\n",
      "# unshift - adds to front of array\n",
      "\n",
      "my @array = (3 , 'red' , 'cornflower blue' , 1.2);\n",
      "print \"original array: \" , join ('--',@array) , \"\\n\";\n",
      " \n",
      "unshift (@array, 5, 'green', 10);\n",
      "print \"current array:  \" , join ('--',@array) , \"\\n\";"
     ],
     "language": "python",
     "metadata": {},
     "outputs": []
    },
    {
     "cell_type": "markdown",
     "metadata": {},
     "source": [
      "Printing an array using the `join` function\n",
      "\n",
      "- Returns a string with any character you want between each element using the `join` function"
     ]
    },
    {
     "cell_type": "code",
     "collapsed": false,
     "input": [
      "%%perl\n",
      "my @third_array = (\"ride\",103,\"Sally\",22,0,\"ride\",11,\"Mustang Sally\");\n",
      "\n",
      "print \"quick&useful_3:\\n\", join (\"\\n\" , @third_array), \"\\n\";"
     ],
     "language": "python",
     "metadata": {},
     "outputs": []
    },
    {
     "cell_type": "markdown",
     "metadata": {},
     "source": [
      "#### Exercises\n",
      "\n",
      "1. Create an array and print the array using join.\n",
      "2. Use the following functions: `pop, push, shift`, and `unshift` on the array and print the array after each change."
     ]
    },
    {
     "cell_type": "markdown",
     "metadata": {},
     "source": [
      "----"
     ]
    },
    {
     "cell_type": "heading",
     "level": 1,
     "metadata": {},
     "source": [
      "Lesson 10: Hash Functions"
     ]
    },
    {
     "cell_type": "markdown",
     "metadata": {},
     "source": [
      "Common hash functions:\n",
      "    \n",
      "<table>\n",
      "    <tr><th>Function</th><th>Description</th></tr>\n",
      "    \n",
      "    <tr><td><tt>keys %hash</tt></td><td>retrieve an array of all keys in a hash</td></tr>\n",
      "    \n",
      "    <tr><td><tt>exists $hash{'key'}</tt></td><td>test whether a key is found in the hash</td></tr>\n",
      "    \n",
      "    <tr><td><tt>delete $hash{'key'}</tt></td><td>delete a key, and any corresponding value, from a hash</td></tr>\n",
      "    \n",
      "    <tr><td><tt>values %hash</tt></td><td>retrieve an array of all values in a hash</td></tr>\n",
      "    \n",
      "    <tr><td><tt>each %hash</tt></td><td>retrieve next key-value pair from a hash/td></tr>\n",
      "    \n",
      "</table>\n"
     ]
    },
    {
     "cell_type": "code",
     "collapsed": false,
     "input": [
      "%%perl\n",
      "use Data::Dumper;\n",
      "\n",
      "# keys - retrieve an array of keys\n",
      "\n",
      "my %jacks = ('Jack Sparrow'    => 'pirate' , \n",
      "             'Jack Black'      => 'actor',\n",
      "             'Jack the Ripper' => 'murderer', \n",
      "           );\n",
      "\n",
      "my @keys = keys %jacks;\n",
      "\n",
      "print join ('--', @keys) , \"\\n\";\n",
      "\n",
      "# exists - returns True if the key is found in the hash\n",
      "\n",
      "if (exists $jacks{'Jack the Ripper'}){\n",
      "    print \"Yes, this key is present\\n\";\n",
      "}\n",
      "else {\n",
      "    print \"No, this key is not present\\n\";\n",
      "}\n",
      "\n",
      "# delete - removes a key-value pair from a hash\n",
      "\n",
      "print \"\\nbefore delete\\n\";\n",
      "print Dumper \\%jacks;\n",
      "delete $jacks{'Jack Sparrow'};\n",
      "print \"after delete\\n\";\n",
      "print Dumper \\%jacks;"
     ],
     "language": "python",
     "metadata": {},
     "outputs": []
    },
    {
     "cell_type": "markdown",
     "metadata": {},
     "source": [
      "Iterating through a hash using `keys` and `foreach`:"
     ]
    },
    {
     "cell_type": "code",
     "collapsed": false,
     "input": [
      "%%perl -w\n",
      "\n",
      "my %jacks = ('Jack Sparrow'    => 'pirate' , \n",
      "             'Jack Black'      => '0',\n",
      "             'Jack the Ripper' => 'murderer', \n",
      "           );\n",
      "\n",
      "my @names = ('Jack Black', 'Jack White', 'something else');\n",
      "\n",
      "foreach my $name (@names){\n",
      "    if (exists $jacks{$name}) {\n",
      "        print \"This Jack: $name is a $jacks{$name}\\n\";\n",
      "    }\n",
      "    else {\n",
      "        print \"I know nothing about $name\\n\";\n",
      "    }\n",
      "}\n"
     ],
     "language": "python",
     "metadata": {},
     "outputs": []
    },
    {
     "cell_type": "markdown",
     "metadata": {},
     "source": [
      "#### Exercises\n",
      "\n",
      "1. Create a hash, and print each key/value pair using keys and a foreach loop."
     ]
    },
    {
     "cell_type": "markdown",
     "metadata": {},
     "source": [
      "----"
     ]
    },
    {
     "cell_type": "heading",
     "level": 1,
     "metadata": {},
     "source": [
      "Lesson 11: Sort with arrays and hashes"
     ]
    },
    {
     "cell_type": "markdown",
     "metadata": {},
     "source": [
      "The `sort` function can be used to sort array elements, hash keys and hash values\n",
      "- the default behavior is to sort the contents of a list in alphabetical order.\n",
      "- Customizable sort behavior\n",
      "\n",
      "#### Default sort behavior\n",
      "- The default behavior of the sort function is to sort in ASCII order"
     ]
    },
    {
     "cell_type": "code",
     "collapsed": false,
     "input": [
      "%%perl\n",
      "\n",
      "print \"Default -- ABC sort with strings\\n\";\n",
      "my @array = ('After','food','best','Hiss');\n",
      "my @sorted_array = sort @array;\n",
      " \n",
      "foreach my $element (@sorted_array){\n",
      "    print \"$element\\n\";\n",
      "}\n",
      " \n",
      "print \"Default -- ABC sort with numbers\\n\";\n",
      "my @numbers = (3,400,1,100,4,20);\n",
      "my @sorted_numbers = sort @numbers;\n",
      " \n",
      "foreach my $element (@sorted_numbers){\n",
      "    print \"$element\\n\";\n",
      "}"
     ],
     "language": "python",
     "metadata": {},
     "outputs": []
    },
    {
     "cell_type": "markdown",
     "metadata": {},
     "source": [
      "#### Simple customization of sort behavior: Numeric order.\n",
      "- use the perl reserved `$a` and `$b` variables to customize the sort\n",
      "- use the numeric version of the `cmp` operator, `<=>` (the spaceship operator)\n",
      "- switch `$a` and `$b` to reverse the sort order"
     ]
    },
    {
     "cell_type": "code",
     "collapsed": false,
     "input": [
      "%%perl\n",
      "\n",
      "print \"Custom -- Numeric sort\\n\";\n",
      "\n",
      "my @numbers = (3,400,1,100,4,20);\n",
      "\n",
      "my @sorted_numbers = sort {$a <=> $b}  @numbers;\n",
      " \n",
      "foreach my $element (@sorted_numbers){\n",
      "    print \"$element\\n\";\n",
      "}\n"
     ],
     "language": "python",
     "metadata": {},
     "outputs": []
    },
    {
     "cell_type": "markdown",
     "metadata": {},
     "source": [
      "#### Custom sort: Sort by length of array elements \n",
      "\n",
      "order of operations\n",
      "\n",
      "1. each element of the array sorted based on its length. Remember perl works from the inner-most parenthesis out, and the sort is the inner-most function\n",
      "2. each element of the sorted list is stored in `$element` of the `foreach` loop\n",
      "3. the `$element` and its length is printed"
     ]
    },
    {
     "cell_type": "code",
     "collapsed": false,
     "input": [
      "%%perl\n",
      "\n",
      "my @array = ( 'aaaaa' , 'aaa' , 'aa' , 'a' , 'aa' );\n",
      "\n",
      "my @sorted_by_length = sort { length($b) <=> length($a) } @array;\n",
      "\n",
      "foreach my $element( @sorted_by_length ) {\n",
      "    print \"$element\\t\", length ($element), \"\\n\";\n",
      "}"
     ],
     "language": "python",
     "metadata": {},
     "outputs": []
    },
    {
     "cell_type": "markdown",
     "metadata": {},
     "source": [
      "#### Custom sort: Sort by hash values\n",
      "\n",
      "- Remember to retrieve the values of a hash you need to use the hash key/index.\n",
      "- `$value = $hash{'key'}`\n",
      "- `$a` and `$b` will hold the keys of the hash\n",
      "- use `$a` and `$b` to retrieve the values\n",
      "- `$hash{$a}` will evaluate to the value of the key `$a`\n",
      "\n",
      "order of operations\n",
      "\n",
      "1. keys are retrieved with the `keys` function\n",
      "2. the keys are used to retrieve the values\n",
      "3. the keys are sorted and returned based on the value ( `$value = $hash{$key}` )\n",
      "4. the list of newly sorted keys (based on the value) are passed 1 by 1 to `$nt` by the foreach loop"
     ]
    },
    {
     "cell_type": "code",
     "collapsed": false,
     "input": [
      "%%perl\n",
      "\n",
      "my %nt_count = (\n",
      "                 'G' => 2,\n",
      "                 'C' => 1,\n",
      "                 'T' => 4,\n",
      "                 'A' => 3,\n",
      "                );\n",
      "#sort my keys by their associated values (numerically) \n",
      "@sorted_by_values = sort {$nt_count{$a} <=> $nt_count{$b}} keys %nt_count;\n",
      "print join ' - ', @sorted_by_values;\n",
      "print \"\\n\";\n",
      "\n",
      "foreach my $nt( @sorted_by_values ) {\n",
      "    print \"$nt\\t$nt_count{$nt}\\n\";\n",
      "}"
     ],
     "language": "python",
     "metadata": {},
     "outputs": []
    },
    {
     "cell_type": "markdown",
     "metadata": {},
     "source": [
      "Advanced: how to auto generate the count of nucleotides in a DNA sequence using a hash"
     ]
    },
    {
     "cell_type": "code",
     "collapsed": false,
     "input": [
      "%%perl\n",
      "\n",
      "use Data::Dumper;\n",
      "\n",
      "my %nt_count;\n",
      "my $DNA = 'ATAATCGTTGCCCCCCCCACTAGATGCATCACGATCAGCTCCCCCCCCCCCCCCCCCC';\n",
      "my @DNA = split '' , $DNA; # split the string into separate characters\n",
      "\n",
      "# loop over the array of nucleotides\n",
      "foreach my $nt (@DNA){\n",
      "    # check if we have seen this nucleotide yet\n",
      "    if (! exists $nt_count{$nt} ){\n",
      "        # if not then add it to our hash, setting the count to 1\n",
      "        $nt_count{$nt} = 1;\n",
      "    }\n",
      "    else {\n",
      "        # if we have seen it before, get the existing count,\n",
      "        # increment it, and save the new total\n",
      "        my $count = $nt_count{$nt};\n",
      "        my $new_count = $count +1 ;\n",
      "        $nt_count{$nt} = $new_count;\n",
      "    }\n",
      "}\n",
      "\n",
      "print Dumper \\%nt_count"
     ],
     "language": "python",
     "metadata": {},
     "outputs": []
    },
    {
     "cell_type": "markdown",
     "metadata": {},
     "source": [
      "#### Exercises\n",
      "\n",
      "1. Create a hash, and print each key/value pair sorted by values. Be sure to use `keys` function and a `foreach` loop."
     ]
    },
    {
     "cell_type": "markdown",
     "metadata": {},
     "source": [
      "----"
     ]
    },
    {
     "cell_type": "heading",
     "level": 1,
     "metadata": {},
     "source": [
      "Lesson 12: User/Command-line input"
     ]
    },
    {
     "cell_type": "markdown",
     "metadata": {},
     "source": [
      "How do you get arguments from the user into your script?\n",
      "\n",
      "- Incorporating input from the command-line\n",
      "- Perl creates an array, `@ARGV`, which contains the contents of the command-line following the script name\n",
      "\n",
      "`@ARGV` command-line:\n",
      "    \n",
      "- `./user_input.pl one two three`"
     ]
    },
    {
     "cell_type": "code",
     "collapsed": false,
     "input": [
      "%%file user_input.pl\n",
      "#!/usr/bin/perl\n",
      "my @user_input = @ARGV;\n",
      "print join (\"\\n\" , @user_input) , \"\\n\";"
     ],
     "language": "python",
     "metadata": {},
     "outputs": []
    },
    {
     "cell_type": "code",
     "collapsed": false,
     "input": [
      "%%bash\n",
      "./user_input.pl one two three"
     ],
     "language": "python",
     "metadata": {},
     "outputs": []
    },
    {
     "cell_type": "markdown",
     "metadata": {},
     "source": [
      "#### `shift` and `@ARGV`\n",
      "\n",
      "Remember the array function `shift` removes and returns the first element of an array."
     ]
    },
    {
     "cell_type": "code",
     "collapsed": false,
     "input": [
      "%%file user_input.pl\n",
      "#!/usr/bin/perl\n",
      "my $first_input = shift @ARGV;\n",
      "print \"first input: $first_input\\n\";"
     ],
     "language": "python",
     "metadata": {},
     "outputs": []
    },
    {
     "cell_type": "code",
     "collapsed": false,
     "input": [
      "%%bash\n",
      "./user_input.pl one two three"
     ],
     "language": "python",
     "metadata": {},
     "outputs": []
    },
    {
     "cell_type": "markdown",
     "metadata": {},
     "source": [
      "#### Using array indices\n",
      "\n",
      "Remember with arrays that each element can be accessed using indices."
     ]
    },
    {
     "cell_type": "code",
     "collapsed": false,
     "input": [
      "%%file user_input.pl\n",
      "#!/usr/bin/perl\n",
      "my $first_input = $ARGV[0];\n",
      "my $second_input = $ARGV[1];\n",
      "print \"$first_input and $second_input\\n\";"
     ],
     "language": "python",
     "metadata": {},
     "outputs": []
    },
    {
     "cell_type": "code",
     "collapsed": false,
     "input": [
      "%%bash\n",
      "./user_input.pl one two three"
     ],
     "language": "python",
     "metadata": {},
     "outputs": []
    },
    {
     "cell_type": "markdown",
     "metadata": {},
     "source": [
      "####Assigning an array to a list of variables "
     ]
    },
    {
     "cell_type": "code",
     "collapsed": false,
     "input": [
      "%%file user_input.pl\n",
      "#!/usr/bin/perl\n",
      "my ($in_1, $in_2 , $in_3) = @ARGV;\n",
      "print \"$in_1 and $in_2 and $in_3\\n\";"
     ],
     "language": "python",
     "metadata": {},
     "outputs": []
    },
    {
     "cell_type": "code",
     "collapsed": false,
     "input": [
      "%%bash\n",
      "./user_input.pl one two three"
     ],
     "language": "python",
     "metadata": {},
     "outputs": []
    },
    {
     "cell_type": "markdown",
     "metadata": {},
     "source": [
      "#### Exercises\n",
      "\n",
      "1. Write a script that takes 2 numbers from the command line, add the two numbers and print the result"
     ]
    },
    {
     "cell_type": "markdown",
     "metadata": {},
     "source": [
      "-----"
     ]
    },
    {
     "cell_type": "heading",
     "level": 1,
     "metadata": {},
     "source": [
      "Lesson 13: Sanity checks and testing"
     ]
    },
    {
     "cell_type": "markdown",
     "metadata": {},
     "source": [
      "It is always important to test user input.\n",
      "\n",
      "- Checking that user input has indeed been supplied\n",
      "- Verifying that a file really exists\n",
      "\n",
      "<table>\n",
      "    <tr><th>Test</th><th>Description</th></tr>\n",
      "    \n",
      "    <tr><td><tt>defined</tt></td><td>checks if a variable is defined</td></tr>\n",
      "    \n",
      "    <tr><td><tt>-e</tt></td><td>checks if a file exists</td></tr>\n",
      "    \n",
      "    <tr><td><tt>-s</tt></td><td>checks the size of a file</td></tr>\n",
      "    \n",
      "</table>\n",
      "\n",
      "Dealing with incorrect data:\n",
      "\n",
      "<table>\n",
      "    <tr><th>Action</th><th>Description</th></tr>\n",
      "    \n",
      "    <tr><td><tt>die $message</tt></td><td>prints a message to STDERR and kills the program</td></tr>\n",
      "    \n",
      "    <tr><td><tt>warn $message</tt></td><td>prints a message to STDERR, but the program will continue</td></tr>\n",
      "    \n",
      "</table>"
     ]
    },
    {
     "cell_type": "markdown",
     "metadata": {},
     "source": [
      "The example belowhecks to see if an argument was provided, and if it is then the argument will be assigned to `$in_1`. Otherwise the block under the `if` statement will be executed and the script will die and an error message will be printed."
     ]
    },
    {
     "cell_type": "code",
     "collapsed": false,
     "input": [
      "%%file user_input.pl\n",
      "#!/usr/bin/perl\n",
      "\n",
      "my $in_1;\n",
      " \n",
      "if (!defined $ARGV[0]){\n",
      "    die \"Please supply a number\\n\";\n",
      "}\n",
      "else {\n",
      "    $in_1 = $ARGV[0];\n",
      "    print \"I got: $in_1\\n\";\n",
      "}"
     ],
     "language": "python",
     "metadata": {},
     "outputs": []
    },
    {
     "cell_type": "code",
     "collapsed": false,
     "input": [
      "%%bash\n",
      "./user_input.pl 3"
     ],
     "language": "python",
     "metadata": {},
     "outputs": []
    },
    {
     "cell_type": "markdown",
     "metadata": {},
     "source": [
      "#### File tests\n",
      "\n",
      "The example below does the same check, but also uses `-e` to check that a file with the supplied name exists"
     ]
    },
    {
     "cell_type": "code",
     "collapsed": false,
     "input": [
      "%%file user_input.pl\n",
      "#!/usr/bin/perl\n",
      "\n",
      "my $filename;\n",
      " \n",
      "if (!defined $ARGV[0]) {\n",
      "    die \"Please supply a file\\n\";\n",
      "}\n",
      "elsif (!-e $ARGV[0]) {\n",
      "    die \"$ARGV[0] does not exist. Please check the filename and/or location.\\n\";\n",
      "}\n",
      "else {\n",
      "    $filename = $ARGV[0];\n",
      "}\n",
      "\n",
      "print \"$filename is a file that exists!\\n\";"
     ],
     "language": "python",
     "metadata": {},
     "outputs": []
    },
    {
     "cell_type": "code",
     "collapsed": false,
     "input": [
      "%%bash\n",
      "./user_input.pl user_input.pl"
     ],
     "language": "python",
     "metadata": {},
     "outputs": []
    },
    {
     "cell_type": "markdown",
     "metadata": {},
     "source": [
      "#### Exercises\n",
      "\n",
      "1. Modify the script that takes 2 numbers from the command line\n",
      "2. Add a check to be sure that 2 arguments are supplied. Die if there are too few or too many arguments\n",
      "3. Add the two numbers and print the result"
     ]
    },
    {
     "cell_type": "markdown",
     "metadata": {},
     "source": [
      "-----"
     ]
    },
    {
     "cell_type": "heading",
     "level": 1,
     "metadata": {},
     "source": [
      "Lesson 14: Files and File handles"
     ]
    },
    {
     "cell_type": "markdown",
     "metadata": {},
     "source": [
      "Reading and writing to files is incorporated into almost every one of my scripts.\n",
      "\n",
      "- File handles are like special variables just for files."
     ]
    },
    {
     "cell_type": "markdown",
     "metadata": {},
     "source": [
      "Opening a file\n",
      "\n",
      "- `open` function\n",
      "- `open(FILEHANDLE , mode , file)`\n",
      "<table>\n",
      "    <tr><th>Mode</th><th>Symbol</th></tr>\n",
      "    \n",
      "    <tr><td>reading</td><td><tt><</tt></td></tr>\n",
      "    \n",
      "    <tr><td>writing</td><td><tt>></tt></td></tr>\n",
      "    \n",
      "    <tr><td>appending</td><td><tt>>></tt></td></tr>\n",
      "    \n",
      "</table>\n",
      "\n",
      "- Always test to be sure that the file can be opened as described with the `\"or die\"` idiom."
     ]
    },
    {
     "cell_type": "code",
     "collapsed": false,
     "input": [
      "%%file parse_file.pl\n",
      "#!/usr/bin/perl\n",
      "\n",
      "my $file = shift; ## shift with no arguments defaults to @ARGV\n",
      "## open the file, $file for reading, if unable, die and print\n",
      "## an error message.\n",
      "open (INFILE , '<' , $file) or die \"Can't open $file, $!\\n\";\n",
      "print \"opened file: $file\\n\";"
     ],
     "language": "python",
     "metadata": {},
     "outputs": []
    },
    {
     "cell_type": "code",
     "collapsed": false,
     "input": [
      "%%bash\n",
      "./parse_file.pl not_there"
     ],
     "language": "python",
     "metadata": {},
     "outputs": []
    },
    {
     "cell_type": "markdown",
     "metadata": {},
     "source": [
      "#### Iterating through a file\n",
      "\n",
      "1. `while` loop\n",
      "2. `<>`\n",
      "3. `chomp` function (chomps off any trailing newlines from the line)\n",
      "\n",
      "Available at: <a href=\"http://www.ebi.ac.uk/~grsr/perl/\">www.ebi.ac.uk/~grsr/perl/</a>"
     ]
    },
    {
     "cell_type": "code",
     "collapsed": false,
     "input": [
      "%%bash\n",
      "cat file.txt"
     ],
     "language": "python",
     "metadata": {},
     "outputs": []
    },
    {
     "cell_type": "code",
     "collapsed": false,
     "input": [
      "%%perl\n",
      "\n",
      "my $file = 'file.txt';\n",
      "open (IN , '<' , $file) or die \"can't open $file $!\\n\";\n",
      " \n",
      "while (my $line = <IN>){\n",
      "  chomp $line;\n",
      "  print uc $line , \"\\n\";\n",
      "}"
     ],
     "language": "python",
     "metadata": {},
     "outputs": []
    },
    {
     "cell_type": "markdown",
     "metadata": {},
     "source": [
      "#### Open a file for writing"
     ]
    },
    {
     "cell_type": "code",
     "collapsed": false,
     "input": [
      "%%perl\n",
      "my $file = 'newFile.txt'; \n",
      "open (OUTFILE , '>' , $file) or die \"Can't open $file, $!\\n\";\n",
      " \n",
      "print OUTFILE lc \"All this text will be printed in my file and not\n",
      "in the terminal window\\n\";"
     ],
     "language": "python",
     "metadata": {},
     "outputs": []
    },
    {
     "cell_type": "code",
     "collapsed": false,
     "input": [
      "%%bash\n",
      "cat newFile.txt"
     ],
     "language": "python",
     "metadata": {},
     "outputs": []
    },
    {
     "cell_type": "markdown",
     "metadata": {},
     "source": [
      "#### Closing files\n",
      "\n",
      "When you are finished reading or writing to a file it is polite \n",
      "to close your file with the `close` function."
     ]
    },
    {
     "cell_type": "code",
     "collapsed": false,
     "input": [
      "%%perl\n",
      "\n",
      "open (INFILE, '<' , 'file.txt') or die \"Can't open file.txt, $!\\n\";\n",
      "while (my $line = <INFILE>){\n",
      "    chomp $line;\n",
      "    ## do something to line\n",
      "    print length($line), \"\\n\";\n",
      "}\n",
      "close (INFILE);"
     ],
     "language": "python",
     "metadata": {},
     "outputs": []
    },
    {
     "cell_type": "markdown",
     "metadata": {},
     "source": [
      "#### Tab delimited files\n",
      "\n",
      "We biologists often deal with tab delimited files. Here is some code which is very useful for splitting the columns into elements of an array.\n",
      "\n",
      "- Available at: <a href=\"http://www.ebi.ac.uk/~grsr/perl/genes.txt\">www.ebi.ac.uk/~grsr/perl/genes.txt</a>\n"
     ]
    },
    {
     "cell_type": "code",
     "collapsed": false,
     "input": [
      "%%bash\n",
      "cat genes.txt"
     ],
     "language": "python",
     "metadata": {},
     "outputs": []
    },
    {
     "cell_type": "code",
     "collapsed": false,
     "input": [
      "%%perl\n",
      "\n",
      "my $file = 'genes.txt';\n",
      "open (INFILE, '<' , $file) or die \"Can't open $file, $!\\n\";\n",
      "while (my $line = <INFILE>){\n",
      "    chomp $line;\n",
      "    my @columns = split(\"\\t\", $line);\n",
      "    ## for csv (comma separated files) split on the comma\n",
      "    # my @columns = split ',' , $line;\n",
      "    my $gene = $columns[0];\n",
      "    my $start = $columns[2];\n",
      "    my $end = $columns[3];\n",
      "    my $length = $end - $start + 1;\n",
      "    print \"$gene has $length bps\\n\";\n",
      "}\n",
      "close (INFILE);"
     ],
     "language": "python",
     "metadata": {},
     "outputs": []
    },
    {
     "cell_type": "markdown",
     "metadata": {},
     "source": [
      "#### Exercises\n",
      "\n",
      "1. Create a script that takes the name of a file containing many lines of nucleotide sequence as a command line argument, checks that it exists with `-e`, and opens the file for reading.\n",
      "2. Count the length of each line with the length function.\n",
      "3. Print to a different file the length of each line (on a separate line) and then the total sum of all the lengths as the final line in the file.\n",
      "\n",
      "- Available at: <a href=\"http://www.ebi.ac.uk/~grsr/perl/dna.txt\">www.ebi.ac.uk/~grsr/perl/dna.txt</a>"
     ]
    },
    {
     "cell_type": "code",
     "collapsed": false,
     "input": [
      "%%bash \n",
      "cat dna.txt"
     ],
     "language": "python",
     "metadata": {},
     "outputs": []
    },
    {
     "cell_type": "markdown",
     "metadata": {},
     "source": [
      "----"
     ]
    },
    {
     "cell_type": "heading",
     "level": 1,
     "metadata": {},
     "source": [
      "Lesson 15: References and multidimensional data structures"
     ]
    },
    {
     "cell_type": "markdown",
     "metadata": {},
     "source": [
      "References are just (memory) addresses. Multidimensional data structures are just hashes and arrays inside of hashes and arrays. \n",
      "\n",
      "Creating references\n",
      "\n",
      "- All data and data structures have an address in memory\n",
      "- References are the address of some data structure, or a _pointer_ to the data structure\n",
      "- Humans have no need to know the address\n",
      "- References are useful because they are a scalar variable.\n",
      "- Arrays and hashes are not scalar variables.\n",
      "- The only kind of data that you can store in an array or hash is scalar\n",
      "- We can now store hashes and arrays in other hashes and arrays by storing the address\n",
      "- Retrieve the address with '\\'"
     ]
    },
    {
     "cell_type": "code",
     "collapsed": false,
     "input": [
      "%%perl\n",
      "my @array = qw (this sentence will be turned into a list);\n",
      "my $address = \\@array;\n",
      "print \"$address\\n\";"
     ],
     "language": "python",
     "metadata": {},
     "outputs": []
    },
    {
     "cell_type": "markdown",
     "metadata": {},
     "source": [
      "#### Storing references \n",
      "\n",
      "Now that we have a way to retrieve the address we can store an array or a hash in an array or hash."
     ]
    },
    {
     "cell_type": "code",
     "collapsed": false,
     "input": [
      "%%perl\n",
      "use Data::Dumper;\n",
      "my @array = qw (this sentence will be turned into a list);\n",
      "my $address = \\@array;\n",
      " \n",
      "my %hash;\n",
      "$hash{'array'} = $address;\n",
      "print Dumper \\%hash;"
     ],
     "language": "python",
     "metadata": {},
     "outputs": []
    },
    {
     "cell_type": "markdown",
     "metadata": {},
     "source": [
      "If `@array` is changed the hash also changes, because the hash contains only a reference to the array, not a copy of the array"
     ]
    },
    {
     "cell_type": "code",
     "collapsed": false,
     "input": [
      "%%perl\n",
      "use Data::Dumper;\n",
      "my @array = qw (this sentence will be turned into a list);\n",
      "my $address = \\@array;\n",
      "my %hash;\n",
      "$hash{'array'} = $address;\n",
      "\n",
      "print \"Before pop\\n\";\n",
      "print Dumper \\%hash;\n",
      "\n",
      "pop @array;\n",
      "\n",
      "print \"After pop\\n\";\n",
      "print Dumper \\%hash;"
     ],
     "language": "python",
     "metadata": {},
     "outputs": []
    },
    {
     "cell_type": "markdown",
     "metadata": {},
     "source": [
      "- You do not always need to store the address of an data structure in a variable.\n",
      "- You can create an anonymous array or hash on the fly. It is anonymous because it is unnamed.\n",
      "- notice the `[ ]` in the anonymous array assignment, we use these with array indicies\n",
      "- notice the `{ }` in the anonymous hash assignment, we use these with hash indicies"
     ]
    },
    {
     "cell_type": "code",
     "collapsed": false,
     "input": [
      "%%perl -w\n",
      "use Data::Dumper;\n",
      "\n",
      "my %hash;\n",
      "\n",
      "# anonymous array in a hash\n",
      "$hash{'array2'} = ['this','is','an','anonymous','array'];\n",
      " \n",
      "# anonymous hash in a hash\n",
      "$hash{'hash'} = { 'key1' => 'value1' ,\n",
      "                  'key2' => 'value2'\n",
      "                 };\n",
      " \n",
      "print Dumper \\%hash;\n"
     ],
     "language": "python",
     "metadata": {},
     "outputs": []
    },
    {
     "cell_type": "markdown",
     "metadata": {},
     "source": [
      "#### Retrieving all or pieces of the data from references \n",
      "\n",
      "Whole chunks of data or pieces of data can be retrieved from our multidimensional structures by using the address. \n",
      "\n",
      "steps to dereference (retrieve data from a reference)\n",
      "\n",
      "1. Get your address, or reference: ADDRESS\n",
      "2. Wrap your address, or reference in {}: {ADDRESS}\n",
      "3. Put the symbol of the data type out front @: @{ADDRESS}"
     ]
    },
    {
     "cell_type": "code",
     "collapsed": false,
     "input": [
      "%%perl\n",
      "\n",
      "my @array = qw (this sentence will be turned into a list);\n",
      "my $address = \\@array;\n",
      "print \"$address\\n\";\n",
      "print \"array from dereferenced reference:\\n @{$address}\\n\";\n"
     ],
     "language": "python",
     "metadata": {},
     "outputs": []
    },
    {
     "cell_type": "markdown",
     "metadata": {},
     "source": [
      "#### Storing multiple sets of data in a single hash\n",
      "\n",
      "In the example below we demonstrate how we can use references to store multiple sets of data corresponding to different genes in a single hash. We also introduce the `->` notation for accessing elements of a hash or array reference.\n",
      "\n",
      "- `$array_ref->[0]` Access the first element of the array reference\n",
      "- `$hash_ref->{'key'}` Access the value corresponding to `'key'` in the hash reference\n",
      "- Note that this operator can be chained for complex data structures:\n",
      "    - `$array_ref->[1]->{'name'}` Access the value corresponding to 'name' in the second hash reference in the list reference "
     ]
    },
    {
     "cell_type": "code",
     "collapsed": false,
     "input": [
      "%%perl\n",
      "\n",
      "use Data::Dumper;\n",
      "\n",
      "my %brca2_data = ('chr' => 13, 'length' => 84194, 'expression' => [45, 34, 23]);\n",
      "my %tcf7_data  = ('chr' => 5, 'length' => 37154, 'expression' => [7, 56, 13]);\n",
      "\n",
      "my %gene_data;\n",
      "\n",
      "$gene_data{'BRCA2'} = \\%brca2_data;\n",
      "$gene_data{'TCF7'} = \\%tcf7_data;\n",
      "\n",
      "print Dumper \\%gene_data;\n",
      "\n",
      "print \"\\nFirst expression level for BRCA2: \", $gene_data{'BRCA2'}->{'expression'}->[0];\n",
      "print \"\\nLength of TCF7: \", $gene_data{'TCF7'}->{'length'};"
     ],
     "language": "python",
     "metadata": {},
     "outputs": []
    },
    {
     "cell_type": "markdown",
     "metadata": {},
     "source": [
      "#### Exercises\n",
      "\n",
      "1. Create a script in which you store arrays in a hash.\n",
      "2. Print the second element of one of your arrays\n",
      "3. Use foreach loops to print every key and value of your hash, as well as each element of your array."
     ]
    },
    {
     "cell_type": "markdown",
     "metadata": {},
     "source": [
      "-----"
     ]
    },
    {
     "cell_type": "heading",
     "level": 1,
     "metadata": {},
     "source": [
      "Lesson 16: Subroutines or Custom functions"
     ]
    },
    {
     "cell_type": "markdown",
     "metadata": {},
     "source": [
      "Is there a block of code that you use more than once in your script? If so you should write a subroutine. \n",
      "\n",
      "- A subroutine is a custom function\n",
      "- Allows you to reduce the chances of introducing an error into repetitive blocks of code\n",
      "- If you decide to change your block of code, you only have to change it in one place\n",
      "- Simplifies the flow of your script. Now you have a useful function name instead of many lines of code\n",
      "- You can pass arguments to the subroutine\n",
      "- You can have your subroutine return values\n",
      "\n",
      "To make a subroutine\n",
      "\n",
      "2. use the keyword `sub`\n",
      "3. give it an informative name.\n",
      "4. _arguments_, or _parameters_, come in on a special array called `@_` or the magic carpet array. It is very similar to `@ARGV`, and subroutine arguments are analogous to command line arguments but they are only available inside the subroutine, not throughout the program. \n",
      "5. use the `return` function to return values.\n",
      "\n",
      "To use a subroutine\n",
      "\n",
      "1. write the subroutine name, with any arguments to the subroutine in parentheses immediately after\n",
      "2. assign the return value (if any) to a variable (or pass it to another subroutine etc.)\n",
      "    - `my $result = my_subroutine($arg1, $arg2);`"
     ]
    },
    {
     "cell_type": "code",
     "collapsed": false,
     "input": [
      "%%perl\n",
      "\n",
      "sub maximum {\n",
      "    my $num1 = @_[0];\n",
      "    my $num2 = @_[1];\n",
      "\n",
      "    if ($num1 > $num2) {\n",
      "        return $num1;\n",
      "    }\n",
      "    else {\n",
      "        return $num2;\n",
      "    }\n",
      "}\n",
      "\n",
      "my $max = maximum(2000, 100);\n",
      "\n",
      "print \"the maximum is: $max\\n\";"
     ],
     "language": "python",
     "metadata": {},
     "outputs": []
    },
    {
     "cell_type": "code",
     "collapsed": false,
     "input": [
      "%%perl \n",
      "\n",
      "sub gc_percent {\n",
      "    my $dna = shift @_; # Perl actually lets you omit the @_, as it will be used by default\n",
      "\n",
      "    my $gc_count = 0;\n",
      "\n",
      "    foreach my $nt (split '', $dna) {\n",
      "        if ($nt eq 'G' || $nt eq 'C') {\n",
      "            $gc_count++;\n",
      "        }\n",
      "    }\n",
      "\n",
      "    my $gc_proportion = 100 * $gc_count / length($dna);\n",
      "\n",
      "    return $gc_proportion;\n",
      "}\n",
      "\n",
      "my $dna = \"GTCAAGTACAATGGACCGCGCGCGCCCCCCCCCCCCCCCCCCCCCCGC\";\n",
      "\n",
      "print \"GC content: \", gc_percent($dna), \"%\", \"\\n\";"
     ],
     "language": "python",
     "metadata": {},
     "outputs": []
    },
    {
     "cell_type": "markdown",
     "metadata": {},
     "source": [
      "Note:\n",
      "    \n",
      "- Arrays can be passed into and out of a subroutine, but if more than one is passed in or out, the contents will be merged into one single array in `@_`.\n",
      "- Hashes evaluate to lists of key/value pairs so they can also be passed into and out of a subroutine.\n",
      "- More complicated datastructures do not pass around nicely unless you pass just a reference to the subroutine."
     ]
    },
    {
     "cell_type": "markdown",
     "metadata": {},
     "source": [
      "Exercises\n",
      "\n",
      "1. Create a factorial subroutine that takes one number as an argument calculates the factorial of that number and then returns the one result \n",
      "    - recall that the factorial of a number _x_ is the product of all positive integers less than or equal to _x_, e.g. factorial(4) = 4 x 3 x 2 x 1 = 24\n",
      "    \n",
      "2. Write a subroutine that takes a list of numbers (of variable length) and returns the average (mean) of all the numbers"
     ]
    },
    {
     "cell_type": "code",
     "collapsed": false,
     "input": [
      "%%perl -w\n",
      "sub maximum {\n",
      "    my $num1 = $_[0];\n",
      "    my $num2 = $_[1];\n",
      "    if ($num1 > $num2) {\n",
      "        return $num1;\n",
      "    }\n",
      "    else {\n",
      "        return $num2;\n",
      "    }\n",
      "}\n",
      "my $max = maximum(2000, 100);\n",
      "print \"the maximum is: $max\\n\";"
     ],
     "language": "python",
     "metadata": {},
     "outputs": []
    },
    {
     "cell_type": "markdown",
     "metadata": {},
     "source": [
      "----"
     ]
    },
    {
     "cell_type": "heading",
     "level": 1,
     "metadata": {},
     "source": [
      "Lesson 17: System calls"
     ]
    },
    {
     "cell_type": "markdown",
     "metadata": {},
     "source": [
      "You will often have a need to execute commands that you would normally execute on the command line in your script. For example you might want to execute a series of scripts in one script.\n",
      "\n",
      "There are two common ways to do this.\n",
      "\n",
      "- the function `system`\n",
      "- using backticks ``"
     ]
    },
    {
     "cell_type": "markdown",
     "metadata": {},
     "source": [
      "#### `system`\n",
      "\n",
      "`system` is a function that you can supply the command line statement to be executed as the first argument and the exit status is returned. Output cannot be captured in a variable using `system`, but see backticks `` below for this feature.\n",
      "\n",
      "`system` returns:\n",
      "\n",
      "- 0 for no errors\n",
      "- -1 for errors\n",
      "- if you get an error, you can print the variable `$!` to find out the reason"
     ]
    },
    {
     "cell_type": "code",
     "collapsed": false,
     "input": [
      "%%perl\n",
      "\n",
      "my $sys = system (\"dat\");\n",
      "print \"sys returned: $sys\\n\";\n",
      "\n",
      "if ($sys == -1) {\n",
      "    print \"Error: $!\\n\";\n",
      "}"
     ],
     "language": "python",
     "metadata": {},
     "outputs": []
    },
    {
     "cell_type": "markdown",
     "metadata": {},
     "source": [
      "#### Backticks `` \n",
      "\n",
      "Backticks can be used to execute a command in your script. The output is the output of the command. This output can be captured in a variable. Now you can do things to the contents of the variable "
     ]
    },
    {
     "cell_type": "code",
     "collapsed": false,
     "input": [
      "%%perl\n",
      "my @files = `ls`;\n",
      "\n",
      "foreach my $file (@files) {\n",
      "    print uc($file);\n",
      "}\n"
     ],
     "language": "python",
     "metadata": {},
     "outputs": []
    },
    {
     "cell_type": "markdown",
     "metadata": {},
     "source": [
      "#### Exercises\n",
      "1. Create a script that uses a system call, using the system function, to run one of your already written scripts. Collect the output of the system function in a variable and print it to the screen. This output is a code to indicate the success of the call.\n",
      "2. Change the script to run your system call using backticks. Collect your output and print it to the screen"
     ]
    },
    {
     "cell_type": "markdown",
     "metadata": {},
     "source": [
      "-----"
     ]
    },
    {
     "cell_type": "heading",
     "level": 1,
     "metadata": {},
     "source": [
      "Lesson 18: Regular Expressions"
     ]
    },
    {
     "cell_type": "markdown",
     "metadata": {},
     "source": [
      "Regular expressions are a language you can use within Perl to identify patterns in text. The following notes were originally written by Lincoln Stein for a Programing for Biology course at CSHL and later altered by Sofia."
     ]
    },
    {
     "cell_type": "markdown",
     "metadata": {},
     "source": [
      "#### Regular Expressions\n",
      "\n",
      "A regular expression is a string template against which you can match a piece of text. They are something like shell wildcard expressions, but much more powerful.\n",
      "\n",
      "#### Examples of Regular Expressions\n",
      "\n",
      "This bit of code loops through each line of a file. Finds all lines containing an EcoRI site, and bumps up a counter:\n",
      "    \n",
      "(you can fetch the BRCA2 sequence here: <a href=\"http://www.ebi.ac.uk/~grsr/brca2.fasta\">www.ebi.ac.uk/~grsr/perl/brca2.fast</a>)"
     ]
    },
    {
     "cell_type": "code",
     "collapsed": false,
     "input": [
      "%%perl -w\n",
      "#!/usr/bin/perl -w\n",
      "#file: EcoRI1.pl\n",
      " \n",
      "use strict;\n",
      " \n",
      "my $filename = \"brca2.fasta\";\n",
      "open (FASTA , '<' ,\"$filename\") or print \"$filename does not exist\\n\";\n",
      "my $sites;\n",
      " \n",
      "while (my $line = <FASTA>) {\n",
      "  chomp $line;\n",
      " \n",
      "  if ($line =~ /GAATTC/){ \n",
      "    print \"Found an EcoRI site!\\n\";\n",
      "    $sites++;\n",
      "  }\n",
      "}\n",
      " \n",
      "if ($sites){\n",
      "  print \"$sites EcoRI sites total\\n\";\n",
      "}else{\n",
      "  print \"No EcoRI sites were found\\n\";\n",
      "}\n",
      " \n",
      "#note: if $sites is declared inside while loop you would not be able to\n",
      "#print it outside the loop\n"
     ],
     "language": "python",
     "metadata": {},
     "outputs": []
    },
    {
     "cell_type": "markdown",
     "metadata": {},
     "source": [
      "This does something similar, but counts one type of methylation site (Pu-C-X-G) instead:"
     ]
    },
    {
     "cell_type": "code",
     "collapsed": false,
     "input": [
      "%%perl\n",
      "\n",
      "use strict;\n",
      " \n",
      "my $filename = \"brca2.fasta\";\n",
      "open (FASTA , '<' ,\"$filename\") or print \"$filename does not exist\\n\";\n",
      "my $sites;\n",
      "\n",
      "while (my $line = <FASTA>) {\n",
      "  \tchomp $line;\n",
      " \n",
      "  \tif ($line =~ /[GA]C.?G/){ \n",
      "        #What Happens If Your File Is Not All In CAPS?\n",
      " \n",
      "        #print \"Found a Methylation Site!\\n\";\n",
      "    \t$sites++;\n",
      "  \t}\n",
      "}\n",
      "if ($sites){\n",
      "\tprint \"$sites Methylation Sites total\\n\";\n",
      "}else{\n",
      "\tprint \"No Methylation Sites were found\\n\";\n",
      "}"
     ],
     "language": "python",
     "metadata": {},
     "outputs": []
    },
    {
     "cell_type": "markdown",
     "metadata": {},
     "source": [
      "#### Regular Expressions\n",
      "\n",
      "A regular expression is normally delimited by two slashes (\"/\"). Everything between the slashes is a pattern to match. Patterns can be made up of the following Atoms:\n",
      "\n",
      "1. Ordinary characters: a-z, A-Z, 0-9 and some punctuation. These match themselves.\n",
      "2. The \".\" character, which matches everything except the newline.\n",
      "3. A bracket list of characters, such as `[AaGgCcTtNn]`, `[A-F0-9]`, or `[^A-Z]` (the last means anything BUT A-Z).\n",
      "4. Certain predefined character sets:\n",
      "    - `\\d` The digits [0-9]\n",
      "    - `\\w` A word character [A-Za-z_0-9]\n",
      "    - `\\s` White space [ \\t\\n\\r]\n",
      "    - `\\D` A non-digit\n",
      "    - `\\W` A non-word\n",
      "    - `\\S` Non-whitespace\n",
      "5. Anchors:\n",
      "    - `^` Matches the beginning of the string\n",
      "    - `$` Matches the end of the string\n",
      "    - `\\b` Matches a word boundary (between a `\\w` and a `\\W`)"
     ]
    },
    {
     "cell_type": "markdown",
     "metadata": {},
     "source": [
      "#### Examples:\n",
      "\n",
      "- `/g..t/` matches \"gaat\", \"goat\", and \"gotta get a goat\" (twice)\n",
      "- `/g[gatc][gatc]t/` matches \"gaat\", \"gttt\", \"gatt\", and \"gotta get an agatt\" (once)\n",
      "- `/\\d\\d\\d-\\d\\d\\d\\d/` matches 376-8380, and 5128-8181, but not 055-98-2818.\n",
      "- `/^\\d\\d\\d-\\d\\d\\d\\d/` matches 376-8380 and 376-83801, but not 5128-8181.\n",
      "- `/^\\d\\d\\d-\\d\\d\\d\\d$/` only matches (US!) telephone numbers.\n",
      "- `/\\bcat/` matches \"cat\", \"catsup\" and \"more catsup please\" but not \"scat\".\n",
      "- `/\\bcat\\b/` only text containing the word \"cat\"."
     ]
    },
    {
     "cell_type": "markdown",
     "metadata": {},
     "source": [
      "#### Quantifiers\n",
      "\n",
      "By default, an atom matches once. This can be modified by following the atom with a quantifier:\n",
      "\n",
      "- `?` atom matches zero or exactly once\n",
      "- `*` atom matches zero or more times\n",
      "- `+` atom matches one or more times\n",
      "- `{3}` atom matches exactly three times\n",
      "- `{2,4}` atom matches between two and four times, inclusive\n",
      "- `{4,}` atom matches at least four times"
     ]
    },
    {
     "cell_type": "markdown",
     "metadata": {},
     "source": [
      "Examples:\n",
      "\n",
      "- `/goa?t/` matches \"goat\" and \"got\". Also any text that contains these words.\n",
      "- `/g.+t/` matches \"goat\", \"goot\", and \"grant\", among others.\n",
      "- `/g.*t/` matches \"gt\", \"goat\", \"goot\", and \"grant\", among others.\n",
      "- `/^\\d{3}-\\d{4}$/` matches US telephone numbers (no extra text allowed)."
     ]
    },
    {
     "cell_type": "markdown",
     "metadata": {},
     "source": [
      "Alternatives and Grouping\n",
      "\n",
      "A set of alternative patterns can be specified with the `|` symbol:\n",
      "    \n",
      "- `/wolf|sheep/` matches \"wolf\" or \"sheep\"\n",
      "\n",
      "Use parentheses to group subpatterns:\n",
      "\n",
      "- `/big bad (wolf|sheep)/` matches \"big bad wolf\" or \"big bad sheep\"\n",
      "\n",
      "You can combine parenthesis and quantifiers to quantify entire subpatterns:\n",
      "\n",
      "- `/big (bad )? wolf\\?/` matches \"big wolf?\" or \"big bad wolf?\"\n",
      "\n",
      "Note that you can match special characters by _escaping_ them by putting a '\\' in front"
     ]
    },
    {
     "cell_type": "markdown",
     "metadata": {},
     "source": [
      "#### Specifying the string to match\n",
      "\n",
      "The one line version of the `if` statement can be combined with a regular expression.\n",
      "\n",
      "- Use the `=~` operator to check if a variable matches a regular expression\n",
      "- There is also an equivalent `!-` operator which checks if a variable does not match"
     ]
    },
    {
     "cell_type": "code",
     "collapsed": false,
     "input": [
      "%%perl\n",
      "\n",
      "my $h = \"Who's afraid of Virginia Woolf?\";\n",
      "print \"I'm afraid!\\n\" if $h =~ /Woo?lf/;\n",
      "\n",
      "if ($h =~ /Woo?lf/) {\n",
      "    print ...\n",
      "}"
     ],
     "language": "python",
     "metadata": {},
     "outputs": []
    },
    {
     "cell_type": "markdown",
     "metadata": {},
     "source": [
      "#### Matching with a variable pattern\n",
      "\n",
      "You can use a scalar variable for all or part of a regular expression. For example:"
     ]
    },
    {
     "cell_type": "code",
     "collapsed": false,
     "input": [
      "%%perl\n",
      "\n",
      "my $pattern = '/usr/local';\n",
      "\n",
      "my $file = '/usr/local/bin/wget';\n",
      "\n",
      "print \"matches\" if $file =~ /^$pattern/;"
     ],
     "language": "python",
     "metadata": {},
     "outputs": []
    },
    {
     "cell_type": "markdown",
     "metadata": {},
     "source": [
      "#### Exercises\n",
      "\n",
      "1. Create a string and check if it contains a number\n",
      "1. Create an array of strings, loop over this array and use a regular expression to check if each string has any numbers in it, print it if so\n",
      "2. Modify your code to check if each string contains _only_ numbers, and print it out if so\n",
      "2. Write a regular expression to match a UK postcode, e.g. CB10 1SA. \n",
      "    - Rules: two uppercase characters, followed by a 1 or 2 digit number, optionally a space, then a single number and two uppercase characters"
     ]
    },
    {
     "cell_type": "code",
     "collapsed": false,
     "input": [
      "%%perl\n",
      "\n",
      "my $str = \"hello\";\n",
      "\n",
      "if ($str =~ /a/) {\n",
      "    print \"$str matches\\n\";\n",
      "}\n",
      "else {\n",
      "    print \"$str doesn't match\\n\";\n",
      "}\n"
     ],
     "language": "python",
     "metadata": {},
     "outputs": []
    },
    {
     "cell_type": "markdown",
     "metadata": {},
     "source": [
      "#### Subpatterns\n",
      "\n",
      "You can extract and manipulate subpatterns in regular expressions.\n",
      "\n",
      "To designate a subpattern, surround its part of the pattern with parenthesis (same as with the grouping operator). This example has just one subpattern, `(.+)` :\n",
      "    \n",
      "`/Who's afraid of the big bad w(.+)f/`"
     ]
    },
    {
     "cell_type": "markdown",
     "metadata": {},
     "source": [
      "#### Matching subpatterns\n",
      "\n",
      "Outside the regular expression match statement, the matched subpatterns (if any) can be found the variables `$1` for the first group, `$2` for the second, `$3` for the third, and so forth.\n",
      "\n",
      "Example. Extract 10 base pairs upstream and 5 base pairs downstream of the TATTAT consensus transcription start site:"
     ]
    },
    {
     "cell_type": "code",
     "collapsed": false,
     "input": [
      "%%perl\n",
      "\n",
      "my $filename = \"brca2.fasta\";\n",
      "open (FASTA , '<' ,\"$filename\") or print \"$filename does not exist\\n\";\n",
      "\n",
      "while (my $line = <FASTA>) {\n",
      "    chomp $line;\n",
      "    next unless $line =~ /(.{10})TATTAT(.{5})/;\n",
      "    my $upstream = $1;\n",
      "    my $downstream = $2;\n",
      "\n",
      "    print \"downstream: $downstream\\n\";\n",
      "}"
     ],
     "language": "python",
     "metadata": {},
     "outputs": []
    },
    {
     "cell_type": "markdown",
     "metadata": {},
     "source": [
      "#### Subpatterns and Greediness\n",
      "\n",
      "By default, regular expressions are \"greedy\". They try to match as much as they can. For example:"
     ]
    },
    {
     "cell_type": "code",
     "collapsed": false,
     "input": [
      "%%perl\n",
      "\n",
      "my $h = 'The fox ate my box of doughnuts';\n",
      "$h =~ /(f.+x)/;\n",
      "$subpattern = $1;\n",
      "print $subpattern, \"\\n\";"
     ],
     "language": "python",
     "metadata": {},
     "outputs": []
    },
    {
     "cell_type": "markdown",
     "metadata": {},
     "source": [
      "Because of the greediness of the match, `$subpattern` will contain \"fox ate my box\" rather than just \"fox\".\n",
      "\n",
      "To match the minimum number of times, put a `?` after the qualifier, like this:"
     ]
    },
    {
     "cell_type": "code",
     "collapsed": false,
     "input": [
      "%%perl\n",
      "\n",
      "my $h = 'The fox ate my box of doughnuts';\n",
      "$h =~ /(f.+?x)/;\n",
      "$subpattern = $1;\n",
      "print $subpattern, \"\\n\";"
     ],
     "language": "python",
     "metadata": {},
     "outputs": []
    },
    {
     "cell_type": "markdown",
     "metadata": {},
     "source": [
      "Now `$subpattern` will contain \"fox\". This is called lazy matching.\n",
      "Lazy matching works with any quantifier, such as `+?`, `*?` and `{2,50}?`."
     ]
    },
    {
     "cell_type": "markdown",
     "metadata": {},
     "source": [
      "#### String Substitution\n",
      "\n",
      "String substitution allows you to replace a pattern or character range with another one using the `s///` and `tr///` functions.\n",
      "\n",
      "The `s///` Function\n",
      "\n",
      "`s///` has two parts: the regular expression and the string to replace it with: `s/expression/replacement/`."
     ]
    },
    {
     "cell_type": "code",
     "collapsed": false,
     "input": [
      "%%perl \n",
      "\n",
      "my $h = \"Who's afraid of the big bad wolf?\";\n",
      "my $i = \"He had a wife.\";\n",
      " \n",
      "$h =~ s/w.+f/goat/;\n",
      "$i =~ s/w.+f/goat/;\n",
      "\n",
      "print \"h: $h\\n\";\n",
      "print \"i: $i\\n\";"
     ],
     "language": "python",
     "metadata": {},
     "outputs": []
    },
    {
     "cell_type": "markdown",
     "metadata": {},
     "source": [
      "If you extract pattern matches, you can use them in the replacement part of the substitution:"
     ]
    },
    {
     "cell_type": "code",
     "collapsed": false,
     "input": [
      "%%perl \n",
      "\n",
      "my $h = \"Who's afraid of the big bad wolf?\";\n",
      " \n",
      "$h =~ s/(\\w+) (\\w+) wolf/$2 $1 wolf/;\n",
      "\n",
      "print \"h: $h\\n\";"
     ],
     "language": "python",
     "metadata": {},
     "outputs": []
    },
    {
     "cell_type": "markdown",
     "metadata": {},
     "source": [
      "#### Translating Character Ranges\n",
      "\n",
      "The `tr///` function allows you to translate one set of characters into another. Specify the source set in the first part of the function, and the destination set in the second part:"
     ]
    },
    {
     "cell_type": "code",
     "collapsed": false,
     "input": [
      "%%perl \n",
      "my $h = \"Who's afraid of the big bad wolf?\";\n",
      "$h =~ tr/ao/AO/;\n",
      "\n",
      "print \"$h\\n\";"
     ],
     "language": "python",
     "metadata": {},
     "outputs": []
    },
    {
     "cell_type": "markdown",
     "metadata": {},
     "source": [
      "This is a convenient way to reverse complement some DNA sequence"
     ]
    },
    {
     "cell_type": "code",
     "collapsed": false,
     "input": [
      "%%perl\n",
      "\n",
      "my $dna = \"CGGTGTAAGTATACC\";\n",
      "\n",
      "$dna =~ tr/ACGT/TGCA/;\n",
      "\n",
      "# we alseo need to reverse the order of the nucleotides\n",
      "\n",
      "$dna = reverse($dna);\n",
      "\n",
      "print \"$dna\\n\";"
     ],
     "language": "python",
     "metadata": {},
     "outputs": []
    },
    {
     "cell_type": "markdown",
     "metadata": {},
     "source": [
      "#### Regular Expression Options\n",
      "\n",
      "Regular expression matches and substitutions have a whole set of options which you can toggle on by appending one or more of the `i, m, s, g, e` or `x` modifiers to the end of the operation. See Programming Perl Page 153 for more information.\n",
      "\n",
      "- `i` Make the match case insensitive\n",
      "- `g` Global match (see below)\n",
      "- `e` Evaluate thr right side of `s///` as an expression\n",
      "- `m` Treat string as multiple lines, `^` and `$` will match internal line boundaries\n",
      "- `s` Treat string as a single line, `.` will match any character but now _including_ newlines\n",
      "- `o` Tell Perl that a variable used in a pattern will never change"
     ]
    },
    {
     "cell_type": "markdown",
     "metadata": {},
     "source": [
      "#### Global Matches\n",
      "\n",
      "Adding the `g` modifier to the pattern causes the match to be global. Called in a scalar context (such as an `if` or `while` statement), it will match as many times as it can.\n",
      "\n",
      "This will match all codons in a DNA sequence, printing them out on separate lines:"
     ]
    },
    {
     "cell_type": "code",
     "collapsed": false,
     "input": [
      "%%perl \n",
      "\n",
      "my $sequence = 'GTTGCCTGAAATGGCGGAACCTTGAA';\n",
      "\n",
      "while ( $sequence =~ /(.{3})/g ) {\n",
      "    print $1,\"\\n\";\n",
      "}"
     ],
     "language": "python",
     "metadata": {},
     "outputs": []
    },
    {
     "cell_type": "markdown",
     "metadata": {},
     "source": [
      "If you perform a global match in a list context (e.g. assign its result to an array), then you get a list of all the subpatterns that matched from left to right. This code fragment gets arrays of codons in all three reading frames:"
     ]
    },
    {
     "cell_type": "code",
     "collapsed": false,
     "input": [
      "%%perl\n",
      "my $sequence = 'GTTGCCTGAAATGGCGGAACCTTGAA';\n",
      "\n",
      "my @frame1 = $sequence =~ /(.{3})/g;\n",
      "my @frame2 = substr($sequence,1) =~ /(.{3})/g;\n",
      "my @frame3 = substr($sequence,2) =~ /(.{3})/g;\n",
      "\n",
      "print join(\"\\n\", @frame3);"
     ],
     "language": "python",
     "metadata": {},
     "outputs": []
    },
    {
     "cell_type": "markdown",
     "metadata": {},
     "source": [
      "#### Exercises\n",
      "\n",
      "1. The enzyme ApoI has a restriction site: `R^AATTY` where `R` and `Y` are degenerate nucleotides. See the IUPAC table to identify the nucleotide possibilities for the R and Y. Write a regular expression that will match occurrences of the site in a sequence. (hint: what are you going to do about the actual cut site, represented by the `^`?)\n",
      "    \n",
      "2. Use the regular expression you just wrote to find all the restriction sites in the `brca2_short.fasta` file. Be sure to think about how to handle the newlines!\n",
      "\n",
      "3. Determine the site(s) of the cut in the above sequence. Print out the sequence with `^` at the cut site. Hints: Use subpatterns (parentheses and `$1`, `$2`) to find the cut site within the pattern. Use `s///` Example: if the pattern is GACGT^CT the following sequence `AAAAAAAAGACGTCTTTTTTTAAAAAAAAGACGTCTTTTTTT` would be cut like this: `AAAAAAAAGACGT^CTTTTTTTAAAAAAAAGACGT^CTTTTTTT`\n",
      "\n",
      "4. Now that you've done your restriction digest, determine the lengths of your fragments and sort them by length (in the same order they would separate on an electrophoresis gel). Hint: take a look at the split man page or think about storing your matches in an array. With one of these two approaches you should be able to convert this string: `AAAAAAAAGACGT^CTTTTTTTAAAAAAAAGACGT^CTTTTTTT` into this array: `(\"AAAAAAAAGACGT\",\"CTTTTTTTAAAAAAAAGACGT\",\"CTTTTTTT\")`\n"
     ]
    },
    {
     "cell_type": "code",
     "collapsed": false,
     "input": [],
     "language": "python",
     "metadata": {},
     "outputs": []
    }
   ],
   "metadata": {}
  }
 ]
}