{
 "metadata": {
  "name": "Learning Perl"
 },
 "nbformat": 3,
 "nbformat_minor": 0,
 "worksheets": [
  {
   "cells": [
    {
     "cell_type": "markdown",
     "metadata": {},
     "source": [
      "#<center>Learning Perl</center>\n",
      "<center>based on Sofia Robb's course: <a href = \"http://sofiarobb.com/learning-perl-toc/\">`http://sofiarobb.com/learning-perl-toc/`</a></center>\n",
      "<center>converted to an <a href=\"http://ipython.org/ipython-doc/dev/interactive/htmlnotebook.html\">IPython notebook</a>, with minor changes, by Graham Ritchie</center>"
     ]
    },
    {
     "cell_type": "heading",
     "level": 1,
     "metadata": {},
     "source": [
      "Lesson 1: Perl script skeleton"
     ]
    },
    {
     "cell_type": "markdown",
     "metadata": {},
     "source": [
      "Perl comes preinstalled on Macs and Linux distributions. It can be downloaded for PCs. Perl is widely used by biologists to solve problems we encounter when handling DNA and protein sequences, file format conversions, as well as many any other tasks that are computationally repetitive. Perl is not the only language for these tasks but one of many. \n",
      "\n",
      "The skeleton of a Perl script:\n",
      "\n",
      "1. path to perl\n",
      "    - `#!/usr/bin/perl`\n",
      "    - This can differ on different systems, or if you have a local or nonstandard installation of perl.\n",
      "2. allow for extensive reporting of warnings\n",
      "    - `#!/usr/bin/perl -w`\n",
      "3. use the strict module\n",
      "    - `use strict;`\n",
      "4. add comments\n",
      "    - `# hello.pl`\n",
      "    - a `#` pound or number sign indicates that the text that follows is a comment\n",
      "    - comments are good to document logic, script names, and script purposes\n",
      "5. the body of you script that does something.\n",
      "    - `print \"Hello! I wrote my first perl script!!\\n\";`\n",
      "    - each line of your script will end with a `;` semicolon.\n",
      "    - print is a function.\n",
      "    - `'\\n'` is the newline character\n",
      "    - Not used in this lesson but it is nice to know that `'\\t'` is the tab character\n"
     ]
    },
    {
     "cell_type": "markdown",
     "metadata": {},
     "source": [
      "Running a perl script from the command line.\n",
      "\n",
      "1. Make the script executable. (Note: I will use `%%` to indicate that we are on the command line. Do not type the `%%`.)\n",
      "    - `%% chmod +x yourScript.pl`\n",
      "2. running it from the commmand line\n",
      "    - `%% ./hello.pl`"
     ]
    },
    {
     "cell_type": "markdown",
     "metadata": {},
     "source": [
      "Putting it all together, the complete script:"
     ]
    },
    {
     "cell_type": "code",
     "collapsed": false,
     "input": [
      "%%perl\n",
      "#!/usr/bin/perl -w\n",
      "#hello.pl\n",
      "use strict;\n",
      "print \"Hello! I wrote my first perl script!!\\n\";"
     ],
     "language": "python",
     "metadata": {},
     "outputs": []
    },
    {
     "cell_type": "markdown",
     "metadata": {},
     "source": [
      "Running the script and the output:"
     ]
    },
    {
     "cell_type": "code",
     "collapsed": false,
     "input": [
      "%%bash \n",
      "./hello.pl"
     ],
     "language": "python",
     "metadata": {},
     "outputs": []
    },
    {
     "cell_type": "markdown",
     "metadata": {},
     "source": [
      "#### Exercises\n",
      "1. Write your first perl script\n",
      "    - use the format described above\n",
      "    - use the print funtion"
     ]
    },
    {
     "cell_type": "markdown",
     "metadata": {},
     "source": [
      "-----"
     ]
    },
    {
     "cell_type": "heading",
     "level": 1,
     "metadata": {},
     "source": [
      "Lesson 2: Variables: scalars, arrays, and hashes"
     ]
    },
    {
     "cell_type": "markdown",
     "metadata": {},
     "source": [
      "Perl uses special characters to indicate the type of variable that is being used:\n",
      "\n",
      "<table>\n",
      "    <tr><td>Scalar</td><td><tt>$</tt></td></tr>\n",
      "    <tr><td>Array</td><td><tt>@</tt></td></tr>\n",
      "    <tr><td>Hash</td><td><tt>%</tt></td></tr>\n",
      "</table>\n",
      "\n",
      "Each type of variable holds data in different ways:\n",
      "\n",
      "<table>\n",
      "    <tr><td>Scalar</td><td>individual numbers, text or references</td></tr>\n",
      "    <tr><td>Array</td><td>ordered lists of scalars</td></tr>\n",
      "    <tr><td>Hash</td><td>unordered collections of scalars</td></tr>\n",
      "</table>\n",
      "\n",
      "\n",
      "\n",
      "\n",
      "\n"
     ]
    },
    {
     "cell_type": "markdown",
     "metadata": {},
     "source": [
      "#### Scalars\n",
      "\n",
      "<table>\n",
      "    <tr><th>type of scalar</th><th>examples</th></tr>\n",
      "    <tr><td>number: integers</td><td><tt>-1 1 101 1</tt></td></tr>\n",
      "    <tr><td>number: floating-points</td><td><tt>-0.1 0.1 100.1</tt></td></tr>\n",
      "    <tr><td>string: letters</td><td><tt>\"a\" \"A\" \"Z\" \"z\"</tt></td></tr>\n",
      "    <tr><td>string: words</td><td><tt>\"Pickle\" \"tickle\"</tt></td></tr>\n",
      "    <tr><td>string: words and spaces and punctuation</td><td><tt>\"Over the sun and beyond the blue.\"\n",
      "</tt></td></tr>\n",
      "    <tr><td>reference</td><td>(see later lessons)</td></tr>\n",
      "</table>"
     ]
    },
    {
     "cell_type": "markdown",
     "metadata": {},
     "source": [
      "#### Arrays: Ordered list of scalars\n",
      "\n",
      "<table>\n",
      "    <tr><th>type of list</th><th>elements of list</th></tr>\n",
      "    <tr><td>list of numbers</td><td><tt>-1,1,0.1,-0.01,101,0</tt></td></tr>\n",
      "    <tr><td>list of strings</td><td><tt>\"a\",\"Over the sun\",\"z\"</tt></td></tr>\n",
      "    <tr><td>list of numbers and strings</td><td><tt>\"Pickle\",0,\"tickle\",\"Over the sun\",-42</tt></td></tr>\n",
      "</table>\n",
      "\n",
      "Elements of an ordered list or array can be accessed by using its position in the list or its _index_.\n",
      "\n",
      "- example array: `(-1,1,0.1,-0.01,101,0)`\n",
      "- The list is ordered because each element has a position/index(number).\n",
      "- The position is used to access a specific element\n",
      "\n",
      "<table>\n",
      "    <tr><th>position</th><th>index</th><th>value</th></tr>\n",
      "    <tr><td>first</td><td>0</td><td><tt>-1</tt></td></tr>\n",
      "    <tr><td>second</td><td>1</td><td><tt>1</tt></td></tr>\n",
      "    <tr><td>third</td><td>2</td><td><tt>0.1</tt></td></tr>\n",
      "    <tr><td>last</td><td>-1</td><td><tt>0</tt></td></tr>\n",
      "    <tr><td>penultimate</td><td>-2</td><td><tt>101</tt></td></tr>\n",
      "</table>\n"
     ]
    },
    {
     "cell_type": "markdown",
     "metadata": {},
     "source": [
      "#### Hash: Unordered collection of scalars\n",
      "\n",
      "<table>\n",
      "    <tr><th>type of hash</th><th>elements of hash</th></tr>\n",
      "    <tr><td>collection of numbers and strings</td><td><tt>\"t\" => \"tickle\", 1 => \"one\" , \"onehundred\" => 100</tt></td></tr>\n",
      "</table>\n",
      "\n",
      "Elements of an unordered list or hash can be accessed, not using its position in the list but by its _key_.\n",
      "\n",
      "- a _key_ is like an _index_ but it can be any scalar not just a number.\n",
      "- example hash: `(\"t\" => \"tickle\", 1 => \"one\" , \"onehundred\" => 100)`\n",
      "- The hash is unordered because each element has a key (any scalar) not an ordered position\n",
      "- The key is used to access a specific element.\n",
      "\n",
      "<table>\n",
      "    <tr><th>key</th><th>value</th></tr>\n",
      "    <tr><td>t</td><td><tt>\"tickle\"</tt></td></tr>\n",
      "    <tr><td>1</td><td><tt>\"one\"</tt></td></tr>\n",
      "    <tr><td>100</td><td><tt>100</tt></td></tr>\n",
      "</table>\n",
      "\n",
      "Note there is no equivalent of _last_ in a hash, because they are unordered"
     ]
    },
    {
     "cell_type": "markdown",
     "metadata": {},
     "source": [
      "#### Exercises\n",
      "\n",
      "1. What is the best variable type to store:\n",
      "    - A complete DNA sequence?\n",
      "    - Individual nucleotides of a DNA sequence that you want to keep in the appropriate order?\n",
      "    - Gene names and the corresponding DNA sequence?"
     ]
    },
    {
     "cell_type": "markdown",
     "metadata": {},
     "source": [
      "-----"
     ]
    },
    {
     "cell_type": "heading",
     "level": 1,
     "metadata": {},
     "source": [
      "Lesson 3: Assigning Values to Scalar Variables"
     ]
    },
    {
     "cell_type": "markdown",
     "metadata": {},
     "source": [
      "- Values can be assigned to scalar variables with the use of the assignment operator `=`.\n",
      "- other assignment operators are:\n",
      "    - `.=`\n",
      "    - `+=`\n",
      "    - `-=`\n",
      "    - `*=`\n",
      "\n",
      "#### Scalar Assignment \n",
      "\n",
      "- All code needs to have the complete script skeleton \n",
      "- I will leave it out in the notes"
     ]
    },
    {
     "cell_type": "code",
     "collapsed": false,
     "input": [
      "%%perl\n",
      "# scalar_assignment.pl\n",
      "# use 'my' the FIRST time you use a variable\n",
      "# this is a part of the strict module\n",
      "my $text = \"eve\";\n",
      "my $num = 6;\n",
      "print \"Do you like $text $num?\\n\""
     ],
     "language": "python",
     "metadata": {},
     "outputs": []
    },
    {
     "cell_type": "markdown",
     "metadata": {},
     "source": [
      "#### Scalar reassignment\n",
      "\n",
      "Variables are just that, _VARIABLE_. They can change.\n",
      "\n",
      "Examples of reassigning values to scalar variables:"
     ]
    },
    {
     "cell_type": "code",
     "collapsed": false,
     "input": [
      "%%perl\n",
      "# scalar_reassignment.pl\n",
      " \n",
      "my $num = 33;\n",
      "print \"1: $num\\n\";\n",
      "$num = $num + 1;\n",
      "print \"2: $num\\n\";"
     ],
     "language": "python",
     "metadata": {},
     "outputs": []
    },
    {
     "cell_type": "markdown",
     "metadata": {},
     "source": [
      "Another example of scalar reassignment"
     ]
    },
    {
     "cell_type": "code",
     "collapsed": false,
     "input": [
      "%%perl\n",
      "# scalar_reassignment_2.pl\n",
      " \n",
      "my $text = \"The cat in the hat\";\n",
      "print \"1: $text\\n\";\n",
      " \n",
      "# '.' text concatenation operator\n",
      "$text = $text . \" \" . \"came back\";\n",
      "print \"2: $text\\n\";\n",
      " \n",
      "$text = \"Ickle Me, Pickle Me, Tickle Me Too\";\n",
      "print \"3: $text\\n\";"
     ],
     "language": "python",
     "metadata": {},
     "outputs": []
    },
    {
     "cell_type": "markdown",
     "metadata": {},
     "source": [
      "#### What\u2019s the difference between Single and Double Quotes?\n",
      "\n",
      "- If you put a variable, such as `\u201c$text\u201d` inside of double quotes in a `print` statement, you will get the value of `$text`.\n",
      "- But if you put `\u2018$text\u2019` inside of single quotes you will literally get `$text`.\n",
      "- The same is true for special characters like the newline `\u201c\\n\u201d`\n",
      "- And remember do not put operators or functions inside of quotes, even double quotes in your `print` statements. You will get what you typed not what the function returns"
     ]
    },
    {
     "cell_type": "code",
     "collapsed": false,
     "input": [
      "%%perl\n",
      "my $text = \"Some line of text\";\n",
      "print \"$text\\n\";"
     ],
     "language": "python",
     "metadata": {},
     "outputs": []
    },
    {
     "cell_type": "code",
     "collapsed": false,
     "input": [
      "%%perl\n",
      "my $text = \"Some line of text\";\n",
      "print '$text\\n';"
     ],
     "language": "python",
     "metadata": {},
     "outputs": []
    },
    {
     "cell_type": "markdown",
     "metadata": {},
     "source": [
      "#### Exercises\n",
      "\n",
      "1. Create a script that assigns a string to a scalar and prints the scalar.\n",
      "2. Add the reassignment of a number to the same scalar used above. Print this new value as well as the first value."
     ]
    },
    {
     "cell_type": "markdown",
     "metadata": {},
     "source": [
      "-----"
     ]
    },
    {
     "cell_type": "heading",
     "level": 1,
     "metadata": {},
     "source": [
      "Lesson 4: Array assignment"
     ]
    },
    {
     "cell_type": "markdown",
     "metadata": {
      "slideshow": {
       "slide_type": "subslide"
      }
     },
     "source": [
      "Remember, arrays are a list of scalars. \n",
      "\n",
      "array of strings:"
     ]
    },
    {
     "cell_type": "code",
     "collapsed": false,
     "input": [
      "%%perl\n",
      "my @first_array = (\"Went\",\"for\",\"a\",\"ride\",\"in\",\"a\",\"flying\",\"shoe\");"
     ],
     "language": "python",
     "metadata": {
      "slideshow": {
       "slide_type": "subslide"
      }
     },
     "outputs": []
    },
    {
     "cell_type": "markdown",
     "metadata": {},
     "source": [
      "array of numbers:"
     ]
    },
    {
     "cell_type": "code",
     "collapsed": false,
     "input": [
      "%%perl\n",
      "my @second_array = (22,103,1,0);"
     ],
     "language": "python",
     "metadata": {},
     "outputs": []
    },
    {
     "cell_type": "markdown",
     "metadata": {},
     "source": [
      "array of strings and numbers:"
     ]
    },
    {
     "cell_type": "code",
     "collapsed": false,
     "input": [
      "%%perl\n",
      "my @third_array = (\"ride\",103,\"Sally\",22,0,\"ride\",11,\"Mustang Sally\");"
     ],
     "language": "python",
     "metadata": {},
     "outputs": []
    },
    {
     "cell_type": "markdown",
     "metadata": {},
     "source": [
      "Printing an array without using quotes\n",
      "\n",
      "- Prints the array without a space between elements"
     ]
    },
    {
     "cell_type": "code",
     "collapsed": false,
     "input": [
      "%%perl\n",
      "my @first_array = (\"Went\",\"for\",\"a\",\"ride\",\"in\",\"a\",\"flying\",\"shoe\");\n",
      "my @second_array = (22,103,1,0);\n",
      "\n",
      "print \"quick&ugly_1: \" , @first_array , \"\\n\";\n",
      "print \"quick&ugly_2: \" , @second_array , \"\\n\";"
     ],
     "language": "python",
     "metadata": {},
     "outputs": []
    },
    {
     "cell_type": "markdown",
     "metadata": {},
     "source": [
      "Printing an array using quotes\n",
      "\n",
      "- Prints a space between elements"
     ]
    },
    {
     "cell_type": "code",
     "collapsed": false,
     "input": [
      "%%perl\n",
      "my @first_array = (\"Went\",\"for\",\"a\",\"ride\",\"in\",\"a\",\"flying\",\"shoe\");\n",
      "my @second_array = (22,103,1,0);\n",
      "\n",
      "print \"quick&neat_1: @first_array\\n\"; \n",
      "print \"quick&neat_2: @second_array\\n\";"
     ],
     "language": "python",
     "metadata": {},
     "outputs": []
    },
    {
     "cell_type": "markdown",
     "metadata": {},
     "source": [
      "Printing an array using the `join` function\n",
      "\n",
      "- Returns a string with any character you want between each element using the `join` function"
     ]
    },
    {
     "cell_type": "code",
     "collapsed": false,
     "input": [
      "%%perl\n",
      "my @third_array = (\"ride\",103,\"Sally\",22,0,\"ride\",11,\"Mustang Sally\");\n",
      "\n",
      "print \"quick&useful_3:\\n\", join (\"\\n\" , @third_array), \"\\n\";"
     ],
     "language": "python",
     "metadata": {},
     "outputs": []
    },
    {
     "cell_type": "markdown",
     "metadata": {},
     "source": [
      "#### Exercises\n",
      "\n",
      "1. Create a script that contains an array of scalars.\n",
      "2. Modify the above script to print the array using quotes around your array: `print \"@yourArray\\n\";`\n",
      "3. Add another line to your script in which you use the function join to transform your array into a string. Assign this new string to a new scalar variable.\n",
      "5. Print your new scalar containing your new string in addition to everything you printed above."
     ]
    },
    {
     "cell_type": "markdown",
     "metadata": {},
     "source": [
      "-----"
     ]
    },
    {
     "cell_type": "heading",
     "level": 2,
     "metadata": {},
     "source": [
      "Lesson 5: Accessing elements of an array"
     ]
    },
    {
     "cell_type": "markdown",
     "metadata": {},
     "source": [
      "Example Array: `my @favs = (\"Pink Floyd\" , \"Led Zeppelin\", \"The Doors\");`\n",
      "\n",
      "<table>\n",
      "    <tr><th>index</th><th>value</th></tr>\n",
      "    <tr><td><i>0</i></td><td><i>Pink Floyd</i></td></tr>\n",
      "    <tr><td><i>1</i></td><td><i>Led Zeppelin</i></td></tr>\n",
      "    <tr><td><i>2</i></td><td><i>The Doors</i></td></tr>\n",
      "</table>\n",
      "\n",
      "To access only one element of the array you are accessing a single scalar.\n",
      "The `$` and not the `@` will be used."
     ]
    },
    {
     "cell_type": "code",
     "collapsed": false,
     "input": [
      "%%perl -w\n",
      "my @favs = (\"Pink Floyd\" , \"Led Zeppelin\", \"The Doors\");\n",
      "my $element = $favs[2];\n",
      "print $element , \"\\n\";"
     ],
     "language": "python",
     "metadata": {},
     "outputs": []
    },
    {
     "cell_type": "markdown",
     "metadata": {},
     "source": [
      "- Notice the square brackets `[ ]`.\n",
      "- `[ ]` indicate that we are accessing a piece of the array.\n",
      "- The number inside the [ ] indicate the exact element.\n",
      "- `@favs[1]` is incorrect"
     ]
    },
    {
     "cell_type": "markdown",
     "metadata": {},
     "source": [
      "#### Exercises:\n",
      "\n",
      "1. Write a script in which you create an array.\n",
      "2. In this script assign the 0th and the 3rd elements to two scalar variables\n",
      "3. Add a print statement in which you print a sentence that uses the two scalar variables of the two elements"
     ]
    },
    {
     "cell_type": "markdown",
     "metadata": {},
     "source": [
      "-----"
     ]
    },
    {
     "cell_type": "heading",
     "level": 1,
     "metadata": {},
     "source": [
      "Lesson 6: Reassigning elements of an array"
     ]
    },
    {
     "cell_type": "markdown",
     "metadata": {},
     "source": [
      "This is a sample array."
     ]
    },
    {
     "cell_type": "code",
     "collapsed": false,
     "input": [
      "%%perl\n",
      "my @favs = (\"Pink Floyd\" , \"Led Zeppelin\", \"The Doors\");"
     ],
     "language": "python",
     "metadata": {},
     "outputs": []
    },
    {
     "cell_type": "markdown",
     "metadata": {},
     "source": [
      "In this array there are 3 elements; 0, 1 & 2.\n",
      "\n",
      "<table>\n",
      "    <tr><th>index</th><th>value</th></tr>\n",
      "    <tr><td><i>0</i></td><td><i>Pink Floyd</i></td></tr>\n",
      "    <tr><td><i>1</i></td><td><i>Led Zeppelin</i></td></tr>\n",
      "    <tr><td><i>2</i></td><td><i>The Doors</i></td></tr>\n",
      "</table>\n",
      "\n",
      "- To access/reassign only one element of the array you are reassigning a single scalar variable.\n",
      "- The `$` and not the `@` will be used."
     ]
    },
    {
     "cell_type": "code",
     "collapsed": false,
     "input": [
      "%%perl\n",
      "my @favs = (\"Pink Floyd\" , \"Led Zeppelin\", \"The Doors\");\n",
      "my $just_one = $favs[2];\n",
      "print \"org: @favs\\n\";\n",
      "print \"just one: $just_one\\n\";\n",
      " \n",
      "$favs[2] = \"Nirvana\";\n",
      "print \"new: @favs\\n\";\n",
      "print \"just one: $just_one\\n\";"
     ],
     "language": "python",
     "metadata": {},
     "outputs": []
    },
    {
     "cell_type": "markdown",
     "metadata": {},
     "source": [
      "#### Length of an array\n",
      "\n",
      "If you would like to find the length of the array, use the function `scalar`. This will return the scalar representation of the array, which in perl is the length."
     ]
    },
    {
     "cell_type": "code",
     "collapsed": false,
     "input": [
      "%%perl\n",
      "my @favs = (\"Pink Floyd\" , \"Led Zeppelin\", \"The Doors\");\n",
      "my $len = scalar @favs;\n",
      "print \"the length of the array is $len\\n\";"
     ],
     "language": "python",
     "metadata": {},
     "outputs": []
    },
    {
     "cell_type": "markdown",
     "metadata": {},
     "source": [
      "#### Adding elements to a distant nonexistent index.\n",
      "\n",
      "You can add new elements anywhere in your array, even far off the end of the array."
     ]
    },
    {
     "cell_type": "code",
     "collapsed": false,
     "input": [
      "%%perl\n",
      "my @favs = (\"Pink Floyd\" , \"Led Zeppelin\", \"The Doors\");\n",
      "my $len = scalar @favs;\n",
      "print \"len:$len @favs\\n\";\n",
      "$favs[20] = \"Nirvana\";\n",
      "$len = scalar @favs;\n",
      "print \"len after adding a 20th element:$len\\n\";"
     ],
     "language": "python",
     "metadata": {},
     "outputs": []
    },
    {
     "cell_type": "markdown",
     "metadata": {},
     "source": [
      "The elements between 3 and 20 are empty."
     ]
    },
    {
     "cell_type": "markdown",
     "metadata": {},
     "source": [
      "#### Exercises\n",
      "\n",
      "1. Write a script in which you create an array and print the array.\n",
      "2. Reassign 2 elements to contain new values\n",
      "3. Print the array again\n",
      "4. Print the last element of the array using the `[-1]` index."
     ]
    },
    {
     "cell_type": "markdown",
     "metadata": {},
     "source": [
      "-----"
     ]
    },
    {
     "cell_type": "heading",
     "level": 1,
     "metadata": {},
     "source": [
      "Lesson 7: Hash Assignment"
     ]
    },
    {
     "cell_type": "markdown",
     "metadata": {},
     "source": [
      "Remember, hashes are similar to arrays with scalars as keys instead of numbers as indices.\n",
      "\n",
      "<table>\n",
      "    <tr><th>key</th><th>value</th></tr>\n",
      "    <tr><td><i>apple</i></td><td><i>a</i></td></tr>\n",
      "    <tr><td><i>bee</i></td><td><i>b</i></td></tr>\n",
      "    <tr><td><i>candy</i></td><td><i>c</i></td></tr>\n",
      "</table>"
     ]
    },
    {
     "cell_type": "code",
     "collapsed": false,
     "input": [
      "%%perl\n",
      "# hash_assignment.pl\n",
      " \n",
      "# hash of strings\n",
      "# assign values to a hash in a similar fashion to array\n",
      "# the list is now a series of keys followed by it's value\n",
      "my %first_hash = (\"apple\",\"a\",\"bee\",\"b\",\"candy\",\"c\");\n",
      " \n",
      "# a more intuitive way to assign key/value pairs to a hash\n",
      "# the '=>' is a substitution for the ',' \n",
      "%first_hash = (  \"apple\" => \"a\",\n",
      "                 \"bee\"   => \"b\",\n",
      "                 \"candy\" => \"c\",\n",
      "              );"
     ],
     "language": "python",
     "metadata": {},
     "outputs": []
    },
    {
     "cell_type": "markdown",
     "metadata": {},
     "source": [
      "- In an array you can only have 1 of each index. You can only have one 5th element.\n",
      "- In a hash you also can only have 1 of each index or key. You can only have one `bee`-th element.\n",
      "\n",
      "#### Visualizing the hash\n",
      "- We are going to use a module to help us see the structure of our hash.\n",
      "- `use Data::Dumper;`\n",
      "- we will use the method `Dumper` in our `print` statements\n",
      "- later, we will review other ways to print the contents of hashes"
     ]
    },
    {
     "cell_type": "code",
     "collapsed": false,
     "input": [
      "%%perl\n",
      "#!/usr/bin/perl -w\n",
      "use strict;\n",
      "use Data::Dumper;\n",
      " \n",
      "my %first_hash = (  \"apple\" => \"a\",\n",
      "                    \"bee\"   => \"b\",\n",
      "                    \"candy\" => \"c\",\n",
      "              );\n",
      " \n",
      "print Dumper \\%first_hash;\n",
      "# notice the '\\'\n",
      "# this is necessary for the Dumper method"
     ],
     "language": "python",
     "metadata": {},
     "outputs": []
    },
    {
     "cell_type": "markdown",
     "metadata": {},
     "source": [
      "#### Exercises\n",
      "- Create a script that contains a hash.\n",
      "- View your hash with the module `Data::Dumper`"
     ]
    },
    {
     "cell_type": "markdown",
     "metadata": {},
     "source": [
      "-----"
     ]
    },
    {
     "cell_type": "heading",
     "level": 1,
     "metadata": {},
     "source": [
      "Lesson 8: Accessing elements of a hash"
     ]
    },
    {
     "cell_type": "markdown",
     "metadata": {},
     "source": [
      "The beauty of hashes is that they enable us to retrieve specific information (value) for a given key. This is similar to a dictionary in that we can look up a 'word' to find the 'definition'. We do not have to go through all the other words to find the correct word. It is direct access."
     ]
    },
    {
     "cell_type": "code",
     "collapsed": false,
     "input": [
      "%%perl\n",
      "# Example Hash:\n",
      "my %favs = (    \"band\" => \"Led Zeppelin\", \n",
      "                \"book\" => \"Jitterbug Perfume\",\n",
      "                \"language\" => \"Perl\",\n",
      "           );"
     ],
     "language": "python",
     "metadata": {},
     "outputs": []
    },
    {
     "cell_type": "markdown",
     "metadata": {},
     "source": [
      "<table>\n",
      "    <tr><th>key</th><th>value</th></tr>\n",
      "    <tr><td><i>band</i></td><td><i>Led Zeppelin</i></td></tr>\n",
      "    <tr><td><i>book</i></td><td><i>Jitterbug Perfume</i></td></tr>\n",
      "    <tr><td><i>language</i></td><td><i>Perl</i></td></tr>\n",
      "</table>\n",
      "\n",
      "- To access only one element of the hash you are accessing a single scalar.\n",
      "- The `$` and not the `%` will be used."
     ]
    },
    {
     "cell_type": "code",
     "collapsed": false,
     "input": [
      "%%perl\n",
      "my %favs = (    \"band\" => \"Led Zeppelin\", \n",
      "                \"book\" => \"Jitterbug Perfume\",\n",
      "                \"language\" => \"Perl\",\n",
      "           );\n",
      "\n",
      "my $value = $favs{book};\n",
      "print $value , \"\\n\";\n",
      "print \"My favorite band is $favs{band}\\n\";"
     ],
     "language": "python",
     "metadata": {},
     "outputs": []
    },
    {
     "cell_type": "markdown",
     "metadata": {},
     "source": [
      "- Notice the curly brackets `{}`.\n",
      "- `{}` indicate that we are accessing an element of a hash.\n",
      "- The key in the `{}` will evaluate to one exact value.\n",
      "- `%favs{band}` is incorrect (we are accessing a scalar value)\n",
      "- `$favs[band]` is incorrect (use `[]` for accessing the elements of an array)\n",
      "- `%favs[band]` is incorrect (got both wrong!)"
     ]
    },
    {
     "cell_type": "markdown",
     "metadata": {},
     "source": [
      "#### Exercises\n",
      "- Write a script in which you create a hash with 3 key/value pairs.\n",
      "- print each value using a print statement with each key.\n",
      "- assign two values to two new scalar variable for two keys.\n",
      "- Add a print statement in which you print a sentence that uses the scalar variables"
     ]
    },
    {
     "cell_type": "markdown",
     "metadata": {},
     "source": [
      "-----"
     ]
    },
    {
     "cell_type": "heading",
     "level": 1,
     "metadata": {},
     "source": [
      "Lesson 9: Reassigning elements of a hash"
     ]
    },
    {
     "cell_type": "markdown",
     "metadata": {},
     "source": [
      "Almost everytime you use a hash you will want to change the values of keys and add new key value pairs."
     ]
    },
    {
     "cell_type": "code",
     "collapsed": false,
     "input": [
      "%%perl\n",
      "# Example Hash:\n",
      "my %favs = (    \"band\" => \"Led Zeppelin\",\n",
      "                \"book\" => \"Jitterbug Perfume\",\n",
      "                \"language\" => \"Perl\",\n",
      "           );"
     ],
     "language": "python",
     "metadata": {},
     "outputs": []
    },
    {
     "cell_type": "markdown",
     "metadata": {},
     "source": [
      "- To access/reassign only one element of the hash you are reassigning a single scalar variable.\n",
      "- The $ and not the % will be used.\n",
      "- You can add new key/value pairs at any time"
     ]
    },
    {
     "cell_type": "code",
     "collapsed": false,
     "input": [
      "%%perl\n",
      "use Data::Dumper;\n",
      "\n",
      "my %favs = (    \"band\" => \"Led Zeppelin\",\n",
      "                \"book\" => \"Jitterbug Perfume\",\n",
      "                \"language\" => \"Perl\",\n",
      "           );\n",
      "\n",
      "## remember to add \"use Data::Dumper;\"\n",
      "print Dumper \\%favs;\n",
      " \n",
      "$favs{book} = \"Midnight in the garden of good and evil\";\n",
      " \n",
      "print \"\\nWe just changed my favorite book\\n\\n\";\n",
      "\n",
      "print Dumper \\%favs;\n",
      "\n",
      "$favs{movie} = \"Natural Born Killers\";\n",
      " \n",
      "print \"\\nWe just added my favorite movie\\n\\n\";\n",
      "\n",
      "print Dumper \\%favs;"
     ],
     "language": "python",
     "metadata": {},
     "outputs": []
    },
    {
     "cell_type": "markdown",
     "metadata": {},
     "source": [
      "#### Exercises\n",
      "1. Write a script in which you create an hash with 3 key/value pairs and view your hash.\n",
      "2. Reassign 2 keys to contain new values and view the hash again.\n",
      "3. Add 2 new key/value pairs and view the hash again."
     ]
    },
    {
     "cell_type": "markdown",
     "metadata": {},
     "source": [
      "----"
     ]
    },
    {
     "cell_type": "heading",
     "level": 1,
     "metadata": {},
     "source": [
      "Lesson 10: String functions and operators"
     ]
    },
    {
     "cell_type": "markdown",
     "metadata": {},
     "source": [
      "Common string functions and operators:\n",
      "\n",
      "<table>\n",
      "    <tr><th>Function</th><th>Summary</th><th>Example</th></tr>\n",
      "    <tr><td><tt>substr</tt></td><td>sub string</td><td><tt>print substr($str, 3, 5)</tt></td></tr>\n",
      "    \n",
      "    <tr><td><tt>length</tt></td><td>length of string</td><td><tt>print length($str)</tt></td></tr>\n",
      "    \n",
      "    <tr><td><tt>uc</tt></td><td>uppercase</td><td><tt>print uc($str)</tt></td></tr>\n",
      "    \n",
      "    <tr><td><tt>lc</tt></td><td>lowercase</td><td><tt>print lc($str)</tt></td></tr>\n",
      "    \n",
      "    <tr><td><tt>ucfirst</tt></td><td>uppercase first character</td><td><tt>print ucfirst($str)</tt></td></tr>\n",
      "    \n",
      "    <tr><td><tt>lcfirst</tt></td><td>lowercase first character</td><td><tt>print lcfirst($str)</tt></td></tr>\n",
      "    \n",
      "    <tr><td><tt>split</tt></td><td>splits up a string, returns an array</td><td><tt>my @array = split(\" \", $str)</tt></td></tr>\n",
      "</table>\n",
      "\n",
      "<table>\n",
      "    <tr><th>Operator</th><th>Summary</th><th>Example</th></tr>\n",
      "    <tr><td><tt>.</tt></td><td>concatenation</td><td><tt>$str . \" \" . \"!!\"</tt></td></tr>\n",
      "    \n",
      "    <tr><td><tt>.=</tt></td><td>concatenation & assignments</td><td><tt>$str .= \"add this\"</tt></td></tr>\n",
      "</table>  "
     ]
    },
    {
     "cell_type": "markdown",
     "metadata": {},
     "source": [
      "Examples using common string functions and operators"
     ]
    },
    {
     "cell_type": "code",
     "collapsed": false,
     "input": [
      "%%perl\n",
      "my $str = \"There she was just a walking down the street\";\n",
      "print \"str: \" , $str , \"\\n\";"
     ],
     "language": "python",
     "metadata": {},
     "outputs": []
    },
    {
     "cell_type": "markdown",
     "metadata": {},
     "source": [
      "__`substr`__\n",
      "\n",
      "Note: the first 3 arguments of substr are:\n",
      "        \n",
      "1. the string\n",
      "2. the start (offset) starting from 0\n",
      "3. the length of the desired substring"
     ]
    },
    {
     "cell_type": "code",
     "collapsed": false,
     "input": [
      "%%perl\n",
      "my $str = \"There she was just a walking down the street\";\n",
      "print \"substr: \" , substr($str, 4, 8) , \"\\n\";"
     ],
     "language": "python",
     "metadata": {},
     "outputs": []
    },
    {
     "cell_type": "markdown",
     "metadata": {},
     "source": [
      "__`length`__"
     ]
    },
    {
     "cell_type": "code",
     "collapsed": false,
     "input": [
      "%%perl\n",
      "my $str = \"There she was just a walking down the street\";\n",
      "print \"length: \" , length($str) , \"\\n\";"
     ],
     "language": "python",
     "metadata": {},
     "outputs": []
    },
    {
     "cell_type": "markdown",
     "metadata": {},
     "source": [
      "__`uc, lc, ucfirst, lcfirst`__"
     ]
    },
    {
     "cell_type": "code",
     "collapsed": false,
     "input": [
      "%%perl\n",
      "# change case\n",
      "my $str = \"There she was just a walking down the street\";\n",
      "print \"uc: \" , uc($str) ,\"\\n\";\n",
      "print \"lc: \" , lc($str) ,\"\\n\";\n",
      "print \"ucfirst: \" , ucfirst(lc($str)) ,\"\\n\";\n",
      "print \"lcfirst: \" , lcfirst(uc($str)) ,\"\\n\";"
     ],
     "language": "python",
     "metadata": {},
     "outputs": []
    },
    {
     "cell_type": "markdown",
     "metadata": {},
     "source": [
      "__`split`__\n",
      "\n",
      "The arguments to split are:\n",
      "    \n",
      "1. The seperator to split on (or a regular expression, see later)\n",
      "2. The string to split"
     ]
    },
    {
     "cell_type": "code",
     "collapsed": false,
     "input": [
      "%%perl\n",
      "my $str = \"There she was just a walking down the street\";\n",
      "my @array = split (\" \", $str);\n",
      "print \"first word: \", $array[0], \"\\n\";\n",
      "print \"last word: \", $array[-1], \"\\n\";\n",
      "print \"split and joined again: \" , join ('--',@array) , \"\\n\";"
     ],
     "language": "python",
     "metadata": {},
     "outputs": []
    },
    {
     "cell_type": "markdown",
     "metadata": {},
     "source": [
      "String operators\n",
      "\n",
      "- the `.` operator concatenates (adds) strings together\n",
      "- `.=` concatenates an existing string with another, and assigns the result to the first string"
     ]
    },
    {
     "cell_type": "code",
     "collapsed": false,
     "input": [
      "%%perl\n",
      "my $str = \"There she was just a walking down the street\";\n",
      "my $new_str = $str . \" \" . \"!!\";\n",
      "print \"new_str: $new_str\\n\\n\";\n",
      "$new_str .= \"\\nsinging do a ditty ditty dum ditty doo\";\n",
      "print $new_str"
     ],
     "language": "python",
     "metadata": {},
     "outputs": []
    },
    {
     "cell_type": "markdown",
     "metadata": {},
     "source": [
      "#### Exercises\n",
      "\n",
      "1. Write a script in which you store a DNA sequence in a scalar\n",
      "2. Print a piece of the sequence using substr. Remember that substr starts counting at 0, Humans usually count DNA sequences staring with 1\n",
      "3. Uppercase the sequence and reassign this uppercased sequence in the original scalar variable.\n",
      "4. Split the DNA sequence on an empty string, split('',$DNA) and store the resulting list of nucleotides in an array. (Note the split is using 2 single quotes not 1 double quotes)\n",
      "5. Print the new array using the join function. Join the array with one space, \" \"."
     ]
    },
    {
     "cell_type": "markdown",
     "metadata": {},
     "source": [
      "-----"
     ]
    },
    {
     "cell_type": "heading",
     "level": 1,
     "metadata": {},
     "source": [
      "Lesson 11: Numeric Operators and functions"
     ]
    },
    {
     "cell_type": "markdown",
     "metadata": {},
     "source": [
      "Common numeric operators and functions:\n",
      "    \n",
      "<table>\n",
      "    <tr><th>Operator</th><th>Summary</th><th>Example</th></tr>\n",
      "    <tr><td><tt>+</tt></td><td>addition</td><td><tt>2 + 2</tt></td></tr>\n",
      "    \n",
      "    <tr><td><tt>-</tt></td><td>subtraction</td><td><tt>5 - 3</tt></td></tr>\n",
      "    \n",
      "    <tr><td><tt>*</tt></td><td>multiplication</td><td><tt>4 * 4</tt></td></tr>\n",
      "    \n",
      "    <tr><td><tt>/</tt></td><td>division</td><td><tt>8 / 2</tt></td></tr>\n",
      "    \n",
      "    <tr><td><tt>%</tt></td><td>modulus, returns remainder</td><td><tt>10 % 2</tt></td></tr>\n",
      "    \n",
      "    <tr><td><tt>**</tt></td><td>exponent</td><td><tt>4**2</tt></td></tr>\n",
      "    \n",
      "    <tr><td><tt>++</tt></td><td>increment by 1 (same as <tt>$i = $i+1</tt>)</td><td><tt>$i++</tt></td></tr>\n",
      "    \n",
      "    <tr><td><tt>--</tt></td><td>decrement by 1, (same as <tt>$i = $i-1</tt>)</td><td><tt>$i--</tt></td></tr>\n",
      "    \n",
      "    <tr><td><tt>+=</tt></td><td>in place addition</td><td><tt>$i += 2</tt></td></tr>\n",
      "    \n",
      "    <tr><td><tt>-=</tt></td><td>in place subtraction</td><td><tt>$i -= 3</tt></td></tr>\n",
      "</table>\n",
      "\n",
      "<table>\n",
      "    <tr><th>Function</th><th>Summary</th><th>Example</th></tr>\n",
      "    <tr><td><tt>abs</tt></td><td>absolute value</td><td><tt>abs(-32)</tt></td></tr>\n",
      "    \n",
      "    <tr><td><tt>int</tt></td><td>get the integer portion of a number</td><td><tt>int(5.45)</tt></td></tr>\n",
      "</table>"
     ]
    },
    {
     "cell_type": "markdown",
     "metadata": {},
     "source": [
      "Examples using common numeric operators and functions"
     ]
    },
    {
     "cell_type": "code",
     "collapsed": false,
     "input": [
      "%%perl\n",
      "# addition\n",
      "print \"sum of 2 and 3 = \";\n",
      "my $num = 2 + 3;\n",
      "print \"$num\\n\";\n",
      "\n",
      "# subtraction\n",
      "print \"$num minus 2 = \";\n",
      "$num = $num - 2;\n",
      "print \"$num\\n\";\n",
      "\n",
      "# multiplication\n",
      "print \"product of $num and 3 = \";\n",
      "$num = $num * 2;\n",
      "print \"$num\\n\";\n",
      "\n",
      "# division\n",
      "print \"$num divided by 2 = \";\n",
      "$num = $num / 2;\n",
      "print \"$num\\n\";\n",
      "\n",
      "# modulus\n",
      "print \"the remainder of $num divided by 2 = \";\n",
      "my $remainder = $num % 2;\n",
      "print \"$remainder\\n\";\n",
      "\n",
      "# exponentiation\n",
      "print \"$remainder raised to the power 2 = \";\n",
      "$num = $remainder ** 2;\n",
      "print \"$num\\n\";\n",
      "\n",
      "# increment in place\n",
      "print \"$num + 1 = \";\n",
      "$num++;\n",
      "print \"$num\\n\";\n",
      "\n",
      "# decrement inplace\n",
      "print \"$num - 1 = \";\n",
      "$num--;\n",
      "print \"$num\\n\";\n",
      "\n",
      "# absolute value\n",
      "print \"the absolute value of 3 - 4.2 = \";\n",
      "$num = abs(3 - 4.2);\n",
      "print \"$num\\n\";\n",
      "\n",
      "# conversion to integer\n",
      "print \"int portion of $num = \";\n",
      "print int($num), \"\\n\";"
     ],
     "language": "python",
     "metadata": {},
     "outputs": []
    },
    {
     "cell_type": "markdown",
     "metadata": {},
     "source": [
      "#### Exercises\n",
      "1. Write a script in which perform the above mentioned operators and functions\n",
      "2. print out each result"
     ]
    },
    {
     "cell_type": "markdown",
     "metadata": {},
     "source": [
      "-----"
     ]
    },
    {
     "cell_type": "heading",
     "level": 1,
     "metadata": {},
     "source": [
      "Lesson 12: Truth and conditional statements"
     ]
    },
    {
     "cell_type": "markdown",
     "metadata": {},
     "source": [
      "What is _True_ (in Perl)?\n",
      "\n",
      "1. The string `\"0\"` is False.\n",
      "2. The number `0` is False.\n",
      "3. The empty string (`\"\"` or `''`) is False\n",
      "4. The empty list is False\n",
      "5. The undefined value is False (e.g. an uninitialized variable)\n",
      "6. A number is false if it converts to string `\"0\"`.\n",
      "7. Everything else is True.\n",
      "\n",
      "<table>\n",
      "    <tr><td><tt>$a;</tt></td><td><i>False</i> (not yet defined)</td></tr>\n",
      "    \n",
      "    <tr><td><tt>$a = 1;</tt></td><td><i>True</i></td></tr>\n",
      "    \n",
      "    <tr><td><tt>$b = 0;</tt></td><td><i>False</i></td></tr>\n",
      "    \n",
      "    <tr><td><tt>$c = \"\";</tt></td><td><i>False</i> (not yet defined)</td></tr>\n",
      "    \n",
      "    <tr><td><tt>$d = \"true\";</tt></td><td><i>True</i> (not yet defined)</td></tr>\n",
      "    \n",
      "    <tr><td><tt>$e = \"false\";</tt></td><td><i>True</i> (\"false\" is a non-empty string)</td></tr>\n",
      "    \n",
      "    <tr><td><tt>$f = ' ';</tt></td><td><i>True</i></td></tr>\n",
      "    \n",
      "    <tr><td><tt>$g = \"\\n\";</tt></td><td><i>True</i></td></tr>\n",
      "    \n",
      "    <tr><td><tt>@h = ();</tt></td><td><i>False</i> (empty array)</td></tr>\n",
      "    \n",
      "    <tr><td><tt>$i = 0.0;</tt></td><td><i>False</i> (not y)</td></tr>\n",
      "    \n",
      "    <tr><td><tt>$j = \"0.0\"</tt></td><td><i>True</i> (the strings \"0.0\" & \"0\" differ!)</td></tr>\n",
      "</table>"
     ]
    },
    {
     "cell_type": "markdown",
     "metadata": {},
     "source": [
      "Many operators and functions return values of 0 and 1. These results can be used to control the flow of your code.\n",
      "\n",
      "#### Comparison operators and truth\n",
      "\n",
      "Comparison operators return:\n",
      "    - 1 if the comparison is _True_\n",
      "    - undefined if the comparison is _False_\n",
      "    - -1 in special cases\n",
      "\n",
      "    \n",
      "<table>\n",
      "    <tr><th>Operator</th><th>Description</th><th>Example</th></tr>\n",
      "    <tr><td><tt><</tt></td><td>numeric less than</td><td><tt>1 < 2 # True</tt></td></tr>\n",
      "    \n",
      "    <tr><td><tt>lt</tt></td><td>string less than</td><td><tt>'a' lt 'b' # True by ASCII order</tt></td></tr>\n",
      "    \n",
      "    <tr><td><tt>></tt></td><td>numeric greater then</td><td><tt>1 > 2 # False</tt></td></tr>\n",
      "    \n",
      "    <tr><td><tt>gt</tt></td><td>string greater than</td><td><tt>'a' gt 'b' # False</tt></td></tr>\n",
      "    \n",
      "    <tr><td><tt>==</tt></td><td>numeric equality</td><td><tt>1 == 2 # False</tt></td></tr>\n",
      "    \n",
      "    <tr><td><tt>eq</tt></td><td>string equality</td><td><tt>'a' eq 'b' # False</tt></td></tr>\n",
      "    \n",
      "    <tr><td><tt>!=</tt></td><td>numeric non equality</td><td><tt>1 != 2 # True</tt></td></tr>\n",
      "    \n",
      "    <tr><td><tt>ne</tt></td><td>string non equality</td><td><tt>'a' ne 'b' # True</tt></td></tr>\n",
      "    \n",
      "    <tr><td><tt><=></tt></td><td>numeric comparison</td><td><tt>1 <=> 2 # -1</tt></td></tr>\n",
      "    \n",
      "    <tr><td><tt>cmp</tt></td><td>string comparison</td><td><tt>'a' cmp 'b'</tt></td></tr>\n",
      "    \n",
      "</table>\n",
      "\n",
      "#### `<=>` operator\n",
      "\n",
      "- -1 if left < right\n",
      "- 0 if left == right\n",
      "- 1 if left > right\n",
      "- useful for sorting things (as we will see later)\n",
      "\n",
      "#### Testing for truth with `if/elsif/else`:"
     ]
    },
    {
     "cell_type": "code",
     "collapsed": false,
     "input": [
      "%%perl\n",
      "my $num = 50;\n",
      "if ($num) {\n",
      "    print \"True: $num\\n\";\n",
      "}\n",
      "else {\n",
      "    print \"False: $num\\n\";\n",
      "}"
     ],
     "language": "python",
     "metadata": {},
     "outputs": []
    },
    {
     "cell_type": "code",
     "collapsed": false,
     "input": [
      "%%perl\n",
      "my $num = 30;\n",
      "if ($num < 20){\n",
      "    print \"True: $num < 20\\n\";\n",
      "}\n",
      "elsif ($num == 25) {\n",
      "    print \"True: $num is 25\\n\";\n",
      "}\n",
      "else{\n",
      "    print \"False: $num is not < 20 and $num is not 25\\n\";\n",
      "}"
     ],
     "language": "python",
     "metadata": {},
     "outputs": []
    },
    {
     "cell_type": "markdown",
     "metadata": {},
     "source": [
      "- You can use as many `elsif` statements as are required.\n",
      "- Once a true statement is found, no more statements are tested.\n",
      "- If all statements are false the `else` code block is executed.\n",
      "\n",
      "#### More logical operators\n",
      "\n",
      "<table>\n",
      "    <tr><th>Operator</th><th>Example</th><th>To be true</th></tr>\n",
      "    <tr><td><tt>&&</tt> (or <tt>and</tt>)</td><td><tt>$i < 50 && $i > 5</tt></td><td>Both conditions must be ture</td></tr>\n",
      "    \n",
      "    <tr><td><tt>||</tt> (or <tt>or</tt>)</td><td><tt>str eq \"clock\" || $str ne \"black\"</tt></td><td>Only one condition needs to be true</td></tr>\n",
      "    \n",
      "</table>"
     ]
    },
    {
     "cell_type": "markdown",
     "metadata": {},
     "source": [
      "#### Exercises\n",
      "1. Write a script in which you have a `if/elsif/elsif/else` conditional statement. Use strings comparison operators in your tests. Create a different print statement foreach condition\n",
      "2. Change the value of the variables you used in your testing. Run script again.\n",
      "3. Create a new conditional statement in which you use numeric conditional operators"
     ]
    },
    {
     "cell_type": "markdown",
     "metadata": {},
     "source": [
      "-----"
     ]
    },
    {
     "cell_type": "heading",
     "level": 1,
     "metadata": {},
     "source": [
      "Lesson 13: Loops"
     ]
    },
    {
     "cell_type": "markdown",
     "metadata": {},
     "source": [
      "Perl has 3 different types of loops:\n",
      "    \n",
      "- `while`\n",
      "- `for`\n",
      "- `foreach`\n",
      "\n",
      "all loops have the same basic format:\n",
      "    \n",
      "    loop-type () { \n",
      "    \n",
      "    }"
     ]
    },
    {
     "cell_type": "markdown",
     "metadata": {},
     "source": [
      "#### `while` loops\n",
      "\n",
      "- A while loop will continue to execute the code in the while block until the while condition is false\n",
      "- Not to be confused with an 'if' statement. An 'if' statement is tested only once. A 'while' statement is continuously tested until it is found to be false"
     ]
    },
    {
     "cell_type": "code",
     "collapsed": false,
     "input": [
      "%%perl\n",
      "my $i=0;\n",
      "while ($i < 5){\n",
      "    print \"$i\\n\";\n",
      "    $i++;\n",
      "}"
     ],
     "language": "python",
     "metadata": {},
     "outputs": []
    },
    {
     "cell_type": "markdown",
     "metadata": {},
     "source": [
      "if you forget the `$i++`, the script with be in an endless loop, printing 0 forever until you stop it with 'Control-c'. You must include a statement to change the variable being tested."
     ]
    },
    {
     "cell_type": "markdown",
     "metadata": {},
     "source": [
      "#### `for` loops\n",
      "- A for loop contains the variable initialization ; condition ; update\n",
      "- Will continue to execute the code in the for block until the test condition is false"
     ]
    },
    {
     "cell_type": "code",
     "collapsed": false,
     "input": [
      "%%perl\n",
      "for (my $i=5 ; $i > 0 ; $i--) {\n",
      "  print $i , \"\\n\";\n",
      "}"
     ],
     "language": "python",
     "metadata": {},
     "outputs": []
    },
    {
     "cell_type": "markdown",
     "metadata": {},
     "source": [
      "#### `foreach` loop\n",
      "\n",
      "- especially suited for iterating through each element of an array\n",
      "- continues to execute the foreach block code until the list or array has reached the final element"
     ]
    },
    {
     "cell_type": "code",
     "collapsed": false,
     "input": [
      "%%perl\n",
      "my @array = ('apple','bee','cat');\n",
      "foreach my $element (@array){\n",
      "    print \"$element\\n\";\n",
      "    if ($element eq 'bee') {\n",
      "        print \"Found the bee\\n\";\n",
      "    }\n",
      "}"
     ],
     "language": "python",
     "metadata": {},
     "outputs": []
    },
    {
     "cell_type": "markdown",
     "metadata": {},
     "source": [
      "#### Exercises\n",
      "\n",
      "1. Write a script in which you have a while loop. Execute the while block of code until your test statement is false.\n",
      "2. Add a for loop to your script that executes a block of code until the condition is false\n",
      "3. Add a foreach loop that iterated through each element of an array and executes a block of code on each element\n",
      "4. In your foreach block add a conditional if/elsif/else statement to only do something to each element if it passes specific conditions."
     ]
    },
    {
     "cell_type": "markdown",
     "metadata": {},
     "source": [
      "-----"
     ]
    },
    {
     "cell_type": "heading",
     "level": 1,
     "metadata": {},
     "source": [
      "Lesson 14: Loop Control"
     ]
    },
    {
     "cell_type": "markdown",
     "metadata": {},
     "source": [
      "There are statements that can be used to control your loop flow.\n",
      "- `next`\n",
      "- `last`\n",
      "\n",
      "#### `next`\n",
      "\n",
      "- used to skip any code after the next statement and proceed to the _next_ iteration of the loop."
     ]
    },
    {
     "cell_type": "code",
     "collapsed": false,
     "input": [
      "%%perl\n",
      "## this code will only print $i if it is odd\n",
      " \n",
      "my $i=0;\n",
      "while ($i < 5){\n",
      "    $i++;\n",
      "    if ($i % 2 == 0){ ## test for even numbers\n",
      "        next;\n",
      "    }\n",
      "    print \"$i\\n\";\n",
      "}\n",
      "# if the $i++ is put at the end, the loop will \n",
      "# be infinite.  0 is even, next will be executed \n",
      "# and $i will never increment to 1"
     ],
     "language": "python",
     "metadata": {},
     "outputs": []
    },
    {
     "cell_type": "markdown",
     "metadata": {},
     "source": [
      "#### `last`\n",
      "\n",
      "- used to end all iterations of the loop.\n",
      "- Once the last statement is executed the script will exit the loop block\n",
      "- Any code outside the loop block will still be executed."
     ]
    },
    {
     "cell_type": "code",
     "collapsed": false,
     "input": [
      "%%perl\n",
      "my $favorite = 'dog';\n",
      "my @array = ('apple','bee','dog','cat');\n",
      "foreach my $element (@array){\n",
      "    print \"$element\\n\";\n",
      "    if ($element eq $favorite){\n",
      "        last;\n",
      "    }\n",
      "}\n",
      "\n",
      "print \"I looked for my favorite word\\n\";"
     ],
     "language": "python",
     "metadata": {},
     "outputs": []
    },
    {
     "cell_type": "markdown",
     "metadata": {},
     "source": [
      "#### Exercises\n",
      "\n",
      "1. Add the `next` statement to one of your loops from lesson 13\n",
      "2. Add the `last` statement to one of your loops from lesson 13"
     ]
    },
    {
     "cell_type": "markdown",
     "metadata": {},
     "source": [
      "----"
     ]
    },
    {
     "cell_type": "heading",
     "level": 1,
     "metadata": {},
     "source": [
      "Lesson 15: Array Functions"
     ]
    },
    {
     "cell_type": "markdown",
     "metadata": {},
     "source": [
      "Common array functions:\n",
      "    \n",
      "<table>\n",
      "    <tr><th>Function</th><th>Description</th></tr>\n",
      "    \n",
      "    <tr><td><tt>pop @array</tt></td><td>removes last element from array and returns it</td></tr>\n",
      "    \n",
      "    <tr><td><tt>push(@array, $new_element, ...)</tt></td><td>appends one or more elements to the end of an array</td></tr>\n",
      "    \n",
      "    <tr><td><tt>shift @array</tt></td><td>removes the first element from the array and returns it</td></tr>\n",
      "    \n",
      "    <tr><td><tt>unshift(@array, $new_element, ...)</tt></td><td>add elements at the front of the array</td></tr>\n",
      "    \n",
      "    <tr><td><tt>splice</tt></td><td>adds or removes elements anywhere in the array</td></tr>\n",
      "    \n",
      "    <tr><td><tt>join(@array, $str)</tt></td><td>joins the elements of the array together with the specified string, and returns the whole string</td></tr>\n",
      "    \n",
      "</table>\n",
      "\n",
      "`pop, push, shift, unshift, and splice` change the array. "
     ]
    },
    {
     "cell_type": "code",
     "collapsed": false,
     "input": [
      "%%perl\n",
      "\n",
      "# pop - removes last element of array\n",
      "\n",
      "my @array = (3 , 'red' , 'cornflower blue' , 1.2);\n",
      "print join ('--',@array) , \"\\n\";\n",
      " \n",
      "my $last = pop @array;\n",
      " \n",
      "print \"this was the last element: \", $last, \"\\n\";\n",
      "print join ('--',@array) , \"\\n\";"
     ],
     "language": "python",
     "metadata": {},
     "outputs": []
    },
    {
     "cell_type": "code",
     "collapsed": false,
     "input": [
      "%%perl\n",
      "\n",
      "# push - adds to end of array\n",
      "\n",
      "my @array = (3 , 'red' , 'cornflower blue' , 1.2);\n",
      "print join ('--',@array) , \"\\n\";\n",
      " \n",
      "push(@array, \"yellow\");\n",
      "\n",
      "print join ('--',@array) , \"\\n\";"
     ],
     "language": "python",
     "metadata": {},
     "outputs": []
    },
    {
     "cell_type": "code",
     "collapsed": false,
     "input": [
      "%%perl\n",
      "\n",
      "# shift - removes first element of array\n",
      "\n",
      "my @array = (3 , 'red' , 'cornflower blue' , 1.2);\n",
      "print \"original array: \" , join ('--',@array) , \"\\n\";\n",
      " \n",
      "my $first_element = shift @array;\n",
      "print \"this was the first element: $first_element\\n\";\n",
      " \n",
      "print \"current array:  \" , join ('--',@array) , \"\\n\";"
     ],
     "language": "python",
     "metadata": {},
     "outputs": []
    },
    {
     "cell_type": "code",
     "collapsed": false,
     "input": [
      "%%perl\n",
      "\n",
      "# unshift - adds to front of array\n",
      "\n",
      "my @array = (3 , 'red' , 'cornflower blue' , 1.2);\n",
      "print \"original array: \" , join ('--',@array) , \"\\n\";\n",
      " \n",
      "unshift (@array, 5, 'green', 10);\n",
      "print \"current array:  \" , join ('--',@array) , \"\\n\";"
     ],
     "language": "python",
     "metadata": {},
     "outputs": []
    },
    {
     "cell_type": "markdown",
     "metadata": {},
     "source": [
      "#### Exercises\n",
      "\n",
      "1. Create an array and print the array using join.\n",
      "2. Use the following functions: `pop, push, shift`, and `unshift` on the array and print the array after each change."
     ]
    },
    {
     "cell_type": "markdown",
     "metadata": {},
     "source": [
      "----"
     ]
    },
    {
     "cell_type": "heading",
     "level": 1,
     "metadata": {},
     "source": [
      "Lesson 16: Hash Functions"
     ]
    },
    {
     "cell_type": "markdown",
     "metadata": {},
     "source": [
      "Common hash functions:\n",
      "    \n",
      "<table>\n",
      "    <tr><th>Function</th><th>Description</th></tr>\n",
      "    \n",
      "    <tr><td><tt>keys %hash</tt></td><td>retrieve an array of all keys in a hash</td></tr>\n",
      "    \n",
      "    <tr><td><tt>exists $hash{'key'}</tt></td><td>test whether a key is found in the hash</td></tr>\n",
      "    \n",
      "    <tr><td><tt>delete $hash{'key'}</tt></td><td>delete a key, and any corresponding value, from a hash</td></tr>\n",
      "    \n",
      "    <tr><td><tt>values %hash</tt></td><td>retrieve an array of all values in a hash</td></tr>\n",
      "    \n",
      "    <tr><td><tt>each %hash</tt></td><td>retrieve next key-value pair from a hash/td></tr>\n",
      "    \n",
      "</table>\n"
     ]
    },
    {
     "cell_type": "code",
     "collapsed": false,
     "input": [
      "%%perl\n",
      "use Data::Dumper;\n",
      "\n",
      "# keys - retrieve an array of keys\n",
      "\n",
      "my %jacks = ('Jack Sparrow'    => 'pirate' , \n",
      "             'Jack Black'      => 'actor',\n",
      "             'Jack the Ripper' => 'murderer', \n",
      "           );\n",
      "\n",
      "my @keys = keys %jacks;\n",
      "\n",
      "print join ('--', @keys) , \"\\n\";\n",
      "\n",
      "# exists - returns True if the key is found in the hash\n",
      "\n",
      "if (exists $jacks{'Jack the Ripper'}){\n",
      "    print \"Yes, this key is present\\n\";\n",
      "}\n",
      "else {\n",
      "    print \"No, this key is not present\\n\";\n",
      "}\n",
      "\n",
      "# delete - removes a key-value pair from a hash\n",
      "\n",
      "print \"\\nbefore delete\\n\";\n",
      "print Dumper \\%jacks;\n",
      "delete $jacks{'Jack Sparrow'};\n",
      "print \"after delete\\n\";\n",
      "print Dumper \\%jacks;"
     ],
     "language": "python",
     "metadata": {},
     "outputs": []
    },
    {
     "cell_type": "markdown",
     "metadata": {},
     "source": [
      "Iterating through a hash using `keys` and `foreach`:"
     ]
    },
    {
     "cell_type": "code",
     "collapsed": false,
     "input": [
      "%%perl -w\n",
      "\n",
      "my %jacks = ('Jack Sparrow'    => 'pirate' , \n",
      "             'Jack Black'      => '0',\n",
      "             'Jack the Ripper' => 'murderer', \n",
      "           );\n",
      "\n",
      "my @names = ('Jack Black', 'Jack White', 'something else');\n",
      "\n",
      "foreach my $name (@names){\n",
      "    if (exists $jacks{$name}) {\n",
      "        print \"This Jack: $name is a $jacks{$name}\\n\";\n",
      "    }\n",
      "    else {\n",
      "        print \"I know nothing about $name\\n\";\n",
      "    }\n",
      "}\n"
     ],
     "language": "python",
     "metadata": {},
     "outputs": []
    },
    {
     "cell_type": "markdown",
     "metadata": {},
     "source": [
      "#### Exercises\n",
      "\n",
      "1. Create a hash, and print each key/value pair using keys and a foreach loop."
     ]
    },
    {
     "cell_type": "markdown",
     "metadata": {},
     "source": [
      "----"
     ]
    },
    {
     "cell_type": "heading",
     "level": 1,
     "metadata": {},
     "source": [
      "Lesson 17: Sort with arrays and hashes"
     ]
    },
    {
     "cell_type": "markdown",
     "metadata": {},
     "source": [
      "The `sort` function can be used to sort array elements, hash keys and hash values\n",
      "- the default behavior is to sort the contents of a list in alphabetical order.\n",
      "- Customizable sort behavior\n",
      "\n",
      "#### Default sort behavior\n",
      "- The default behavior of the sort function is to sort in ASCII order"
     ]
    },
    {
     "cell_type": "code",
     "collapsed": false,
     "input": [
      "%%perl\n",
      "\n",
      "print \"Default -- ABC sort with strings\\n\";\n",
      "my @array = ('After','food','best','Hiss');\n",
      "my @sorted_array = sort @array;\n",
      " \n",
      "foreach my $element (@sorted_array){\n",
      "    print \"$element\\n\";\n",
      "}\n",
      " \n",
      "print \"Default -- ABC sort with numbers\\n\";\n",
      "my @numbers = (3,400,1,100,4,20);\n",
      "my @sorted_numbers = sort @numbers;\n",
      " \n",
      "foreach my $element (@sorted_numbers){\n",
      "    print \"$element\\n\";\n",
      "}"
     ],
     "language": "python",
     "metadata": {},
     "outputs": []
    },
    {
     "cell_type": "markdown",
     "metadata": {},
     "source": [
      "#### Simple customization of sort behavior: Numeric order.\n",
      "- use the perl reserved `$a` and `$b` variables to customize the sort\n",
      "- use the numeric version of the `cmp` operator, `<=>` (the spaceship operator)\n",
      "- switch `$a` and `$b` to reverse the sort order"
     ]
    },
    {
     "cell_type": "code",
     "collapsed": false,
     "input": [
      "%%perl\n",
      "\n",
      "print \"Custom -- Numeric sort\\n\";\n",
      "\n",
      "my @numbers = (3,400,1,100,4,20);\n",
      "\n",
      "my @sorted_numbers = sort {$a <=> $b}  @numbers;\n",
      " \n",
      "foreach my $element (@sorted_numbers){\n",
      "    print \"$element\\n\";\n",
      "}\n"
     ],
     "language": "python",
     "metadata": {},
     "outputs": []
    },
    {
     "cell_type": "markdown",
     "metadata": {},
     "source": [
      "#### Custom sort: Sort by length of array elements \n",
      "\n",
      "order of operations\n",
      "\n",
      "1. each element of the array sorted based on its length. Remember perl works from the inner-most parenthesis out, and the sort is the inner-most function\n",
      "2. each element of the sorted list is stored in `$element` of the `foreach` loop\n",
      "3. the `$element` and its length is printed"
     ]
    },
    {
     "cell_type": "code",
     "collapsed": false,
     "input": [
      "%%perl\n",
      "\n",
      "my @array = ( 'aaaaa' , 'aaa' , 'aa' , 'a' , 'aa' );\n",
      "\n",
      "my @sorted_by_length = sort { length($b) <=> length($a) } @array;\n",
      "\n",
      "foreach my $element( @sorted_by_length ) {\n",
      "    print \"$element\\t\", length ($element), \"\\n\";\n",
      "}"
     ],
     "language": "python",
     "metadata": {},
     "outputs": []
    },
    {
     "cell_type": "markdown",
     "metadata": {},
     "source": [
      "#### Custom sort: Sort by hash values\n",
      "\n",
      "- Remember to retrieve the values of a hash you need to use the hash key/index.\n",
      "- `$value = $hash{'key'}`\n",
      "- `$a` and `$b` will hold the keys of the hash\n",
      "- use `$a` and `$b` to retrieve the values\n",
      "- `$hash{$a}` will evaluate to the value of the key `$a`\n",
      "\n",
      "order of operations\n",
      "\n",
      "1. keys are retrieved with the `keys` function\n",
      "2. the keys are used to retrieve the values\n",
      "3. the keys are sorted and returned based on the value ( `$value = $hash{$key}` )\n",
      "4. the list of newly sorted keys (based on the value) are passed 1 by 1 to `$nt` by the foreach loop"
     ]
    },
    {
     "cell_type": "code",
     "collapsed": false,
     "input": [
      "%%perl\n",
      "\n",
      "my %nt_count = (\n",
      "                 'G' => 2,\n",
      "                 'C' => 1,\n",
      "                 'T' => 4,\n",
      "                 'A' => 3,\n",
      "                );\n",
      "#sort my keys by their associated values (numerically) \n",
      "@sorted_by_values = sort {$nt_count{$a} <=> $nt_count{$b}} keys %nt_count;\n",
      "print join ' - ', @sorted_by_values;\n",
      "print \"\\n\";\n",
      "\n",
      "foreach my $nt( @sorted_by_values ) {\n",
      "    print \"$nt\\t$nt_count{$nt}\\n\";\n",
      "}"
     ],
     "language": "python",
     "metadata": {},
     "outputs": []
    },
    {
     "cell_type": "markdown",
     "metadata": {},
     "source": [
      "Advanced: how to auto generate the count of nucleotides in a DNA sequence using a hash"
     ]
    },
    {
     "cell_type": "code",
     "collapsed": false,
     "input": [
      "%%perl\n",
      "\n",
      "use Data::Dumper;\n",
      "\n",
      "my %nt_count;\n",
      "my $DNA = 'ATAATCGTTGCCCCCCCCACTAGATGCATCACGATCAGCTCCCCCCCCCCCCCCCCCC';\n",
      "my @DNA = split '' , $DNA; # split the string into separate characters\n",
      "\n",
      "# loop over the array of nucleotides\n",
      "foreach my $nt (@DNA){\n",
      "    # check if we have seen this nucleotide yet\n",
      "    if (! exists $nt_count{$nt} ){\n",
      "        # if not then add it to our hash, setting the count to 1\n",
      "        $nt_count{$nt} = 1;\n",
      "    }\n",
      "    else {\n",
      "        # if we have seen it before, get the existing count,\n",
      "        # increment it, and save the new total\n",
      "        my $count = $nt_count{$nt};\n",
      "        my $new_count = $count +1 ;\n",
      "        $nt_count{$nt} = $new_count;\n",
      "    }\n",
      "}\n",
      "\n",
      "print Dumper \\%nt_count"
     ],
     "language": "python",
     "metadata": {},
     "outputs": []
    },
    {
     "cell_type": "markdown",
     "metadata": {},
     "source": [
      "#### Exercises\n",
      "\n",
      "1. Create a hash, and print each key/value pair sorted by values. Be sure to use `keys` function and a `foreach` loop."
     ]
    },
    {
     "cell_type": "markdown",
     "metadata": {},
     "source": [
      "----"
     ]
    },
    {
     "cell_type": "heading",
     "level": 1,
     "metadata": {},
     "source": [
      "Lesson 18: User/Command-line input"
     ]
    },
    {
     "cell_type": "markdown",
     "metadata": {},
     "source": [
      "How do you get arguments from the user into your script?\n",
      "\n",
      "- Incorporating input from the command-line\n",
      "- Perl creates an array, `@ARGV`, which contains the contents of the command-line following the script name\n",
      "\n",
      "`@ARGV` command-line:\n",
      "    \n",
      "- `./user_input.pl one two three`"
     ]
    },
    {
     "cell_type": "code",
     "collapsed": false,
     "input": [
      "%%file user_input.pl\n",
      "#!/usr/bin/perl\n",
      "my @user_input = @ARGV;\n",
      "print join (\"\\n\" , @user_input) , \"\\n\";"
     ],
     "language": "python",
     "metadata": {},
     "outputs": [
      {
       "output_type": "stream",
       "stream": "stdout",
       "text": [
        "Overwriting user_input.pl\n"
       ]
      }
     ],
     "prompt_number": 24
    },
    {
     "cell_type": "code",
     "collapsed": false,
     "input": [
      "%%bash\n",
      "./user_input.pl one two three"
     ],
     "language": "python",
     "metadata": {},
     "outputs": [
      {
       "output_type": "stream",
       "stream": "stdout",
       "text": [
        "one\n",
        "two\n",
        "three\n"
       ]
      }
     ],
     "prompt_number": 28
    },
    {
     "cell_type": "markdown",
     "metadata": {},
     "source": [
      "#### `shift` and `@ARGV`\n",
      "\n",
      "Remember the array function `shift` removes and returns the first element of an array."
     ]
    },
    {
     "cell_type": "code",
     "collapsed": false,
     "input": [
      "%%file user_input.pl\n",
      "#!/usr/bin/perl\n",
      "my $first_input = shift @ARGV;\n",
      "print \"first input: $first_input\\n\";"
     ],
     "language": "python",
     "metadata": {},
     "outputs": [
      {
       "output_type": "stream",
       "stream": "stdout",
       "text": [
        "Overwriting user_input.pl\n"
       ]
      }
     ],
     "prompt_number": 29
    },
    {
     "cell_type": "code",
     "collapsed": false,
     "input": [
      "%%bash\n",
      "./user_input.pl one two three"
     ],
     "language": "python",
     "metadata": {},
     "outputs": [
      {
       "output_type": "stream",
       "stream": "stdout",
       "text": [
        "first input: two\n"
       ]
      }
     ],
     "prompt_number": 31
    },
    {
     "cell_type": "markdown",
     "metadata": {},
     "source": [
      "#### Using array indices\n",
      "\n",
      "Remember with arrays that each element can be accessed using indices."
     ]
    },
    {
     "cell_type": "code",
     "collapsed": false,
     "input": [
      "%%file user_input.pl\n",
      "#!/usr/bin/perl\n",
      "my $first_input = $ARGV[0];\n",
      "my $second_input = $ARGV[1];\n",
      "print \"$first_input and $second_input\\n\";"
     ],
     "language": "python",
     "metadata": {},
     "outputs": [
      {
       "output_type": "stream",
       "stream": "stdout",
       "text": [
        "Overwriting user_input.pl\n"
       ]
      }
     ],
     "prompt_number": 32
    },
    {
     "cell_type": "code",
     "collapsed": false,
     "input": [
      "%%bash\n",
      "./user_input.pl one two three"
     ],
     "language": "python",
     "metadata": {},
     "outputs": [
      {
       "output_type": "stream",
       "stream": "stdout",
       "text": [
        "one and two\n"
       ]
      }
     ],
     "prompt_number": 33
    },
    {
     "cell_type": "markdown",
     "metadata": {},
     "source": [
      "####Assigning an array to a list of variables "
     ]
    },
    {
     "cell_type": "code",
     "collapsed": false,
     "input": [
      "%%file user_input.pl\n",
      "#!/usr/bin/perl\n",
      "my ($in_1, $in_2 , $in_3) = @ARGV;\n",
      "print \"$in_1 and $in_2 and $in_3\\n\";"
     ],
     "language": "python",
     "metadata": {},
     "outputs": [
      {
       "output_type": "stream",
       "stream": "stdout",
       "text": [
        "Overwriting user_input.pl\n"
       ]
      }
     ],
     "prompt_number": 34
    },
    {
     "cell_type": "code",
     "collapsed": false,
     "input": [
      "%%bash\n",
      "./user_input.pl one two three"
     ],
     "language": "python",
     "metadata": {},
     "outputs": [
      {
       "output_type": "stream",
       "stream": "stdout",
       "text": [
        "one and two and three\n"
       ]
      }
     ],
     "prompt_number": 35
    },
    {
     "cell_type": "markdown",
     "metadata": {},
     "source": [
      "#### Exercises\n",
      "\n",
      "1. Write a script that takes 2 numbers from the command line, add the two numbers and print the result"
     ]
    },
    {
     "cell_type": "markdown",
     "metadata": {},
     "source": [
      "-----"
     ]
    },
    {
     "cell_type": "heading",
     "level": 1,
     "metadata": {},
     "source": [
      "Lesson 19: Sanity checks and testing"
     ]
    },
    {
     "cell_type": "markdown",
     "metadata": {},
     "source": [
      "It is always important to test user input.\n",
      "\n",
      "- Checking that user input has indeed been supplied\n",
      "- Verifying that a file really exists\n",
      "\n",
      "<table>\n",
      "    <tr><th>Test</th><th>Description</th></tr>\n",
      "    \n",
      "    <tr><td><tt>defined</tt></td><td>checks if a variable is defined</td></tr>\n",
      "    \n",
      "    <tr><td><tt>-e</tt></td><td>checks if a file exists</td></tr>\n",
      "    \n",
      "    <tr><td><tt>-s</tt></td><td>checks the size of a file</td></tr>\n",
      "    \n",
      "</table>\n",
      "\n",
      "Dealing with incorrect data:\n",
      "\n",
      "<table>\n",
      "    <tr><th>Action</th><th>Description</th></tr>\n",
      "    \n",
      "    <tr><td><tt>die $message</tt></td><td>prints a message to STDERR and kills the program</td></tr>\n",
      "    \n",
      "    <tr><td><tt>warn $message</tt></td><td>prints a message to STDERR, but the program will continue</td></tr>\n",
      "    \n",
      "</table>"
     ]
    },
    {
     "cell_type": "markdown",
     "metadata": {},
     "source": [
      "The example belowhecks to see if an argument was provided, and if it is then the argument will be assigned to `$in_1`. Otherwise the block under the `if` statement will be executed and the script will die and an error message will be printed."
     ]
    },
    {
     "cell_type": "code",
     "collapsed": false,
     "input": [
      "%%file user_input.pl\n",
      "#!/usr/bin/perl\n",
      "\n",
      "my $in_1;\n",
      " \n",
      "if (!defined $ARGV[0]){\n",
      "    die \"Please supply a number\\n\";\n",
      "}\n",
      "else {\n",
      "    $in_1 = $ARGV[0];\n",
      "    print \"I got: $in_1\\n\";\n",
      "}"
     ],
     "language": "python",
     "metadata": {},
     "outputs": [
      {
       "output_type": "stream",
       "stream": "stdout",
       "text": [
        "Overwriting user_input.pl\n"
       ]
      }
     ],
     "prompt_number": 37
    },
    {
     "cell_type": "code",
     "collapsed": false,
     "input": [
      "%%bash\n",
      "./user_input.pl 3"
     ],
     "language": "python",
     "metadata": {},
     "outputs": [
      {
       "output_type": "stream",
       "stream": "stdout",
       "text": [
        "I got: 3\n"
       ]
      }
     ],
     "prompt_number": 39
    },
    {
     "cell_type": "markdown",
     "metadata": {},
     "source": [
      "#### File tests\n",
      "\n",
      "The example below does the same check, but also uses `-e` to check that a file with the supplied name exists"
     ]
    },
    {
     "cell_type": "code",
     "collapsed": false,
     "input": [
      "%%file user_input.pl\n",
      "#!/usr/bin/perl\n",
      "\n",
      "my $filename;\n",
      " \n",
      "if (!defined $ARGV[0]) {\n",
      "    die \"Please supply a file\\n\";\n",
      "}\n",
      "elsif (!-e $ARGV[0]) {\n",
      "    die \"$ARGV[0] does not exist. Please check the filename and/or location.\\n\";\n",
      "}\n",
      "else {\n",
      "    $filename = $ARGV[0];\n",
      "}\n",
      "\n",
      "print \"$filename is a file that exists!\\n\";"
     ],
     "language": "python",
     "metadata": {},
     "outputs": [
      {
       "output_type": "stream",
       "stream": "stdout",
       "text": [
        "Overwriting user_input.pl\n"
       ]
      }
     ],
     "prompt_number": 40
    },
    {
     "cell_type": "code",
     "collapsed": false,
     "input": [
      "%%bash\n",
      "./user_input.pl user_input.pl"
     ],
     "language": "python",
     "metadata": {},
     "outputs": [
      {
       "output_type": "stream",
       "stream": "stdout",
       "text": [
        "user_input.pl is a file that exists!\n"
       ]
      }
     ],
     "prompt_number": 43
    },
    {
     "cell_type": "markdown",
     "metadata": {},
     "source": [
      "#### Exercises\n",
      "\n",
      "1. Modify the script that takes 2 numbers from the command line\n",
      "2. Add a check to be sure that 2 arguments are supplied. Die if there are too few or too many arguments\n",
      "3. Add the two numbers and print the result"
     ]
    },
    {
     "cell_type": "markdown",
     "metadata": {},
     "source": [
      "-----"
     ]
    },
    {
     "cell_type": "heading",
     "level": 1,
     "metadata": {},
     "source": [
      "Lesson 20: Files and File handles"
     ]
    },
    {
     "cell_type": "markdown",
     "metadata": {},
     "source": [
      "Reading and writing to files is incorporated into almost every one of my scripts.\n",
      "\n",
      "- File handles are like special variables just for files."
     ]
    },
    {
     "cell_type": "markdown",
     "metadata": {},
     "source": [
      "Opening a file\n",
      "\n",
      "- `open` function\n",
      "- `open(FILEHANDLE , mode , file)`\n",
      "<table>\n",
      "    <tr><th>Mode</th><th>Symbol</th></tr>\n",
      "    \n",
      "    <tr><td>reading</td><td><tt><</tt></td></tr>\n",
      "    \n",
      "    <tr><td>writing</td><td><tt>></tt></td></tr>\n",
      "    \n",
      "    <tr><td>appending</td><td><tt>>></tt></td></tr>\n",
      "    \n",
      "</table>\n",
      "\n",
      "- Always test to be sure that the file can be opened as described with the `\"or die\"` idiom."
     ]
    },
    {
     "cell_type": "code",
     "collapsed": false,
     "input": [
      "%%file parse_file.pl\n",
      "#!/usr/bin/perl\n",
      "\n",
      "my $file = shift; ## shift with no arguments defaults to @ARGV\n",
      "## open the file, $file for reading, if unable, die and print\n",
      "## an error message.\n",
      "open (INFILE , '<' , $file) or die \"Can't open $file, $!\\n\";\n",
      "print \"opened file: $file\\n\";"
     ],
     "language": "python",
     "metadata": {},
     "outputs": [
      {
       "output_type": "stream",
       "stream": "stdout",
       "text": [
        "Overwriting parse_file.pl\n"
       ]
      }
     ],
     "prompt_number": 44
    },
    {
     "cell_type": "code",
     "collapsed": false,
     "input": [
      "%%bash\n",
      "./parse_file.pl not_there"
     ],
     "language": "python",
     "metadata": {},
     "outputs": [
      {
       "output_type": "stream",
       "stream": "stderr",
       "text": [
        "Can't open not_there, No such file or directory\n"
       ]
      }
     ],
     "prompt_number": 49
    },
    {
     "cell_type": "markdown",
     "metadata": {},
     "source": [
      "#### Iterating through a file\n",
      "\n",
      "1. `while` loop\n",
      "2. `<>`\n",
      "3. `chomp` function (chomps off any trailing newlines from the line)\n",
      "\n",
      "Available at: <a href=\"http://www.ebi.ac.uk/~grsr/perl/\">www.ebi.ac.uk/~grsr/perl/</a>"
     ]
    },
    {
     "cell_type": "code",
     "collapsed": false,
     "input": [
      "%%bash\n",
      "cat file.txt"
     ],
     "language": "python",
     "metadata": {},
     "outputs": [
      {
       "output_type": "stream",
       "stream": "stdout",
       "text": [
        "This is a file\n",
        "with\n",
        "lines of words.\n"
       ]
      }
     ],
     "prompt_number": 50
    },
    {
     "cell_type": "code",
     "collapsed": false,
     "input": [
      "%%perl\n",
      "\n",
      "my $file = 'file.txt';\n",
      "open (IN , '<' , $file) or die \"can't open $file $!\\n\";\n",
      " \n",
      "while (my $line = <IN>){\n",
      "  chomp $line;\n",
      "  print uc $line , \"\\n\";\n",
      "}"
     ],
     "language": "python",
     "metadata": {},
     "outputs": [
      {
       "output_type": "stream",
       "stream": "stdout",
       "text": [
        "THIS IS A FILE\n",
        "WITH\n",
        "LINES OF WORDS.\n"
       ]
      }
     ],
     "prompt_number": 53
    },
    {
     "cell_type": "markdown",
     "metadata": {},
     "source": [
      "#### Open a file for writing"
     ]
    },
    {
     "cell_type": "code",
     "collapsed": false,
     "input": [
      "%%perl\n",
      "my $file = 'newFile.txt'; \n",
      "open (OUTFILE , '>' , $file) or die \"Can't open $file, $!\\n\";\n",
      " \n",
      "print OUTFILE lc \"All this text will be printed in my file and not\n",
      "in the terminal window\\n\";"
     ],
     "language": "python",
     "metadata": {},
     "outputs": [],
     "prompt_number": 63
    },
    {
     "cell_type": "code",
     "collapsed": false,
     "input": [
      "%%bash\n",
      "cat newFile.txt"
     ],
     "language": "python",
     "metadata": {},
     "outputs": [
      {
       "output_type": "stream",
       "stream": "stdout",
       "text": [
        "all this text will be printed in my file and not\n",
        "in the terminal window\n"
       ]
      }
     ],
     "prompt_number": 64
    },
    {
     "cell_type": "markdown",
     "metadata": {},
     "source": [
      "#### Closing files\n",
      "\n",
      "When you are finished reading or writing to a file it is polite \n",
      "to close your file with the `close` function."
     ]
    },
    {
     "cell_type": "code",
     "collapsed": false,
     "input": [
      "%%perl\n",
      "\n",
      "open (INFILE, '<' , 'file.txt') or die \"Can't open file.txt, $!\\n\";\n",
      "while (my $line = <INFILE>){\n",
      "    chomp $line;\n",
      "    ## do something to line\n",
      "    print length($line), \"\\n\";\n",
      "}\n",
      "close (INFILE);"
     ],
     "language": "python",
     "metadata": {},
     "outputs": []
    },
    {
     "cell_type": "markdown",
     "metadata": {},
     "source": [
      "#### Tab delimited files\n",
      "\n",
      "We biologists often deal with tab delimited files. Here is some code which is very useful for splitting the columns into elements of an array.\n",
      "\n",
      "- Available at: <a href=\"http://www.ebi.ac.uk/~grsr/perl/genes.txt\">www.ebi.ac.uk/~grsr/perl/genes.txt</a>\n"
     ]
    },
    {
     "cell_type": "code",
     "collapsed": false,
     "input": [
      "%%bash\n",
      "cat genes.txt"
     ],
     "language": "python",
     "metadata": {},
     "outputs": [
      {
       "output_type": "stream",
       "stream": "stdout",
       "text": [
        "BRCA2\t13\t32889611\t32973805\n",
        "TNFAIP3\t6\t138188351\t138204449\n",
        "TCF7\t5\t133450402\t133487556\n"
       ]
      }
     ],
     "prompt_number": 65
    },
    {
     "cell_type": "code",
     "collapsed": false,
     "input": [
      "%%perl\n",
      "\n",
      "my $file = 'genes.txt';\n",
      "open (INFILE, '<' , $file) or die \"Can't open $file, $!\\n\";\n",
      "while (my $line = <INFILE>){\n",
      "    chomp $line;\n",
      "    my @columns = split(\"\\t\", $line);\n",
      "    ## for csv (comma separated files) split on the comma\n",
      "    # my @columns = split ',' , $line;\n",
      "    my $gene = $columns[0];\n",
      "    my $start = $columns[2];\n",
      "    my $end = $columns[3];\n",
      "    my $length = $end - $start + 1;\n",
      "    print \"$gene has $length bps\\n\";\n",
      "}\n",
      "close (INFILE);"
     ],
     "language": "python",
     "metadata": {},
     "outputs": [
      {
       "output_type": "stream",
       "stream": "stdout",
       "text": [
        "BRCA2 has 84195 bps\n",
        "TNFAIP3 has 16099 bps\n",
        "TCF7 has 37155 bps\n"
       ]
      }
     ],
     "prompt_number": 67
    },
    {
     "cell_type": "markdown",
     "metadata": {},
     "source": [
      "#### Exercises\n",
      "\n",
      "1. Create a script that takes the name of a file containing many lines of nucleotide sequence as a command line argument, checks that it exists with `-e`, and opens the file for reading.\n",
      "2. Count the length of each line with the length function.\n",
      "3. Print to a different file the length of each line (on a separate line) and then the total sum of all the lengths as the final line in the file.\n",
      "\n",
      "- Available at: <a href=\"http://www.ebi.ac.uk/~grsr/perl/dna.txt\">www.ebi.ac.uk/~grsr/perl/dna.txt</a>"
     ]
    },
    {
     "cell_type": "code",
     "collapsed": false,
     "input": [
      "%%bash \n",
      "cat dna.txt"
     ],
     "language": "python",
     "metadata": {},
     "outputs": [
      {
       "output_type": "stream",
       "stream": "stdout",
       "text": [
        "CGGCTAGATCCAGAT\n",
        "CGTGTAA\n",
        "GTACACCCA\n",
        "GTCAACACTTA\n"
       ]
      }
     ],
     "prompt_number": 68
    },
    {
     "cell_type": "markdown",
     "metadata": {},
     "source": [
      "----"
     ]
    },
    {
     "cell_type": "heading",
     "level": 1,
     "metadata": {},
     "source": [
      "Lesson 21: References and multidimensional data structures"
     ]
    },
    {
     "cell_type": "markdown",
     "metadata": {},
     "source": [
      "References are just (memory) addresses. Multidimensional data structures are just hashes and arrays inside of hashes and arrays. \n",
      "\n",
      "Creating references\n",
      "\n",
      "- All data and data structures have an address in memory\n",
      "- References are the address of some data structure, or a _pointer_ to the data structure\n",
      "- Humans have no need to know the address\n",
      "- References are useful because they are a scalar variable.\n",
      "- Arrays and hashes are not scalar variables.\n",
      "- The only kind of data that you can store in an array or hash is scalar\n",
      "- We can now store hashes and arrays in other hashes and arrays by storing the address\n",
      "- Retrieve the address with '\\'"
     ]
    },
    {
     "cell_type": "code",
     "collapsed": false,
     "input": [
      "%%perl\n",
      "my @array = qw (this sentence will be turned into a list);\n",
      "my $address = \\@array;\n",
      "print \"$address\\n\";"
     ],
     "language": "python",
     "metadata": {},
     "outputs": [
      {
       "output_type": "stream",
       "stream": "stdout",
       "text": [
        "ARRAY(0x7f8f110300f0)\n"
       ]
      }
     ],
     "prompt_number": 82
    },
    {
     "cell_type": "markdown",
     "metadata": {},
     "source": [
      "#### Storing references \n",
      "\n",
      "Now that we have a way to retrieve the address we can store an array or a hash in an array or hash."
     ]
    },
    {
     "cell_type": "code",
     "collapsed": false,
     "input": [
      "%%perl\n",
      "use Data::Dumper;\n",
      "my @array = qw (this sentence will be turned into a list);\n",
      "my $address = \\@array;\n",
      " \n",
      "my %hash;\n",
      "$hash{'array'} = $address;\n",
      "print Dumper \\%hash;"
     ],
     "language": "python",
     "metadata": {},
     "outputs": []
    },
    {
     "cell_type": "markdown",
     "metadata": {},
     "source": [
      "If `@array` is changed the hash also changes, because the hash contains only a reference to the array, not a copy of the array"
     ]
    },
    {
     "cell_type": "code",
     "collapsed": false,
     "input": [
      "%%perl\n",
      "use Data::Dumper;\n",
      "my @array = qw (this sentence will be turned into a list);\n",
      "my $address = \\@array;\n",
      "my %hash;\n",
      "$hash{'array'} = $address;\n",
      "\n",
      "print \"Before pop\\n\";\n",
      "print Dumper \\%hash;\n",
      "\n",
      "pop @array;\n",
      "\n",
      "print \"After pop\\n\";\n",
      "print Dumper \\%hash;"
     ],
     "language": "python",
     "metadata": {},
     "outputs": []
    },
    {
     "cell_type": "markdown",
     "metadata": {},
     "source": [
      "- You do not always need to store the address of an data structure in a variable.\n",
      "- You can create an anonymous array or hash on the fly. It is anonymous because it is unnamed.\n",
      "- notice the `[ ]` in the anonymous array assignment, we use these with array indicies\n",
      "- notice the `{ }` in the anonymous hash assignment, we use these with hash indicies"
     ]
    },
    {
     "cell_type": "code",
     "collapsed": false,
     "input": [
      "%%perl -w\n",
      "use Data::Dumper;\n",
      "\n",
      "my %hash;\n",
      "\n",
      "# anonymous array in a hash\n",
      "$hash{'array2'} = ['this','is','an','anonymous','array'];\n",
      " \n",
      "# anonymous hash in a hash\n",
      "$hash{'hash'} = { 'key1' => 'value1' ,\n",
      "                  'key2' => 'value2'\n",
      "                 };\n",
      " \n",
      "print Dumper \\%hash;\n"
     ],
     "language": "python",
     "metadata": {},
     "outputs": []
    },
    {
     "cell_type": "markdown",
     "metadata": {},
     "source": [
      "#### Retrieving all or pieces of the data from references \n",
      "\n",
      "Whole chunks of data or pieces of data can be retrieved from our multidimensional structures by using the address. \n",
      "\n",
      "steps to dereference (retrieve data from a reference)\n",
      "\n",
      "1. Get your address, or reference: ADDRESS\n",
      "2. Wrap your address, or reference in {}: {ADDRESS}\n",
      "3. Put the symbol of the data type out front @: @{ADDRESS}"
     ]
    },
    {
     "cell_type": "code",
     "collapsed": false,
     "input": [
      "%%perl\n",
      "\n",
      "my @array = qw (this sentence will be turned into a list);\n",
      "my $address = \\@array;\n",
      "print \"$address\\n\";\n",
      "print \"array from dereferenced reference:\\n @{$address}\\n\";\n"
     ],
     "language": "python",
     "metadata": {},
     "outputs": []
    },
    {
     "cell_type": "markdown",
     "metadata": {},
     "source": [
      "#### Storing multiple sets of data in a single hash\n",
      "\n",
      "In the example below we demonstrate how we can use references to store multiple sets of data corresponding to different genes in a single hash. We also introduce the `->` notation for accessing elements of a hash or array reference.\n",
      "\n",
      "- `$array_ref->[0]` Access the first element of the array reference\n",
      "- `$hash_ref->{'key'}` Access the value corresponding to `'key'` in the hash reference\n",
      "- Note that this operator can be chained for complex data structures:\n",
      "    - `$array_ref->[1]->{'name'}` Access the value corresponding to 'name' in the second hash reference in the list reference "
     ]
    },
    {
     "cell_type": "code",
     "collapsed": false,
     "input": [
      "%%perl\n",
      "\n",
      "use Data::Dumper;\n",
      "\n",
      "my %brca2_data = ('chr' => 13, 'length' => 84194, 'expression' => [45, 34, 23]);\n",
      "my %tcf7_data  = ('chr' => 5, 'length' => 37154, 'expression' => [7, 56, 13]);\n",
      "\n",
      "my %gene_data;\n",
      "\n",
      "$gene_data{'BRCA2'} = \\%brca2_data;\n",
      "$gene_data{'TCF7'} = \\%tcf7_data;\n",
      "\n",
      "print Dumper \\%gene_data;\n",
      "\n",
      "print \"\\nFirst expression level for BRCA2: \", $gene_data{'BRCA2'}->{'expression'}->[0];\n",
      "print \"\\nLength of TCF7: \", $gene_data{'TCF7'}->{'length'};"
     ],
     "language": "python",
     "metadata": {},
     "outputs": [
      {
       "output_type": "stream",
       "stream": "stdout",
       "text": [
        "$VAR1 = {\n",
        "          'BRCA2' => {\n",
        "                       'length' => 84194,\n",
        "                       'expression' => [\n",
        "                                         45,\n",
        "                                         34,\n",
        "                                         23\n",
        "                                       ],\n",
        "                       'chr' => 13\n",
        "                     },\n",
        "          'TCF7' => {\n",
        "                      'length' => 37154,\n",
        "                      'expression' => [\n",
        "                                        7,\n",
        "                                        56,\n",
        "                                        13\n",
        "                                      ],\n",
        "                      'chr' => 5\n",
        "                    }\n",
        "        };\n",
        "\n",
        "First expression level for BRCA2: 45\n",
        "Length of TCF7: 37154"
       ]
      }
     ],
     "prompt_number": 83
    },
    {
     "cell_type": "markdown",
     "metadata": {},
     "source": [
      "#### Exercises\n",
      "\n",
      "1. Create a script in which you store arrays in a hash.\n",
      "2. Print the second element of one of your arrays\n",
      "3. Use foreach loops to print every key and value of your hash, as well as each element of your array."
     ]
    },
    {
     "cell_type": "markdown",
     "metadata": {},
     "source": [
      "-----"
     ]
    },
    {
     "cell_type": "heading",
     "level": 1,
     "metadata": {},
     "source": [
      "Lesson 23: Subroutines or Custom functions"
     ]
    },
    {
     "cell_type": "markdown",
     "metadata": {},
     "source": [
      "Is there a block of code that you use more than once in your script? If so you should write a subroutine. \n",
      "\n",
      "- A subroutine is a custom function\n",
      "- Allows you to reduce the chances of introducing an error into repetitive blocks of code\n",
      "- If you decide to change your block of code, you only have to change it in one place\n",
      "- Simplifies the flow of your script. Now you have a useful function name instead of many lines of code\n",
      "- You can pass arguments to the subroutine\n",
      "- You can have your subroutine return values\n",
      "\n",
      "To make a subroutine\n",
      "\n",
      "2. use the keyword `sub`\n",
      "3. give it an informative name.\n",
      "4. _arguments_, or _parameters_, come in on a special array called `@_` or the magic carpet array. It is very similar to `@ARGV`, and subroutine arguments are analogous to command line arguments but they are only available inside the subroutine, not throughout the program. \n",
      "5. use the `return` function to return values.\n",
      "\n",
      "To use a subroutine\n",
      "\n",
      "1. write the subroutine name, with any arguments to the subroutine in parentheses immediately after\n",
      "2. assign the return value (if any) to a variable (or pass it to another subroutine etc.)\n",
      "    - `my $result = my_subroutine($arg1, $arg2);`"
     ]
    },
    {
     "cell_type": "code",
     "collapsed": false,
     "input": [
      "%%perl\n",
      "\n",
      "sub maximum {\n",
      "    my $num1 = @_[0];\n",
      "    my $num2 = @_[1];\n",
      "\n",
      "    if ($num1 > $num2) {\n",
      "        return $num1;\n",
      "    }\n",
      "    else {\n",
      "        return $num2;\n",
      "    }\n",
      "}\n",
      "\n",
      "my $max = maximum(2000, 100);\n",
      "\n",
      "print \"the maximum is: $max\\n\";"
     ],
     "language": "python",
     "metadata": {},
     "outputs": [
      {
       "output_type": "stream",
       "stream": "stdout",
       "text": [
        "the maximum is: 2000\n"
       ]
      }
     ],
     "prompt_number": 73
    },
    {
     "cell_type": "code",
     "collapsed": false,
     "input": [
      "%%perl \n",
      "\n",
      "sub gc_percent {\n",
      "    my $dna = shift @_; # Perl actually lets you omit the @_, as it will be used by default\n",
      "\n",
      "    my $gc_count = 0;\n",
      "\n",
      "    foreach my $nt (split '', $dna) {\n",
      "        if ($nt eq 'G' || $nt eq 'C') {\n",
      "            $gc_count++;\n",
      "        }\n",
      "    }\n",
      "\n",
      "    my $gc_proportion = 100 * $gc_count / length($dna);\n",
      "\n",
      "    return $gc_proportion;\n",
      "}\n",
      "\n",
      "my $dna = \"GTCAAGTACAATGGACCGCGCGCGCCCCCCCCCCCCCCCCCCCCCCGC\";\n",
      "\n",
      "print \"GC content: \", gc_percent($dna), \"%\", \"\\n\";"
     ],
     "language": "python",
     "metadata": {},
     "outputs": [
      {
       "output_type": "stream",
       "stream": "stdout",
       "text": [
        "GC content: 81.25%\n"
       ]
      }
     ],
     "prompt_number": 79
    },
    {
     "cell_type": "markdown",
     "metadata": {},
     "source": [
      "Note:\n",
      "    \n",
      "- Arrays can be passed into and out of a subroutine, but if more than one is passed in or out, the contents will be merged into one single array in `@_`.\n",
      "- Hashes evaluate to lists of key/value pairs so they can also be passed into and out of a subroutine.\n",
      "- More complicated datastructures do not pass around nicely unless you pass just a reference to the subroutine."
     ]
    },
    {
     "cell_type": "markdown",
     "metadata": {},
     "source": [
      "Exercises\n",
      "\n",
      "1. Create a factorial subroutine that takes one number as an argument calculates the factorial of that number and then returns the one result \n",
      "    - recall that the factorial of a number _x_ is the product of all positive integers less than or equal to _x_, e.g. factorial(4) = 4 x 3 x 2 x 1 = 24\n",
      "    \n",
      "2. Write a subroutine that takes a list of numbers (of variable length) and returns the average (mean) of all the numbers"
     ]
    },
    {
     "cell_type": "code",
     "collapsed": false,
     "input": [
      "%%perl -w\n",
      "sub maximum {\n",
      "    my $num1 = $_[0];\n",
      "    my $num2 = $_[1];\n",
      "    if ($num1 > $num2) {\n",
      "        return $num1;\n",
      "    }\n",
      "    else {\n",
      "        return $num2;\n",
      "    }\n",
      "}\n",
      "my $max = maximum(2000, 100);\n",
      "print \"the maximum is: $max\\n\";"
     ],
     "language": "python",
     "metadata": {},
     "outputs": [
      {
       "output_type": "stream",
       "stream": "stdout",
       "text": [
        "the maximum is: 2000\n"
       ]
      }
     ],
     "prompt_number": 81
    },
    {
     "cell_type": "markdown",
     "metadata": {},
     "source": [
      "----"
     ]
    },
    {
     "cell_type": "heading",
     "level": 1,
     "metadata": {},
     "source": [
      "Lesson 24: System calls"
     ]
    },
    {
     "cell_type": "markdown",
     "metadata": {},
     "source": [
      "You will often have a need to execute commands that you would normally execute on the command line in your script. For example you might want to execute a series of scripts in one script.\n",
      "\n",
      "There are two common ways to do this.\n",
      "\n",
      "- the function `system`\n",
      "- using backticks ``"
     ]
    },
    {
     "cell_type": "markdown",
     "metadata": {},
     "source": [
      "#### `system`\n",
      "\n",
      "`system` is a function that you can supply the command line statement to be executed as the first argument and the exit status is returned. Output cannot be captured in a variable using `system`, but see backticks `` below for this feature.\n",
      "\n",
      "`system` returns:\n",
      "\n",
      "- 0 for no errors\n",
      "- -1 for errors\n",
      "- if you get an error, you can print the variable `$!` to find out the reason"
     ]
    },
    {
     "cell_type": "code",
     "collapsed": false,
     "input": [
      "%%perl\n",
      "\n",
      "my $sys = system (\"dat\");\n",
      "print \"sys returned: $sys\\n\";\n",
      "\n",
      "if ($sys == -1) {\n",
      "    print \"Error: $!\\n\";\n",
      "}"
     ],
     "language": "python",
     "metadata": {},
     "outputs": [
      {
       "output_type": "stream",
       "stream": "stdout",
       "text": [
        "sys returned: -1\n",
        "Error: No such file or directory\n"
       ]
      }
     ],
     "prompt_number": 85
    },
    {
     "cell_type": "markdown",
     "metadata": {},
     "source": [
      "#### Backticks `` \n",
      "\n",
      "Backticks can be used to execute a command in your script. The output is the output of the command. This output can be captured in a variable. Now you can do things to the contents of the variable "
     ]
    },
    {
     "cell_type": "code",
     "collapsed": false,
     "input": [
      "%%perl\n",
      "my @files = `ls`;\n",
      "\n",
      "foreach my $file (@files) {\n",
      "    print uc($file);\n",
      "}\n"
     ],
     "language": "python",
     "metadata": {},
     "outputs": [
      {
       "output_type": "stream",
       "stream": "stdout",
       "text": [
        "COPYING.TXT\n",
        "IPYTHON\n",
        "LEARNING PERL.IPYNB\n",
        "MANIFEST.IN\n",
        "README.RST\n",
        "BRCA2.FASTA\n",
        "BRCA2_SHORT.FASTA\n",
        "DATA.TXT\n",
        "DNA.TXT\n",
        "DOCS\n",
        "EXAMPLES\n",
        "FILE.TXT\n",
        "GENES.TXT\n",
        "HELLO.PL\n",
        "IPYTHON.PY\n",
        "NEWFILE.TXT\n",
        "PARSE_FILE.PL\n",
        "PERL\n",
        "PERL.TGZ\n",
        "SCALAR_REASSIGNMENT_2.PL\n",
        "SCRIPTS\n",
        "SETUP.PY\n",
        "SETUPBASE.PY\n",
        "SETUPEGG.PY\n",
        "SETUPEXT\n",
        "TOOLS\n",
        "TOX.INI\n",
        "USER_INPUT.PL\n"
       ]
      }
     ],
     "prompt_number": 86
    },
    {
     "cell_type": "markdown",
     "metadata": {},
     "source": [
      "#### Exercises\n",
      "1. Create a script that uses a system call, using the system function, to run one of your already written scripts. Collect the output of the system function in a variable and print it to the screen. This output is a code to indicate the success of the call.\n",
      "2. Change the script to run your system call using backticks. Collect your output and print it to the screen"
     ]
    },
    {
     "cell_type": "markdown",
     "metadata": {},
     "source": [
      "-----"
     ]
    },
    {
     "cell_type": "heading",
     "level": 1,
     "metadata": {},
     "source": [
      "Lesson 22: Regular Expressions"
     ]
    },
    {
     "cell_type": "markdown",
     "metadata": {},
     "source": [
      "Regular expressions are a language you can use within Perl to identify patterns in text. The following notes were originally written by Lincoln Stein for a Programing for Biology course at CSHL and later altered by Sofia."
     ]
    },
    {
     "cell_type": "markdown",
     "metadata": {},
     "source": [
      "#### Regular Expressions\n",
      "\n",
      "A regular expression is a string template against which you can match a piece of text. They are something like shell wildcard expressions, but much more powerful.\n",
      "\n",
      "#### Examples of Regular Expressions\n",
      "\n",
      "This bit of code loops through each line of a file. Finds all lines containing an EcoRI site, and bumps up a counter:\n",
      "    \n",
      "(you can fetch the BRCA2 sequence here: <a href=\"http://www.ebi.ac.uk/~grsr/brca2.fasta\">www.ebi.ac.uk/~grsr/perl/brca2.fast</a>)"
     ]
    },
    {
     "cell_type": "code",
     "collapsed": false,
     "input": [
      "%%perl -w\n",
      "#!/usr/bin/perl -w\n",
      "#file: EcoRI1.pl\n",
      " \n",
      "use strict;\n",
      " \n",
      "my $filename = \"brca2.fasta\";\n",
      "open (FASTA , '<' ,\"$filename\") or print \"$filename does not exist\\n\";\n",
      "my $sites;\n",
      " \n",
      "while (my $line = <FASTA>) {\n",
      "  chomp $line;\n",
      " \n",
      "  if ($line =~ /GAATTC/){ \n",
      "    print \"Found an EcoRI site!\\n\";\n",
      "    $sites++;\n",
      "  }\n",
      "}\n",
      " \n",
      "if ($sites){\n",
      "  print \"$sites EcoRI sites total\\n\";\n",
      "}else{\n",
      "  print \"No EcoRI sites were found\\n\";\n",
      "}\n",
      " \n",
      "#note: if $sites is declared inside while loop you would not be able to\n",
      "#print it outside the loop\n"
     ],
     "language": "python",
     "metadata": {},
     "outputs": [
      {
       "output_type": "stream",
       "stream": "stdout",
       "text": [
        "Found an EcoRI site!\n",
        "Found an EcoRI site!\n",
        "Found an EcoRI site!\n",
        "Found an EcoRI site!\n",
        "Found an EcoRI site!\n",
        "Found an EcoRI site!\n",
        "Found an EcoRI site!\n",
        "Found an EcoRI site!\n",
        "Found an EcoRI site!\n",
        "Found an EcoRI site!\n",
        "Found an EcoRI site!\n",
        "Found an EcoRI site!\n",
        "Found an EcoRI site!\n",
        "Found an EcoRI site!\n",
        "Found an EcoRI site!\n",
        "Found an EcoRI site!\n",
        "Found an EcoRI site!\n",
        "Found an EcoRI site!\n",
        "Found an EcoRI site!\n",
        "Found an EcoRI site!\n",
        "Found an EcoRI site!\n",
        "Found an EcoRI site!\n",
        "Found an EcoRI site!\n",
        "Found an EcoRI site!\n",
        "24 EcoRI sites total\n"
       ]
      }
     ],
     "prompt_number": 87
    },
    {
     "cell_type": "markdown",
     "metadata": {},
     "source": [
      "This does something similar, but counts one type of methylation site (Pu-C-X-G) instead:"
     ]
    },
    {
     "cell_type": "code",
     "collapsed": false,
     "input": [
      "%%perl\n",
      "\n",
      "use strict;\n",
      " \n",
      "my $filename = \"brca2.fasta\";\n",
      "open (FASTA , '<' ,\"$filename\") or print \"$filename does not exist\\n\";\n",
      "my $sites;\n",
      "\n",
      "while (my $line = <FASTA>) {\n",
      "  \tchomp $line;\n",
      " \n",
      "  \tif ($line =~ /[GA]C.?G/){ \n",
      "        #What Happens If Your File Is Not All In CAPS?\n",
      " \n",
      "        #print \"Found a Methylation Site!\\n\";\n",
      "    \t$sites++;\n",
      "  \t}\n",
      "}\n",
      "if ($sites){\n",
      "\tprint \"$sites Methylation Sites total\\n\";\n",
      "}else{\n",
      "\tprint \"No Methylation Sites were found\\n\";\n",
      "}"
     ],
     "language": "python",
     "metadata": {},
     "outputs": [
      {
       "output_type": "stream",
       "stream": "stdout",
       "text": [
        "964 Methylation Sites total\n"
       ]
      }
     ],
     "prompt_number": 88
    },
    {
     "cell_type": "markdown",
     "metadata": {},
     "source": [
      "#### Regular Expressions\n",
      "\n",
      "A regular expression is normally delimited by two slashes (\"/\"). Everything between the slashes is a pattern to match. Patterns can be made up of the following Atoms:\n",
      "\n",
      "1. Ordinary characters: a-z, A-Z, 0-9 and some punctuation. These match themselves.\n",
      "2. The \".\" character, which matches everything except the newline.\n",
      "3. A bracket list of characters, such as `[AaGgCcTtNn]`, `[A-F0-9]`, or `[^A-Z]` (the last means anything BUT A-Z).\n",
      "4. Certain predefined character sets:\n",
      "    - `\\d` The digits [0-9]\n",
      "    - `\\w` A word character [A-Za-z_0-9]\n",
      "    - `\\s` White space [ \\t\\n\\r]\n",
      "    - `\\D` A non-digit\n",
      "    - `\\W` A non-word\n",
      "    - `\\S` Non-whitespace\n",
      "5. Anchors:\n",
      "    - `^` Matches the beginning of the string\n",
      "    - `$` Matches the end of the string\n",
      "    - `\\b` Matches a word boundary (between a `\\w` and a `\\W`)"
     ]
    },
    {
     "cell_type": "markdown",
     "metadata": {},
     "source": [
      "#### Examples:\n",
      "\n",
      "- `/g..t/` matches \"gaat\", \"goat\", and \"gotta get a goat\" (twice)\n",
      "- `/g[gatc][gatc]t/` matches \"gaat\", \"gttt\", \"gatt\", and \"gotta get an agatt\" (once)\n",
      "- `/\\d\\d\\d-\\d\\d\\d\\d/` matches 376-8380, and 5128-8181, but not 055-98-2818.\n",
      "- `/^\\d\\d\\d-\\d\\d\\d\\d/` matches 376-8380 and 376-83801, but not 5128-8181.\n",
      "- `/^\\d\\d\\d-\\d\\d\\d\\d$/` only matches (US!) telephone numbers.\n",
      "- `/\\bcat/` matches \"cat\", \"catsup\" and \"more catsup please\" but not \"scat\".\n",
      "- `/\\bcat\\b/` only text containing the word \"cat\"."
     ]
    },
    {
     "cell_type": "markdown",
     "metadata": {},
     "source": [
      "#### Quantifiers\n",
      "\n",
      "By default, an atom matches once. This can be modified by following the atom with a quantifier:\n",
      "\n",
      "- `?` atom matches zero or exactly once\n",
      "- `*` atom matches zero or more times\n",
      "- `+` atom matches one or more times\n",
      "- `{3}` atom matches exactly three times\n",
      "- `{2,4}` atom matches between two and four times, inclusive\n",
      "- `{4,}` atom matches at least four times"
     ]
    },
    {
     "cell_type": "markdown",
     "metadata": {},
     "source": [
      "Examples:\n",
      "\n",
      "- `/goa?t/` matches \"goat\" and \"got\". Also any text that contains these words.\n",
      "- `/g.+t/` matches \"goat\", \"goot\", and \"grant\", among others.\n",
      "- `/g.*t/` matches \"gt\", \"goat\", \"goot\", and \"grant\", among others.\n",
      "- `/^\\d{3}-\\d{4}$/` matches US telephone numbers (no extra text allowed)."
     ]
    },
    {
     "cell_type": "markdown",
     "metadata": {},
     "source": [
      "Alternatives and Grouping\n",
      "\n",
      "A set of alternative patterns can be specified with the `|` symbol:\n",
      "    \n",
      "- `/wolf|sheep/` matches \"wolf\" or \"sheep\"\n",
      "\n",
      "Use parentheses to group subpatterns:\n",
      "\n",
      "- `/big bad (wolf|sheep)/` matches \"big bad wolf\" or \"big bad sheep\"\n",
      "\n",
      "You can combine parenthesis and quantifiers to quantify entire subpatterns:\n",
      "\n",
      "- `/big (bad )? wolf\\?/` matches \"big wolf?\" or \"big bad wolf?\"\n",
      "\n",
      "Note that you can match special characters by _escaping_ them by putting a '\\' in front"
     ]
    },
    {
     "cell_type": "markdown",
     "metadata": {},
     "source": [
      "#### Specifying the string to match\n",
      "\n",
      "The one line version of the `if` statement can be combined with a regular expression.\n",
      "\n",
      "- Use the `=~` operator to check if a variable matches a regular expression\n",
      "- There is also an equivalent `!-` operator which checks if a variable does not match"
     ]
    },
    {
     "cell_type": "code",
     "collapsed": false,
     "input": [
      "%%perl\n",
      "\n",
      "my $h = \"Who's afraid of Virginia Woolf?\";\n",
      "print \"I'm afraid!\\n\" if $h =~ /Woo?lf/;\n",
      "\n",
      "if ($h =~ /Woo?lf/) {\n",
      "    print ...\n",
      "}"
     ],
     "language": "python",
     "metadata": {},
     "outputs": []
    },
    {
     "cell_type": "markdown",
     "metadata": {},
     "source": [
      "#### Matching with a variable pattern\n",
      "\n",
      "You can use a scalar variable for all or part of a regular expression. For example:"
     ]
    },
    {
     "cell_type": "code",
     "collapsed": false,
     "input": [
      "%%perl\n",
      "\n",
      "my $pattern = '/usr/local';\n",
      "\n",
      "my $file = '/usr/local/bin/wget';\n",
      "\n",
      "print \"matches\" if $file =~ /^$pattern/;"
     ],
     "language": "python",
     "metadata": {},
     "outputs": []
    },
    {
     "cell_type": "markdown",
     "metadata": {},
     "source": [
      "#### Exercises\n",
      "\n",
      "1. Create a string and check if it contains a number\n",
      "1. Create an array of strings, loop over this array and use a regular expression to check if each string has any numbers in it, print it if so\n",
      "2. Modify your code to check if each string contains _only_ numbers, and print it out if so\n",
      "2. Write a regular expression to match a UK postcode, e.g. CB10 1SA. \n",
      "    - Rules: two uppercase characters, followed by a 1 or 2 digit number, optionally a space, then a single number and two uppercase characters"
     ]
    },
    {
     "cell_type": "code",
     "collapsed": false,
     "input": [
      "%%perl\n",
      "\n",
      "my $str = \"hello\";\n",
      "\n",
      "if ($str =~ /a/) {\n",
      "    print \"$str matches\\n\";\n",
      "}\n",
      "else {\n",
      "    print \"$str doesn't match\\n\";\n",
      "}\n"
     ],
     "language": "python",
     "metadata": {},
     "outputs": [
      {
       "output_type": "stream",
       "stream": "stdout",
       "text": [
        "hello doesn't match\n"
       ]
      }
     ],
     "prompt_number": 91
    },
    {
     "cell_type": "markdown",
     "metadata": {},
     "source": [
      "#### Subpatterns\n",
      "\n",
      "You can extract and manipulate subpatterns in regular expressions.\n",
      "\n",
      "To designate a subpattern, surround its part of the pattern with parenthesis (same as with the grouping operator). This example has just one subpattern, `(.+)` :\n",
      "    \n",
      "`/Who's afraid of the big bad w(.+)f/`"
     ]
    },
    {
     "cell_type": "markdown",
     "metadata": {},
     "source": [
      "#### Matching subpatterns\n",
      "\n",
      "Outside the regular expression match statement, the matched subpatterns (if any) can be found the variables `$1` for the first group, `$2` for the second, `$3` for the third, and so forth.\n",
      "\n",
      "Example. Extract 10 base pairs upstream and 5 base pairs downstream of the TATTAT consensus transcription start site:"
     ]
    },
    {
     "cell_type": "code",
     "collapsed": false,
     "input": [
      "%%perl\n",
      "\n",
      "my $filename = \"brca2.fasta\";\n",
      "open (FASTA , '<' ,\"$filename\") or print \"$filename does not exist\\n\";\n",
      "\n",
      "while (my $line = <FASTA>) {\n",
      "    chomp $line;\n",
      "    next unless $line =~ /(.{10})TATTAT(.{5})/;\n",
      "    my $upstream = $1;\n",
      "    my $downstream = $2;\n",
      "\n",
      "    print \"downstream: $downstream\\n\";\n",
      "}"
     ],
     "language": "python",
     "metadata": {},
     "outputs": []
    },
    {
     "cell_type": "markdown",
     "metadata": {},
     "source": [
      "#### Subpatterns and Greediness\n",
      "\n",
      "By default, regular expressions are \"greedy\". They try to match as much as they can. For example:"
     ]
    },
    {
     "cell_type": "code",
     "collapsed": false,
     "input": [
      "%%perl\n",
      "\n",
      "my $h = 'The fox ate my box of doughnuts';\n",
      "$h =~ /(f.+x)/;\n",
      "$subpattern = $1;\n",
      "print $subpattern, \"\\n\";"
     ],
     "language": "python",
     "metadata": {},
     "outputs": []
    },
    {
     "cell_type": "markdown",
     "metadata": {},
     "source": [
      "Because of the greediness of the match, `$subpattern` will contain \"fox ate my box\" rather than just \"fox\".\n",
      "\n",
      "To match the minimum number of times, put a `?` after the qualifier, like this:"
     ]
    },
    {
     "cell_type": "code",
     "collapsed": false,
     "input": [
      "%%perl\n",
      "\n",
      "my $h = 'The fox ate my box of doughnuts';\n",
      "$h =~ /(f.+?x)/;\n",
      "$subpattern = $1;\n",
      "print $subpattern, \"\\n\";"
     ],
     "language": "python",
     "metadata": {},
     "outputs": []
    },
    {
     "cell_type": "markdown",
     "metadata": {},
     "source": [
      "Now `$subpattern` will contain \"fox\". This is called lazy matching.\n",
      "Lazy matching works with any quantifier, such as `+?`, `*?` and `{2,50}?`."
     ]
    },
    {
     "cell_type": "markdown",
     "metadata": {},
     "source": [
      "#### String Substitution\n",
      "\n",
      "String substitution allows you to replace a pattern or character range with another one using the `s///` and `tr///` functions.\n",
      "\n",
      "The `s///` Function\n",
      "\n",
      "`s///` has two parts: the regular expression and the string to replace it with: `s/expression/replacement/`."
     ]
    },
    {
     "cell_type": "code",
     "collapsed": false,
     "input": [
      "%%perl \n",
      "\n",
      "my $h = \"Who's afraid of the big bad wolf?\";\n",
      "my $i = \"He had a wife.\";\n",
      " \n",
      "$h =~ s/w.+f/goat/;\n",
      "$i =~ s/w.+f/goat/;\n",
      "\n",
      "print \"h: $h\\n\";\n",
      "print \"i: $i\\n\";"
     ],
     "language": "python",
     "metadata": {},
     "outputs": []
    },
    {
     "cell_type": "markdown",
     "metadata": {},
     "source": [
      "If you extract pattern matches, you can use them in the replacement part of the substitution:"
     ]
    },
    {
     "cell_type": "code",
     "collapsed": false,
     "input": [
      "%%perl \n",
      "\n",
      "my $h = \"Who's afraid of the big bad wolf?\";\n",
      " \n",
      "$h =~ s/(\\w+) (\\w+) wolf/$2 $1 wolf/;\n",
      "\n",
      "print \"h: $h\\n\";"
     ],
     "language": "python",
     "metadata": {},
     "outputs": []
    },
    {
     "cell_type": "markdown",
     "metadata": {},
     "source": [
      "#### Translating Character Ranges\n",
      "\n",
      "The `tr///` function allows you to translate one set of characters into another. Specify the source set in the first part of the function, and the destination set in the second part:"
     ]
    },
    {
     "cell_type": "code",
     "collapsed": false,
     "input": [
      "%%perl \n",
      "my $h = \"Who's afraid of the big bad wolf?\";\n",
      "$h =~ tr/ao/AO/;\n",
      "\n",
      "print \"$h\\n\";"
     ],
     "language": "python",
     "metadata": {},
     "outputs": []
    },
    {
     "cell_type": "markdown",
     "metadata": {},
     "source": [
      "This is a convenient way to reverse complement some DNA sequence"
     ]
    },
    {
     "cell_type": "code",
     "collapsed": false,
     "input": [
      "%%perl\n",
      "\n",
      "my $dna = \"CGGTGTAAGTATACC\";\n",
      "\n",
      "$dna =~ tr/ACGT/TGCA/;\n",
      "\n",
      "# we alseo need to reverse the order of the nucleotides\n",
      "\n",
      "$dna = reverse($dna);\n",
      "\n",
      "print \"$dna\\n\";"
     ],
     "language": "python",
     "metadata": {},
     "outputs": []
    },
    {
     "cell_type": "markdown",
     "metadata": {},
     "source": [
      "#### Regular Expression Options\n",
      "\n",
      "Regular expression matches and substitutions have a whole set of options which you can toggle on by appending one or more of the `i, m, s, g, e` or `x` modifiers to the end of the operation. See Programming Perl Page 153 for more information.\n",
      "\n",
      "- `i` Make the match case insensitive\n",
      "- `g` Global match (see below)\n",
      "- `e` Evaluate thr right side of `s///` as an expression\n",
      "- `m` Treat string as multiple lines, `^` and `$` will match internal line boundaries\n",
      "- `s` Treat string as a single line, `.` will match any character but now _including_ newlines\n",
      "- `o` Tell Perl that a variable used in a pattern will never change"
     ]
    },
    {
     "cell_type": "markdown",
     "metadata": {},
     "source": [
      "#### Global Matches\n",
      "\n",
      "Adding the `g` modifier to the pattern causes the match to be global. Called in a scalar context (such as an `if` or `while` statement), it will match as many times as it can.\n",
      "\n",
      "This will match all codons in a DNA sequence, printing them out on separate lines:"
     ]
    },
    {
     "cell_type": "code",
     "collapsed": false,
     "input": [
      "%%perl \n",
      "\n",
      "my $sequence = 'GTTGCCTGAAATGGCGGAACCTTGAA';\n",
      "\n",
      "while ( $sequence =~ /(.{3})/g ) {\n",
      "    print $1,\"\\n\";\n",
      "}"
     ],
     "language": "python",
     "metadata": {},
     "outputs": []
    },
    {
     "cell_type": "markdown",
     "metadata": {},
     "source": [
      "If you perform a global match in a list context (e.g. assign its result to an array), then you get a list of all the subpatterns that matched from left to right. This code fragment gets arrays of codons in all three reading frames:"
     ]
    },
    {
     "cell_type": "code",
     "collapsed": false,
     "input": [
      "%%perl\n",
      "my $sequence = 'GTTGCCTGAAATGGCGGAACCTTGAA';\n",
      "\n",
      "my @frame1 = $sequence =~ /(.{3})/g;\n",
      "my @frame2 = substr($sequence,1) =~ /(.{3})/g;\n",
      "my @frame3 = substr($sequence,2) =~ /(.{3})/g;\n",
      "\n",
      "print join(\"\\n\", @frame3);"
     ],
     "language": "python",
     "metadata": {},
     "outputs": []
    },
    {
     "cell_type": "markdown",
     "metadata": {},
     "source": [
      "#### Exercises\n",
      "\n",
      "1. The enzyme ApoI has a restriction site: `R^AATTY` where `R` and `Y` are degenerate nucleotides. See the IUPAC table to identify the nucleotide possibilities for the R and Y. Write a regular expression that will match occurrences of the site in a sequence. (hint: what are you going to do about the actual cut site, represented by the `^`?)\n",
      "    \n",
      "2. Use the regular expression you just wrote to find all the restriction sites in the `brca2_short.fasta` file. Be sure to think about how to handle the newlines!\n",
      "\n",
      "3. Determine the site(s) of the cut in the above sequence. Print out the sequence with `^` at the cut site. Hints: Use subpatterns (parentheses and `$1`, `$2`) to find the cut site within the pattern. Use `s///` Example: if the pattern is GACGT^CT the following sequence `AAAAAAAAGACGTCTTTTTTTAAAAAAAAGACGTCTTTTTTT` would be cut like this: `AAAAAAAAGACGT^CTTTTTTTAAAAAAAAGACGT^CTTTTTTT`\n",
      "\n",
      "4. Now that you've done your restriction digest, determine the lengths of your fragments and sort them by length (in the same order they would separate on an electrophoresis gel). Hint: take a look at the split man page or think about storing your matches in an array. With one of these two approaches you should be able to convert this string: `AAAAAAAAGACGT^CTTTTTTTAAAAAAAAGACGT^CTTTTTTT` into this array: `(\"AAAAAAAAGACGT\",\"CTTTTTTTAAAAAAAAGACGT\",\"CTTTTTTT\")`\n"
     ]
    },
    {
     "cell_type": "code",
     "collapsed": false,
     "input": [],
     "language": "python",
     "metadata": {},
     "outputs": []
    }
   ],
   "metadata": {}
  }
 ]
}