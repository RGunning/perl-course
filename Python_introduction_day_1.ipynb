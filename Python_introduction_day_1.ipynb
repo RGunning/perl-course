{
 "metadata": {
  "name": "Python_introduction_day_1"
 },
 "nbformat": 3,
 "nbformat_minor": 0,
 "worksheets": [
  {
   "cells": [
    {
     "cell_type": "heading",
     "level": 1,
     "metadata": {},
     "source": [
      "Python basics"
     ]
    },
    {
     "cell_type": "heading",
     "level": 2,
     "metadata": {},
     "source": [
      "Getting started"
     ]
    },
    {
     "cell_type": "markdown",
     "metadata": {},
     "source": [
      "Starting the interactive interpreter:\n",
      "\n",
      "<img src=\"files/python_shell.png\">\n",
      "\n",
      "- From now on, what you see in the code boxes below can be typed directly into the interpreter.\n",
      "- You can of course also save your code in a file and run it (and we will be doing so later on), but for now we will just use the interpreter while we learn some python basics"
     ]
    },
    {
     "cell_type": "heading",
     "level": 2,
     "metadata": {},
     "source": [
      "Printing values"
     ]
    },
    {
     "cell_type": "code",
     "collapsed": false,
     "input": [
      "print \"Hello from python!\""
     ],
     "language": "python",
     "metadata": {},
     "outputs": [
      {
       "output_type": "stream",
       "stream": "stdout",
       "text": [
        "Hello from python!\n"
       ]
      }
     ],
     "prompt_number": 12
    },
    {
     "cell_type": "code",
     "collapsed": false,
     "input": [
      "print 34"
     ],
     "language": "python",
     "metadata": {},
     "outputs": [
      {
       "output_type": "stream",
       "stream": "stdout",
       "text": [
        "34\n"
       ]
      }
     ],
     "prompt_number": 13
    },
    {
     "cell_type": "code",
     "collapsed": false,
     "input": [
      "print 2 + 3"
     ],
     "language": "python",
     "metadata": {},
     "outputs": [
      {
       "output_type": "stream",
       "stream": "stdout",
       "text": [
        "5\n"
       ]
      }
     ],
     "prompt_number": 14
    },
    {
     "cell_type": "code",
     "collapsed": false,
     "input": [
      "print \"The answer\", 42"
     ],
     "language": "python",
     "metadata": {},
     "outputs": [
      {
       "output_type": "stream",
       "stream": "stdout",
       "text": [
        "The answer 42\n"
       ]
      }
     ],
     "prompt_number": 26
    },
    {
     "cell_type": "heading",
     "level": 2,
     "metadata": {},
     "source": [
      "Using variables"
     ]
    },
    {
     "cell_type": "markdown",
     "metadata": {},
     "source": [
      "You can assign a value to a variable with the <tt>=</tt> operator"
     ]
    },
    {
     "cell_type": "code",
     "collapsed": false,
     "input": [
      "x = 3\n",
      "print x"
     ],
     "language": "python",
     "metadata": {},
     "outputs": [
      {
       "output_type": "stream",
       "stream": "stdout",
       "text": [
        "3\n"
       ]
      }
     ],
     "prompt_number": 16
    },
    {
     "cell_type": "code",
     "collapsed": false,
     "input": [
      "x = 2 + 2\n",
      "print x"
     ],
     "language": "python",
     "metadata": {},
     "outputs": [
      {
       "output_type": "stream",
       "stream": "stdout",
       "text": [
        "4\n"
       ]
      }
     ],
     "prompt_number": 17
    },
    {
     "cell_type": "code",
     "collapsed": false,
     "input": [
      "x = \"TCCGAGAATATCCGT\"\n",
      "print x"
     ],
     "language": "python",
     "metadata": {},
     "outputs": [
      {
       "output_type": "stream",
       "stream": "stdout",
       "text": [
        "TCCGAGAATATCCGT\n"
       ]
      }
     ],
     "prompt_number": 18
    },
    {
     "cell_type": "markdown",
     "metadata": {},
     "source": [
      "In the interactive interpreter you don't have to <tt>print</tt> everything, if you type a variable name (or just a value), the interpreter will automatically print out what python thinks the value is (this is not the case if your code is in a file)"
     ]
    },
    {
     "cell_type": "code",
     "collapsed": false,
     "input": [
      "3 + 4"
     ],
     "language": "python",
     "metadata": {},
     "outputs": [
      {
       "output_type": "pyout",
       "prompt_number": 19,
       "text": [
        "7"
       ]
      }
     ],
     "prompt_number": 19
    },
    {
     "cell_type": "code",
     "collapsed": false,
     "input": [
      "x"
     ],
     "language": "python",
     "metadata": {},
     "outputs": [
      {
       "output_type": "pyout",
       "prompt_number": 20,
       "text": [
        "'TCCGAGAATATCCGT'"
       ]
      }
     ],
     "prompt_number": 20
    },
    {
     "cell_type": "code",
     "collapsed": false,
     "input": [
      "x = 5\n",
      "3 * x"
     ],
     "language": "python",
     "metadata": {},
     "outputs": [
      {
       "output_type": "pyout",
       "prompt_number": 53,
       "text": [
        "15"
       ]
      }
     ],
     "prompt_number": 53
    },
    {
     "cell_type": "markdown",
     "metadata": {},
     "source": [
      "Variables can be used on the right hand side of an assignment as well"
     ]
    },
    {
     "cell_type": "code",
     "collapsed": false,
     "input": [
      "y = x * 3\n",
      "y"
     ],
     "language": "python",
     "metadata": {},
     "outputs": [
      {
       "output_type": "pyout",
       "prompt_number": 54,
       "text": [
        "15"
       ]
      }
     ],
     "prompt_number": 54
    },
    {
     "cell_type": "markdown",
     "metadata": {},
     "source": [
      "Including the current value of a variable itself"
     ]
    },
    {
     "cell_type": "code",
     "collapsed": false,
     "input": [
      "y = y + 1\n",
      "y"
     ],
     "language": "python",
     "metadata": {},
     "outputs": [
      {
       "output_type": "pyout",
       "prompt_number": 56,
       "text": [
        "17"
       ]
      }
     ],
     "prompt_number": 56
    },
    {
     "cell_type": "heading",
     "level": 2,
     "metadata": {},
     "source": [
      "Simple data types"
     ]
    },
    {
     "cell_type": "markdown",
     "metadata": {},
     "source": [
      "Booleans:"
     ]
    },
    {
     "cell_type": "code",
     "collapsed": false,
     "input": [
      "a = True\n",
      "b = False\n",
      "print b"
     ],
     "language": "python",
     "metadata": {},
     "outputs": [
      {
       "output_type": "stream",
       "stream": "stdout",
       "text": [
        "False\n"
       ]
      }
     ],
     "prompt_number": 23
    },
    {
     "cell_type": "markdown",
     "metadata": {},
     "source": [
      "Integers:"
     ]
    },
    {
     "cell_type": "code",
     "collapsed": false,
     "input": [
      "x = -7\n",
      "y = 123\n",
      "print x, y"
     ],
     "language": "python",
     "metadata": {},
     "outputs": [
      {
       "output_type": "stream",
       "stream": "stdout",
       "text": [
        "-7 123\n"
       ]
      }
     ],
     "prompt_number": 25
    },
    {
     "cell_type": "markdown",
     "metadata": {},
     "source": [
      "Floating point numbers"
     ]
    },
    {
     "cell_type": "code",
     "collapsed": false,
     "input": [
      "i = 3.14159\n",
      "j = -42.3\n",
      "print i * j"
     ],
     "language": "python",
     "metadata": {},
     "outputs": [
      {
       "output_type": "stream",
       "stream": "stdout",
       "text": [
        "-132.889257\n"
       ]
      }
     ],
     "prompt_number": 29
    },
    {
     "cell_type": "markdown",
     "metadata": {},
     "source": [
      "Complex numbers"
     ]
    },
    {
     "cell_type": "code",
     "collapsed": false,
     "input": [
      "m = 3+4j\n",
      "n = 1.2-5.8j\n",
      "print m + n"
     ],
     "language": "python",
     "metadata": {},
     "outputs": [
      {
       "output_type": "stream",
       "stream": "stdout",
       "text": [
        "(4.2-1.8j)\n"
       ]
      }
     ],
     "prompt_number": 30
    },
    {
     "cell_type": "markdown",
     "metadata": {},
     "source": [
      "Strings"
     ]
    },
    {
     "cell_type": "code",
     "collapsed": false,
     "input": [
      "s = \"Ala\"\n",
      "t = \"Arg\"\n",
      "u = \"It's a string with apostrophes\"\n",
      "v = \"\"\"A string that extends\n",
      "over multiple lines\"\"\"\n",
      "print v"
     ],
     "language": "python",
     "metadata": {},
     "outputs": [
      {
       "output_type": "stream",
       "stream": "stdout",
       "text": [
        "A string that extends\n",
        "over multiple lines\n"
       ]
      }
     ],
     "prompt_number": 36
    },
    {
     "cell_type": "markdown",
     "metadata": {},
     "source": [
      "The None object"
     ]
    },
    {
     "cell_type": "code",
     "collapsed": false,
     "input": [
      "z = None\n",
      "print z"
     ],
     "language": "python",
     "metadata": {},
     "outputs": [
      {
       "output_type": "stream",
       "stream": "stdout",
       "text": [
        "None\n"
       ]
      }
     ],
     "prompt_number": 37
    },
    {
     "cell_type": "markdown",
     "metadata": {},
     "source": [
      "You can check what type python thinks an expression is with the <tt>type</tt> function"
     ]
    },
    {
     "cell_type": "code",
     "collapsed": false,
     "input": [
      "print \"a is\", type(a)\n",
      "print \"x is\", type(x)\n",
      "print \"i is\", type(i)\n",
      "print \"m is\", type(m)\n",
      "print \"s is\", type(s)\n",
      "print \"z is\", type(z)"
     ],
     "language": "python",
     "metadata": {},
     "outputs": [
      {
       "output_type": "stream",
       "stream": "stdout",
       "text": [
        "a is <type 'bool'>\n",
        "x is <type 'int'>\n",
        "i is <type 'float'>\n",
        "m is <type 'complex'>\n",
        "s is <type 'str'>\n",
        "z is <type 'NoneType'>\n"
       ]
      }
     ],
     "prompt_number": 39
    },
    {
     "cell_type": "heading",
     "level": 2,
     "metadata": {},
     "source": [
      "Arithmetic"
     ]
    },
    {
     "cell_type": "code",
     "collapsed": false,
     "input": [
      "x + y # addition\n",
      "x - y # subtraction\n",
      "x * y # multiplication\n",
      "x / y # division\n",
      "x // y # floored division\n",
      "x % y # remainder of x/y\n",
      "x ** y # exponentiation\n",
      "pow(x, y) # another way to do exponentiation\n",
      "print (x - y) * 4"
     ],
     "language": "python",
     "metadata": {},
     "outputs": [
      {
       "output_type": "stream",
       "stream": "stdout",
       "text": [
        "-520\n"
       ]
      }
     ],
     "prompt_number": 43
    },
    {
     "cell_type": "markdown",
     "metadata": {},
     "source": [
      "You can mix (some) types in arithmetic expressions and python will apply rules as to the type of the result\n"
     ]
    },
    {
     "cell_type": "code",
     "collapsed": false,
     "input": [
      "13 + 5.0"
     ],
     "language": "python",
     "metadata": {},
     "outputs": [
      {
       "output_type": "pyout",
       "prompt_number": 45,
       "text": [
        "18.0"
       ]
      }
     ],
     "prompt_number": 45
    },
    {
     "cell_type": "markdown",
     "metadata": {},
     "source": [
      "You can force python to use a particular type by _casting_ an expression explicitly, using helpfully named functions: <tt>float</tt>, <tt>int</tt>, <tt>str</tt> etc."
     ]
    },
    {
     "cell_type": "code",
     "collapsed": false,
     "input": [
      "float(3) + float(7)"
     ],
     "language": "python",
     "metadata": {},
     "outputs": [
      {
       "output_type": "pyout",
       "prompt_number": 46,
       "text": [
        "10.0"
       ]
      }
     ],
     "prompt_number": 46
    },
    {
     "cell_type": "code",
     "collapsed": false,
     "input": [
      "int(3.14159) + 1"
     ],
     "language": "python",
     "metadata": {},
     "outputs": [
      {
       "output_type": "pyout",
       "prompt_number": 50,
       "text": [
        "4"
       ]
      }
     ],
     "prompt_number": 50
    },
    {
     "cell_type": "markdown",
     "metadata": {},
     "source": [
      "There are a few shortcut assignment statements to make modifying variables directly faster to type"
     ]
    },
    {
     "cell_type": "code",
     "collapsed": false,
     "input": [
      "x = 3\n",
      "x += 1\n",
      "x"
     ],
     "language": "python",
     "metadata": {},
     "outputs": [
      {
       "output_type": "pyout",
       "prompt_number": 57,
       "text": [
        "4"
       ]
      }
     ],
     "prompt_number": 57
    },
    {
     "cell_type": "code",
     "collapsed": false,
     "input": [
      "y = 10\n",
      "y *= x\n",
      "y"
     ],
     "language": "python",
     "metadata": {},
     "outputs": [
      {
       "output_type": "pyout",
       "prompt_number": 59,
       "text": [
        "40"
       ]
      }
     ],
     "prompt_number": 59
    },
    {
     "cell_type": "markdown",
     "metadata": {},
     "source": [
      "__Exercises__\n",
      "\n",
      "In the interpreter:\n",
      "\n",
      "- Print out the message \"Hello world!\"\n",
      "- Create a variable and assign it the string value of your first name, print out a message that includes this variable\n",
      "- Assign numerical values to 2 variables and then calculate and print out their mean"
     ]
    },
    {
     "cell_type": "heading",
     "level": 2,
     "metadata": {},
     "source": [
      "Collection data types"
     ]
    },
    {
     "cell_type": "markdown",
     "metadata": {},
     "source": [
      "__Tuples__: fixed collections of values of mixed types"
     ]
    },
    {
     "cell_type": "code",
     "collapsed": false,
     "input": [
      "a = (123, 54, 92) # tuple of 4 integers\n",
      "b = () # empty tuple\n",
      "c = (\"Ala\",) # tuple of a single string (note the trailing \",\")\n",
      "d = (2, 3, False, \"Arg\", None) # a tuple of mixed types\n",
      "\n",
      "print d"
     ],
     "language": "python",
     "metadata": {},
     "outputs": [
      {
       "output_type": "stream",
       "stream": "stdout",
       "text": [
        "(2, 3, False, 'Arg', None)\n"
       ]
      }
     ],
     "prompt_number": 2
    },
    {
     "cell_type": "markdown",
     "metadata": {},
     "source": [
      "You can of course use variables in tuples"
     ]
    },
    {
     "cell_type": "code",
     "collapsed": false,
     "input": [
      "x = 1.2\n",
      "y = -0.3\n",
      "z = 0.9\n",
      "t = (x, y, z)\n",
      "\n",
      "print t"
     ],
     "language": "python",
     "metadata": {},
     "outputs": [
      {
       "output_type": "stream",
       "stream": "stdout",
       "text": [
        "(1.2, -0.3, 0.9)\n"
       ]
      }
     ],
     "prompt_number": 3
    },
    {
     "cell_type": "markdown",
     "metadata": {},
     "source": [
      "Tuples can be _packed_ and _unpacked_ with a convenient syntax"
     ]
    },
    {
     "cell_type": "code",
     "collapsed": false,
     "input": [
      "t = 2, 3, 4 # tuple packing\n",
      "print t\n",
      "x, y, z = t # tuple unpacking\n",
      "print z"
     ],
     "language": "python",
     "metadata": {},
     "outputs": [
      {
       "output_type": "stream",
       "stream": "stdout",
       "text": [
        "(2, 3, 4)\n",
        "4\n"
       ]
      }
     ],
     "prompt_number": 5
    },
    {
     "cell_type": "markdown",
     "metadata": {},
     "source": [
      "Tuples _cannot_ be altered once they have been constructed"
     ]
    },
    {
     "cell_type": "code",
     "collapsed": false,
     "input": [
      "t[1] = 4"
     ],
     "language": "python",
     "metadata": {},
     "outputs": [
      {
       "ename": "TypeError",
       "evalue": "'tuple' object does not support item assignment",
       "output_type": "pyerr",
       "traceback": [
        "\u001b[0;31m---------------------------------------------------------------------------\u001b[0m\n\u001b[0;31mTypeError\u001b[0m                                 Traceback (most recent call last)",
        "\u001b[0;32m<ipython-input-6-141c76cb54a2>\u001b[0m in \u001b[0;36m<module>\u001b[0;34m()\u001b[0m\n\u001b[0;32m----> 1\u001b[0;31m \u001b[0mt\u001b[0m\u001b[0;34m[\u001b[0m\u001b[0;36m1\u001b[0m\u001b[0;34m]\u001b[0m \u001b[0;34m=\u001b[0m \u001b[0;36m4\u001b[0m\u001b[0;34m\u001b[0m\u001b[0m\n\u001b[0m",
        "\u001b[0;31mTypeError\u001b[0m: 'tuple' object does not support item assignment"
       ]
      }
     ],
     "prompt_number": 6
    },
    {
     "cell_type": "markdown",
     "metadata": {},
     "source": [
      "__Lists__: mutable collections of values, i.e. lists can be altered once built"
     ]
    },
    {
     "cell_type": "code",
     "collapsed": false,
     "input": [
      "a = [1, 3, 9]\n",
      "b = [\"ATG\"]\n",
      "c = []\n",
      "\n",
      "print b"
     ],
     "language": "python",
     "metadata": {},
     "outputs": [
      {
       "output_type": "stream",
       "stream": "stdout",
       "text": [
        "['ATG', 3]\n"
       ]
      }
     ],
     "prompt_number": 8
    },
    {
     "cell_type": "markdown",
     "metadata": {},
     "source": [
      "You can convert between tuples and lists with the <tt>tuple</tt> and <tt>list</tt> functions"
     ]
    },
    {
     "cell_type": "code",
     "collapsed": false,
     "input": [
      "print t\n",
      "l = list(t)\n",
      "print l\n",
      "t2 = tuple(a)\n",
      "print t2"
     ],
     "language": "python",
     "metadata": {},
     "outputs": [
      {
       "output_type": "stream",
       "stream": "stdout",
       "text": [
        "(2, 3, 4)\n",
        "[2, 3, 4]\n",
        "(1, 3, 9)\n"
       ]
      }
     ],
     "prompt_number": 10
    },
    {
     "cell_type": "markdown",
     "metadata": {},
     "source": [
      "Manipulating tuples and lists: these can be used in very similar ways"
     ]
    },
    {
     "cell_type": "code",
     "collapsed": false,
     "input": [
      "t = (123, 54, 92, 87, 33)\n",
      "x = [123, 54, 92, 87, 33]"
     ],
     "language": "python",
     "metadata": {},
     "outputs": [],
     "prompt_number": 56
    },
    {
     "cell_type": "markdown",
     "metadata": {},
     "source": [
      "Index access: you can access elements of the collection using their _index_, note that the first element is at index 0"
     ]
    },
    {
     "cell_type": "code",
     "collapsed": false,
     "input": [
      "print t[0]\n",
      "print x[-1]"
     ],
     "language": "python",
     "metadata": {},
     "outputs": [
      {
       "output_type": "stream",
       "stream": "stdout",
       "text": [
        "123\n",
        "33\n"
       ]
      }
     ],
     "prompt_number": 35
    },
    {
     "cell_type": "markdown",
     "metadata": {},
     "source": [
      "Slices: you can also access arbitrary subsets of lists and tuples"
     ]
    },
    {
     "cell_type": "code",
     "collapsed": false,
     "input": [
      "print t[1:3]\n",
      "print x[2:]\n",
      "print x[:-1]"
     ],
     "language": "python",
     "metadata": {},
     "outputs": [
      {
       "output_type": "stream",
       "stream": "stdout",
       "text": [
        "(54, 92)\n",
        "[92, 87, 33]\n",
        "[123, 54, 92, 87]\n"
       ]
      }
     ],
     "prompt_number": 37
    },
    {
     "cell_type": "markdown",
     "metadata": {},
     "source": [
      "You can check if a value is in a tuple or list with the <tt>in</tt> operator, and you can negate this with <tt>not</tt>"
     ]
    },
    {
     "cell_type": "code",
     "collapsed": false,
     "input": [
      "print 123 in x\n",
      "print 234 in t\n",
      "print 999 not in x"
     ],
     "language": "python",
     "metadata": {},
     "outputs": [
      {
       "output_type": "stream",
       "stream": "stdout",
       "text": [
        "True\n",
        "False\n",
        "True\n"
       ]
      }
     ],
     "prompt_number": 40
    },
    {
     "cell_type": "markdown",
     "metadata": {},
     "source": [
      "Useful functions and methods"
     ]
    },
    {
     "cell_type": "code",
     "collapsed": false,
     "input": [
      "print \"length of t:\", len(t)\n",
      "print \"number of 33s in x:\", x.count(33)"
     ],
     "language": "python",
     "metadata": {},
     "outputs": [
      {
       "output_type": "stream",
       "stream": "stdout",
       "text": [
        "length of t: 5\n",
        "number of 33s in x: 1\n"
       ]
      }
     ],
     "prompt_number": 42
    },
    {
     "cell_type": "markdown",
     "metadata": {},
     "source": [
      "You can alter lists in place, but not tuples"
     ]
    },
    {
     "cell_type": "code",
     "collapsed": false,
     "input": [
      "print x\n",
      "x[2] = 33\n",
      "print x"
     ],
     "language": "python",
     "metadata": {},
     "outputs": [
      {
       "output_type": "stream",
       "stream": "stdout",
       "text": [
        "[123, 54, 33, 87, 33]\n",
        "[123, 54, 33, 87, 33]\n"
       ]
      }
     ],
     "prompt_number": 49
    },
    {
     "cell_type": "code",
     "collapsed": false,
     "input": [
      "t[2] = 33"
     ],
     "language": "python",
     "metadata": {},
     "outputs": [
      {
       "ename": "TypeError",
       "evalue": "'tuple' object does not support item assignment",
       "output_type": "pyerr",
       "traceback": [
        "\u001b[0;31m---------------------------------------------------------------------------\u001b[0m\n\u001b[0;31mTypeError\u001b[0m                                 Traceback (most recent call last)",
        "\u001b[0;32m<ipython-input-47-9919c86c94e4>\u001b[0m in \u001b[0;36m<module>\u001b[0;34m()\u001b[0m\n\u001b[0;32m----> 1\u001b[0;31m \u001b[0mt\u001b[0m\u001b[0;34m[\u001b[0m\u001b[0;36m2\u001b[0m\u001b[0;34m]\u001b[0m \u001b[0;34m=\u001b[0m \u001b[0;36m33\u001b[0m\u001b[0;34m\u001b[0m\u001b[0m\n\u001b[0m",
        "\u001b[0;31mTypeError\u001b[0m: 'tuple' object does not support item assignment"
       ]
      }
     ],
     "prompt_number": 47
    },
    {
     "cell_type": "markdown",
     "metadata": {},
     "source": [
      "You can add elements to the end of a list with <tt>append</tt>"
     ]
    },
    {
     "cell_type": "code",
     "collapsed": false,
     "input": [
      "x.append(101)\n",
      "print x"
     ],
     "language": "python",
     "metadata": {},
     "outputs": [
      {
       "output_type": "stream",
       "stream": "stdout",
       "text": [
        "[123, 54, 33, 87, 33, 101, 101]\n"
       ]
      }
     ],
     "prompt_number": 52
    },
    {
     "cell_type": "markdown",
     "metadata": {},
     "source": [
      "or insert values at arbitrary positions with <tt>insert</tt>, but you have to supply the desired position as well as the new value"
     ]
    },
    {
     "cell_type": "code",
     "collapsed": false,
     "input": [
      "x.insert(3, 1111)\n",
      "print x"
     ],
     "language": "python",
     "metadata": {},
     "outputs": [
      {
       "output_type": "stream",
       "stream": "stdout",
       "text": [
        "[123, 54, 92, 1111, 87, 33]\n"
       ]
      }
     ],
     "prompt_number": 57
    },
    {
     "cell_type": "markdown",
     "metadata": {},
     "source": [
      "You can remove values with <tt>remove</tt>"
     ]
    },
    {
     "cell_type": "code",
     "collapsed": false,
     "input": [
      "x.remove(123)\n",
      "print x"
     ],
     "language": "python",
     "metadata": {},
     "outputs": [
      {
       "output_type": "stream",
       "stream": "stdout",
       "text": [
        "[54, 33, 87, 33, 101, 101]\n"
       ]
      }
     ],
     "prompt_number": 53
    },
    {
     "cell_type": "markdown",
     "metadata": {},
     "source": [
      "and delete values by index with <tt>del</tt>"
     ]
    },
    {
     "cell_type": "code",
     "collapsed": false,
     "input": [
      "print x\n",
      "del x[0]\n",
      "print x."
     ],
     "language": "python",
     "metadata": {},
     "outputs": [
      {
       "output_type": "stream",
       "stream": "stdout",
       "text": [
        "[123, 54, 1111, 87, 33]\n",
        "[54, 1111, 87, 33]\n"
       ]
      }
     ],
     "prompt_number": 60
    },
    {
     "cell_type": "markdown",
     "metadata": {},
     "source": [
      "You can also extract the final element of a list with <tt>pop</tt>"
     ]
    },
    {
     "cell_type": "code",
     "collapsed": false,
     "input": [
      "print x\n",
      "y = x.pop()\n",
      "print y, x"
     ],
     "language": "python",
     "metadata": {},
     "outputs": [
      {
       "output_type": "stream",
       "stream": "stdout",
       "text": [
        "[54, 1111]\n",
        "1111 [54]\n"
       ]
      }
     ],
     "prompt_number": 71
    },
    {
     "cell_type": "markdown",
     "metadata": {},
     "source": [
      "It's often useful to be able to combine arrays together, which can be done with <tt>extend</tt> (as <tt>append</tt> would add the whole list as a single element in the list)"
     ]
    },
    {
     "cell_type": "code",
     "collapsed": false,
     "input": [
      "a = [1,2,3]\n",
      "b = [4,5,6]\n",
      "a.extend(b)\n",
      "print a"
     ],
     "language": "python",
     "metadata": {},
     "outputs": [
      {
       "output_type": "stream",
       "stream": "stdout",
       "text": [
        "[1, 2, 3, 4, 5, 6]\n"
       ]
      }
     ],
     "prompt_number": 74
    },
    {
     "cell_type": "markdown",
     "metadata": {},
     "source": [
      "Slice syntax can be used to assign subsets of a list"
     ]
    },
    {
     "cell_type": "code",
     "collapsed": false,
     "input": [
      "a[1:3] = [9, 9, 9]\n",
      "print a"
     ],
     "language": "python",
     "metadata": {},
     "outputs": [
      {
       "output_type": "stream",
       "stream": "stdout",
       "text": [
        "[1, 9, 9, 9, 4, 5, 6]\n"
       ]
      }
     ],
     "prompt_number": 75
    },
    {
     "cell_type": "markdown",
     "metadata": {},
     "source": [
      "You can change the order of elements in a list"
     ]
    },
    {
     "cell_type": "code",
     "collapsed": false,
     "input": [
      "a = [1, 3, 5, 4, 2]\n",
      "a.reverse()\n",
      "print a\n",
      "a.sort()\n",
      "print a"
     ],
     "language": "python",
     "metadata": {},
     "outputs": [
      {
       "output_type": "stream",
       "stream": "stdout",
       "text": [
        "[2, 4, 5, 3, 1]\n",
        "[1, 2, 3, 4, 5]\n"
       ]
      }
     ],
     "prompt_number": 77
    },
    {
     "cell_type": "markdown",
     "metadata": {},
     "source": [
      "Note that both of these change the list, if you want a sorted copy of the list, use <tt>sorted</tt>"
     ]
    },
    {
     "cell_type": "code",
     "collapsed": false,
     "input": [
      "a = [2, 5, 7, 1]\n",
      "b = sorted(a)\n",
      "print a\n",
      "print b"
     ],
     "language": "python",
     "metadata": {},
     "outputs": [
      {
       "output_type": "stream",
       "stream": "stdout",
       "text": [
        "[2, 5, 7, 1]\n",
        "[1, 2, 5, 7]\n"
       ]
      }
     ],
     "prompt_number": 78
    },
    {
     "cell_type": "markdown",
     "metadata": {},
     "source": [
      "__Exercises__"
     ]
    },
    {
     "cell_type": "markdown",
     "metadata": {},
     "source": [
      "__String manipulations__\n",
      "\n",
      "Strings are a lot like tuples, and individual characters and substrings can be accessed and manipulated using similar operations\n"
     ]
    },
    {
     "cell_type": "code",
     "collapsed": false,
     "input": [
      "text = \"Hello world!\"\n",
      "print text[0]\n",
      "print text[-2]\n",
      "print text[0:5]\n",
      "print \"world\" in text\n",
      "print \"hello\" in text"
     ],
     "language": "python",
     "metadata": {},
     "outputs": [
      {
       "output_type": "stream",
       "stream": "stdout",
       "text": [
        "H\n",
        "d\n",
        "Hello\n",
        "True\n",
        "False\n"
       ]
      }
     ],
     "prompt_number": 95
    },
    {
     "cell_type": "markdown",
     "metadata": {},
     "source": [
      "There are also some useful extra functions for strings"
     ]
    },
    {
     "cell_type": "code",
     "collapsed": false,
     "input": [],
     "language": "python",
     "metadata": {},
     "outputs": []
    },
    {
     "cell_type": "markdown",
     "metadata": {},
     "source": [
      "__Sets__: unordered collections of unique values"
     ]
    },
    {
     "cell_type": "code",
     "collapsed": false,
     "input": [
      "l = [1,2,3,2,3] # list of 5 values\n",
      "s = set(l) # set of 3 unique values\n",
      "print s\n",
      "e = set() # empty set\n",
      "print e"
     ],
     "language": "python",
     "metadata": {},
     "outputs": [
      {
       "output_type": "stream",
       "stream": "stdout",
       "text": [
        "set([1, 2, 3])\n",
        "set([])\n"
       ]
      }
     ],
     "prompt_number": 81
    },
    {
     "cell_type": "markdown",
     "metadata": {},
     "source": [
      "Sets are very similar to lists and tuples and you can use many of the same operators and functions, except they are inherently unordered, so they don't have an index, and can only contain _unique_ values, so adding a value already in the set will have no effect"
     ]
    },
    {
     "cell_type": "code",
     "collapsed": false,
     "input": [
      "print s\n",
      "print \"number in set:\", len(s)\n",
      "s.add(4)\n",
      "print s\n",
      "s.add(3)"
     ],
     "language": "python",
     "metadata": {},
     "outputs": [
      {
       "output_type": "stream",
       "stream": "stdout",
       "text": [
        "set([1, 2, 3])\n",
        "number in set: 3\n",
        "set([1, 2, 3, 4])\n"
       ]
      }
     ],
     "prompt_number": 82
    },
    {
     "cell_type": "markdown",
     "metadata": {},
     "source": [
      "You can remove specific elements from the set, and you can <tt>pop</tt> off a value, but the value selected will be arbitrary"
     ]
    },
    {
     "cell_type": "code",
     "collapsed": false,
     "input": [
      "s.remove(3)\n",
      "print s\n",
      "e = s.pop()\n",
      "print s"
     ],
     "language": "python",
     "metadata": {},
     "outputs": [
      {
       "output_type": "stream",
       "stream": "stdout",
       "text": [
        "set([1, 2, 4])\n",
        "set([2, 4])\n"
       ]
      }
     ],
     "prompt_number": 83
    },
    {
     "cell_type": "markdown",
     "metadata": {},
     "source": [
      "You can do all the expected logical operations on sets, such as taking the union or intersection of 2 sets with the <tt>|</tt> _or_ and <tt>&</tt> _and_ operators "
     ]
    },
    {
     "cell_type": "code",
     "collapsed": false,
     "input": [
      "s1 = set([2, 4, 6, 8, 10])\n",
      "s2 = set([4,5,6,7])\n",
      "\n",
      "print \"Union:\", s1 | s2\n",
      "print \"Intersection:\", s1 & s2"
     ],
     "language": "python",
     "metadata": {},
     "outputs": [
      {
       "output_type": "stream",
       "stream": "stdout",
       "text": [
        "Union: set([2, 4, 5, 6, 7, 8, 10])\n",
        "Intersection: set([4, 6])\n"
       ]
      }
     ],
     "prompt_number": 88
    },
    {
     "cell_type": "markdown",
     "metadata": {},
     "source": [
      "__Dictionaries__: a mapping of keys to values (like a word and its corresponding definition in a dictionary)"
     ]
    },
    {
     "cell_type": "code",
     "collapsed": false,
     "input": [
      "dna = {\"A\": \"Adenine\", \"C\": \"Cytosine\", \"G\": \"Guanine\", \"T\": \"Thymine\"}\n",
      "print dna"
     ],
     "language": "python",
     "metadata": {},
     "outputs": [
      {
       "output_type": "stream",
       "stream": "stdout",
       "text": [
        "{'A': 'Adenine', 'C': 'Cytosine', 'T': 'Thymine', 'G': 'Guanine'}\n"
       ]
      }
     ],
     "prompt_number": 13
    },
    {
     "cell_type": "markdown",
     "metadata": {},
     "source": [
      "You can access values in a dictionary using the key"
     ]
    },
    {
     "cell_type": "code",
     "collapsed": false,
     "input": [
      "print \"A represents\", dna[\"A\"]\n",
      "print \"G represents\", dna[\"G\"]\n",
      "print \"What about N?\", dna[\"NA\"]"
     ],
     "language": "python",
     "metadata": {},
     "outputs": [
      {
       "ename": "KeyError",
       "evalue": "'NA'",
       "output_type": "pyerr",
       "traceback": [
        "\u001b[0;31m---------------------------------------------------------------------------\u001b[0m\n\u001b[0;31mKeyError\u001b[0m                                  Traceback (most recent call last)",
        "\u001b[0;32m<ipython-input-18-d3e7bfca29e2>\u001b[0m in \u001b[0;36m<module>\u001b[0;34m()\u001b[0m\n\u001b[1;32m      1\u001b[0m \u001b[0;32mprint\u001b[0m \u001b[0;34m\"A represents\"\u001b[0m\u001b[0;34m,\u001b[0m \u001b[0mdna\u001b[0m\u001b[0;34m[\u001b[0m\u001b[0;34m\"A\"\u001b[0m\u001b[0;34m]\u001b[0m\u001b[0;34m\u001b[0m\u001b[0m\n\u001b[1;32m      2\u001b[0m \u001b[0;32mprint\u001b[0m \u001b[0;34m\"G represents\"\u001b[0m\u001b[0;34m,\u001b[0m \u001b[0mdna\u001b[0m\u001b[0;34m[\u001b[0m\u001b[0;34m\"G\"\u001b[0m\u001b[0;34m]\u001b[0m\u001b[0;34m\u001b[0m\u001b[0m\n\u001b[0;32m----> 3\u001b[0;31m \u001b[0;32mprint\u001b[0m \u001b[0;34m\"What about N?\"\u001b[0m\u001b[0;34m,\u001b[0m \u001b[0mdna\u001b[0m\u001b[0;34m[\u001b[0m\u001b[0;34m\"NA\"\u001b[0m\u001b[0;34m]\u001b[0m\u001b[0;34m\u001b[0m\u001b[0m\n\u001b[0m",
        "\u001b[0;31mKeyError\u001b[0m: 'NA'"
       ]
      },
      {
       "output_type": "stream",
       "stream": "stdout",
       "text": [
        " A represents Adenine\n",
        "G represents Guanine\n",
        "What about N?"
       ]
      }
     ],
     "prompt_number": 18
    },
    {
     "cell_type": "markdown",
     "metadata": {},
     "source": [
      "You can access values safely with the <tt>get</tt> method, and you can also supply a default values"
     ]
    },
    {
     "cell_type": "code",
     "collapsed": false,
     "input": [
      "print \"What about N?\", dna.get(\"N\")\n",
      "print \"With a default value:\", dna.get(\"N\", \"unknown\")"
     ],
     "language": "python",
     "metadata": {},
     "outputs": [
      {
       "output_type": "stream",
       "stream": "stdout",
       "text": [
        "What about N? None\n",
        "With a default value: unknown\n"
       ]
      }
     ],
     "prompt_number": 21
    },
    {
     "cell_type": "markdown",
     "metadata": {},
     "source": [
      "You can check if a key is in a dictionary with the <tt>in</tt> operator, and you can negate this with <tt>not</tt>"
     ]
    },
    {
     "cell_type": "code",
     "collapsed": false,
     "input": [
      "\"T\" in dna"
     ],
     "language": "python",
     "metadata": {},
     "outputs": [
      {
       "output_type": "pyout",
       "prompt_number": 26,
       "text": [
        "True"
       ]
      }
     ],
     "prompt_number": 26
    },
    {
     "cell_type": "code",
     "collapsed": false,
     "input": [
      "\"Y\" not in dna"
     ],
     "language": "python",
     "metadata": {},
     "outputs": [
      {
       "output_type": "pyout",
       "prompt_number": 27,
       "text": [
        "True"
       ]
      }
     ],
     "prompt_number": 27
    },
    {
     "cell_type": "markdown",
     "metadata": {},
     "source": []
    },
    {
     "cell_type": "code",
     "collapsed": false,
     "input": [],
     "language": "python",
     "metadata": {},
     "outputs": []
    }
   ],
   "metadata": {}
  }
 ]
}